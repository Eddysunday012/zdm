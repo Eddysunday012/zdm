{
 "cells": [
  {
   "cell_type": "markdown",
   "id": "2529a08c-b172-404d-b579-2d8c425e36fd",
   "metadata": {},
   "source": [
    "# Explore mini cube for the Real data"
   ]
  },
  {
   "cell_type": "code",
   "execution_count": 1,
   "id": "d1f46c34-050f-49b4-9a7f-a40bc185c58c",
   "metadata": {},
   "outputs": [
    {
     "name": "stderr",
     "output_type": "stream",
     "text": [
      "/home/xavier/Projects/FRB_Stuff/FRB/frb/halos/hmf.py:51: UserWarning: hmf_emulator not imported.  Hope you are not intending to use the hmf.py module..\n",
      "  warnings.warn(\"hmf_emulator not imported.  Hope you are not intending to use the hmf.py module..\")\n"
     ]
    }
   ],
   "source": [
    "# imports\n",
    "from importlib import reload\n",
    "import numpy as np\n",
    "import sys, os\n",
    "\n",
    "from zdm import analyze_cube\n",
    "from zdm import iteration as it\n",
    "from zdm import io\n",
    "from zdm.craco import loading\n",
    "\n",
    "\n",
    "sys.path.append(os.path.abspath(\"../../Figures/py\"))\n",
    "import figs_zdm_H0_I"
   ]
  },
  {
   "cell_type": "markdown",
   "id": "c1b22d21-375a-44a8-96fb-cfc9894d4857",
   "metadata": {},
   "source": [
    "# Load"
   ]
  },
  {
   "cell_type": "markdown",
   "id": "8ea262c1-f1e3-4ab4-9568-7962db791f71",
   "metadata": {},
   "source": [
    "## LL "
   ]
  },
  {
   "cell_type": "code",
   "execution_count": 2,
   "id": "f5455945-9ef1-41a5-9f54-d5273f7dd9de",
   "metadata": {},
   "outputs": [],
   "source": [
    "#scube = 'submini'\n",
    "scube = 'mini'"
   ]
  },
  {
   "cell_type": "code",
   "execution_count": 3,
   "id": "6302f3c1-65e5-43ce-9579-7943b2c149c6",
   "metadata": {},
   "outputs": [
    {
     "data": {
      "text/plain": [
       "['ll',\n",
       " 'lC',\n",
       " 'params',\n",
       " 'pzDM',\n",
       " 'pDM',\n",
       " 'pDMz',\n",
       " 'pz',\n",
       " 'lEmax',\n",
       " 'H0',\n",
       " 'alpha',\n",
       " 'gamma',\n",
       " 'sfr_n',\n",
       " 'lmean',\n",
       " 'lsigma',\n",
       " 'lls0',\n",
       " 'P_zDM0',\n",
       " 'P_n0',\n",
       " 'P_s0',\n",
       " 'N0',\n",
       " 'lls1',\n",
       " 'P_zDM1',\n",
       " 'P_n1',\n",
       " 'P_s1',\n",
       " 'N1',\n",
       " 'lls2',\n",
       " 'P_zDM2',\n",
       " 'P_n2',\n",
       " 'P_s2',\n",
       " 'N2',\n",
       " 'lls3',\n",
       " 'P_zDM3',\n",
       " 'P_n3',\n",
       " 'P_s3',\n",
       " 'N3',\n",
       " 'lls4',\n",
       " 'P_zDM4',\n",
       " 'P_n4',\n",
       " 'P_s4',\n",
       " 'N4']"
      ]
     },
     "execution_count": 3,
     "metadata": {},
     "output_type": "execute_result"
    }
   ],
   "source": [
    "npdict = np.load(f'Cubes/real_{scube}_cube.npz')\n",
    "list(npdict.keys())"
   ]
  },
  {
   "cell_type": "code",
   "execution_count": 4,
   "id": "6c3630df-7a96-4f05-9e35-bd859b636241",
   "metadata": {},
   "outputs": [
    {
     "data": {
      "text/plain": [
       "(10, 10, 3, 4, 10, 4, 4)"
      ]
     },
     "execution_count": 4,
     "metadata": {},
     "output_type": "execute_result"
    }
   ],
   "source": [
    "ll_cube = npdict['ll']\n",
    "ll_cube.shape"
   ]
  },
  {
   "cell_type": "markdown",
   "id": "6b6c1186-3293-4678-997a-9736b3455488",
   "metadata": {},
   "source": [
    "## lC"
   ]
  },
  {
   "cell_type": "code",
   "execution_count": 5,
   "id": "b2702409-d34a-43a1-b940-256110fc9096",
   "metadata": {},
   "outputs": [
    {
     "data": {
      "text/plain": [
       "(10, 10, 3, 4, 10, 4, 4)"
      ]
     },
     "execution_count": 5,
     "metadata": {},
     "output_type": "execute_result"
    }
   ],
   "source": [
    "lC_cube = npdict['lC']\n",
    "lC_cube.shape"
   ]
  },
  {
   "cell_type": "markdown",
   "id": "52975bd0-59c4-4353-ab43-dc99d49b6e05",
   "metadata": {},
   "source": [
    "## Deal with NaN"
   ]
  },
  {
   "cell_type": "code",
   "execution_count": 6,
   "id": "a5fca6c3-92a8-4cb5-9c07-98edcea207a7",
   "metadata": {},
   "outputs": [],
   "source": [
    "ll_cube[np.isnan(ll_cube)] = -1e99"
   ]
  },
  {
   "cell_type": "markdown",
   "id": "c320f6dc-5a44-4363-a5dd-f5b0a7e64211",
   "metadata": {},
   "source": [
    "### Check"
   ]
  },
  {
   "cell_type": "code",
   "execution_count": 7,
   "id": "20b08f27-6a51-4bbd-93f1-f4a7889613bc",
   "metadata": {},
   "outputs": [
    {
     "data": {
      "text/plain": [
       "array(['lEmax', 'H0', 'alpha', 'gamma', 'sfr_n', 'lmean', 'lsigma'],\n",
       "      dtype='<U6')"
      ]
     },
     "execution_count": 7,
     "metadata": {},
     "output_type": "execute_result"
    }
   ],
   "source": [
    "params = npdict['params']\n",
    "params"
   ]
  },
  {
   "cell_type": "markdown",
   "id": "33e75e7c-6986-4914-b3c2-1250a1a572e6",
   "metadata": {},
   "source": [
    "## cube parameters"
   ]
  },
  {
   "cell_type": "code",
   "execution_count": 8,
   "id": "2a7858b3-40da-42ce-a0f8-00d0ac82ca79",
   "metadata": {},
   "outputs": [],
   "source": [
    "############## Load up ##############\n",
    "pfile = f'Cubes/real_{scube}_cube.json'\n",
    "input_dict=io.process_jfile(pfile)\n",
    "\n",
    "# Deconstruct the input_dict\n",
    "state_dict, cube_dict, vparam_dict = it.parse_input_dict(input_dict)"
   ]
  },
  {
   "cell_type": "markdown",
   "id": "1da9c551-71b2-49d1-9b41-fd99805685a8",
   "metadata": {},
   "source": [
    "# Run Bayes code -- need to simplify this"
   ]
  },
  {
   "cell_type": "markdown",
   "id": "547d7706-79fe-41c6-b1e6-7c0421c124be",
   "metadata": {},
   "source": [
    "## Offset by max"
   ]
  },
  {
   "cell_type": "code",
   "execution_count": 9,
   "id": "e2387f45-4668-4f87-acc7-5c5164cb5ade",
   "metadata": {},
   "outputs": [
    {
     "data": {
      "text/plain": [
       "0.0"
      ]
     },
     "execution_count": 9,
     "metadata": {},
     "output_type": "execute_result"
    }
   ],
   "source": [
    "ll_cube = ll_cube - np.max(ll_cube)\n",
    "np.max(ll_cube)"
   ]
  },
  {
   "cell_type": "code",
   "execution_count": 10,
   "id": "2a4b134a-1891-42b3-a6ba-267f0e3b29c9",
   "metadata": {},
   "outputs": [],
   "source": [
    "reload(analyze_cube)\n",
    "uvals,vectors,wvectors = analyze_cube.get_bayesian_data(ll_cube)"
   ]
  },
  {
   "cell_type": "code",
   "execution_count": 11,
   "id": "00033734-6699-4d9d-a71b-d03de19218c7",
   "metadata": {},
   "outputs": [
    {
     "data": {
      "text/plain": [
       "7"
      ]
     },
     "execution_count": 11,
     "metadata": {},
     "output_type": "execute_result"
    }
   ],
   "source": [
    "len(uvals)"
   ]
  },
  {
   "cell_type": "code",
   "execution_count": 12,
   "id": "8292f3d5-88b3-4fb5-b0f2-b5877808e92f",
   "metadata": {},
   "outputs": [
    {
     "data": {
      "text/plain": [
       "array([0, 1, 2, 3, 4, 5, 6, 7, 8, 9])"
      ]
     },
     "execution_count": 12,
     "metadata": {},
     "output_type": "execute_result"
    }
   ],
   "source": [
    "uvals[0]"
   ]
  },
  {
   "cell_type": "markdown",
   "id": "76e623a9-b0a6-4ff2-80a5-2ffdc3b9f02c",
   "metadata": {},
   "source": [
    "# Plot"
   ]
  },
  {
   "cell_type": "code",
   "execution_count": 13,
   "id": "e6e955fc-e4e8-4150-82b1-f90a9caf2d73",
   "metadata": {},
   "outputs": [],
   "source": [
    "reload(analyze_cube)\n",
    "analyze_cube.do_single_plots(uvals,vectors,wvectors, params, vparams_dict=vparam_dict, outdir='Mini/')"
   ]
  },
  {
   "cell_type": "markdown",
   "id": "243449d2-00cc-490f-8bc7-3c94711a7a10",
   "metadata": {},
   "source": [
    "----"
   ]
  },
  {
   "cell_type": "code",
   "execution_count": null,
   "id": "935bbe7e-d1e2-4fd3-b8a4-de788b86957c",
   "metadata": {},
   "outputs": [],
   "source": []
  }
 ],
 "metadata": {
  "kernelspec": {
   "display_name": "Python 3 (ipykernel)",
   "language": "python",
   "name": "python3"
  },
  "language_info": {
   "codemirror_mode": {
    "name": "ipython",
    "version": 3
   },
   "file_extension": ".py",
   "mimetype": "text/x-python",
   "name": "python",
   "nbconvert_exporter": "python",
   "pygments_lexer": "ipython3",
   "version": "3.9.7"
  }
 },
 "nbformat": 4,
 "nbformat_minor": 5
}

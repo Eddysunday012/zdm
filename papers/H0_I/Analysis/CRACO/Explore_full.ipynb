{
 "cells": [
  {
   "cell_type": "markdown",
   "id": "bbd89c4c-2971-471b-97e5-46e60ab8c45e",
   "metadata": {},
   "source": [
    "# Explore Full"
   ]
  },
  {
   "cell_type": "code",
   "execution_count": 1,
   "id": "b8f6d35d-0b2b-4696-ad00-294cfd25d7d1",
   "metadata": {},
   "outputs": [
    {
     "name": "stderr",
     "output_type": "stream",
     "text": [
      "/data/Projects/FRB_Software/FRB/frb/halos/hmf.py:51: UserWarning: hmf_emulator not imported.  Hope you are not intending to use the hmf.py module..\n",
      "  warnings.warn(\"hmf_emulator not imported.  Hope you are not intending to use the hmf.py module..\")\n"
     ]
    }
   ],
   "source": [
    "# imports\n",
    "from importlib import reload\n",
    "import numpy as np\n",
    "import sys, os\n",
    "\n",
    "from zdm import analyze_cube\n",
    "from zdm import iteration as it\n",
    "from zdm import io\n",
    "from zdm.craco import loading\n",
    "\n",
    "\n",
    "sys.path.append(os.path.abspath(\"../../Figures/py\"))\n",
    "import figs_zdm_H0_I"
   ]
  },
  {
   "cell_type": "markdown",
   "id": "dbd6a887-5c37-4537-acbf-a4d03d496f28",
   "metadata": {},
   "source": [
    "# Load"
   ]
  },
  {
   "cell_type": "code",
   "execution_count": 2,
   "id": "7f048f20-499b-4754-bdfc-02edc0221fd5",
   "metadata": {},
   "outputs": [],
   "source": [
    "scube = 'full'"
   ]
  },
  {
   "cell_type": "code",
   "execution_count": 3,
   "id": "ed1ec1c5-9027-4973-9c5d-e1f2021558d8",
   "metadata": {},
   "outputs": [
    {
     "data": {
      "text/plain": [
       "['ll',\n",
       " 'lC',\n",
       " 'params',\n",
       " 'pzDM',\n",
       " 'pDM',\n",
       " 'pDMz',\n",
       " 'pz',\n",
       " 'lEmax',\n",
       " 'H0',\n",
       " 'alpha',\n",
       " 'gamma',\n",
       " 'sfr_n',\n",
       " 'lmean',\n",
       " 'lsigma',\n",
       " 'lls0',\n",
       " 'P_zDM0',\n",
       " 'P_n0',\n",
       " 'P_s0',\n",
       " 'N0']"
      ]
     },
     "execution_count": 3,
     "metadata": {},
     "output_type": "execute_result"
    }
   ],
   "source": [
    "npdict = np.load(f'Cubes/craco_{scube}_cube.npz')\n",
    "list(npdict.keys())"
   ]
  },
  {
   "cell_type": "markdown",
   "id": "aafbde09-2cd4-435b-989e-68209ce21016",
   "metadata": {},
   "source": [
    "## LL"
   ]
  },
  {
   "cell_type": "code",
   "execution_count": 4,
   "id": "d38f616c-0fbd-4648-bfa2-16c0bb0529ef",
   "metadata": {},
   "outputs": [
    {
     "data": {
      "text/plain": [
       "(50, 25, 5, 10, 20, 10, 10)"
      ]
     },
     "execution_count": 4,
     "metadata": {},
     "output_type": "execute_result"
    }
   ],
   "source": [
    "ll_cube = npdict['ll']\n",
    "ll_cube.shape"
   ]
  },
  {
   "cell_type": "code",
   "execution_count": 5,
   "id": "ab271c89-b41a-41ac-bfd6-1d939ba97910",
   "metadata": {},
   "outputs": [],
   "source": [
    "ll_cube[np.isnan(ll_cube)] = -1e99"
   ]
  },
  {
   "cell_type": "code",
   "execution_count": 6,
   "id": "0c989b75-a64e-4485-8c1a-b5194517a732",
   "metadata": {},
   "outputs": [
    {
     "data": {
      "text/plain": [
       "-579.9777564858914"
      ]
     },
     "execution_count": 6,
     "metadata": {},
     "output_type": "execute_result"
    }
   ],
   "source": [
    "np.max(ll_cube)"
   ]
  },
  {
   "cell_type": "markdown",
   "id": "5b03672e-a847-4c65-b2df-77ae3e91be7a",
   "metadata": {},
   "source": [
    "## C"
   ]
  },
  {
   "cell_type": "code",
   "execution_count": 7,
   "id": "d101bc50-5042-41c2-9616-a782bd0b487b",
   "metadata": {},
   "outputs": [
    {
     "data": {
      "text/plain": [
       "(50, 25, 5, 10, 20, 10, 10)"
      ]
     },
     "execution_count": 7,
     "metadata": {},
     "output_type": "execute_result"
    }
   ],
   "source": [
    "lC_cube = npdict['lC']\n",
    "lC_cube.shape"
   ]
  },
  {
   "cell_type": "markdown",
   "id": "f2baf99a-6795-4f80-8a32-5998a550cfff",
   "metadata": {},
   "source": [
    "## Cube"
   ]
  },
  {
   "cell_type": "code",
   "execution_count": 8,
   "id": "b6ccd402-0637-443e-8248-bdb2429c926e",
   "metadata": {},
   "outputs": [],
   "source": [
    "############## Load up ##############\n",
    "pfile = f'Cubes/craco_{scube}_cube.json'\n",
    "input_dict=io.process_jfile(pfile)\n",
    "\n",
    "# Deconstruct the input_dict\n",
    "state_dict, cube_dict, vparam_dict = it.parse_input_dict(input_dict)"
   ]
  },
  {
   "cell_type": "markdown",
   "id": "01acd5da-b3e8-493d-923c-b75f1ec4d4af",
   "metadata": {},
   "source": [
    "## Params"
   ]
  },
  {
   "cell_type": "code",
   "execution_count": 9,
   "id": "2ae52fd1-2b8a-40fe-ba30-08a4ca937061",
   "metadata": {},
   "outputs": [
    {
     "data": {
      "text/plain": [
       "array(['lEmax', 'H0', 'alpha', 'gamma', 'sfr_n', 'lmean', 'lsigma'],\n",
       "      dtype='<U6')"
      ]
     },
     "execution_count": 9,
     "metadata": {},
     "output_type": "execute_result"
    }
   ],
   "source": [
    "params = npdict['params']\n",
    "params"
   ]
  },
  {
   "cell_type": "markdown",
   "id": "e5359fe6-f759-403c-8273-fba5a2a99fad",
   "metadata": {},
   "source": [
    "# Bayes code"
   ]
  },
  {
   "cell_type": "code",
   "execution_count": 10,
   "id": "7d95762c-d142-43cd-b474-6e076be3a48d",
   "metadata": {},
   "outputs": [
    {
     "data": {
      "text/plain": [
       "0.0"
      ]
     },
     "execution_count": 10,
     "metadata": {},
     "output_type": "execute_result"
    }
   ],
   "source": [
    "ll_cube = ll_cube - np.max(ll_cube)\n",
    "np.max(ll_cube)"
   ]
  },
  {
   "cell_type": "code",
   "execution_count": 11,
   "id": "745b461e-4828-46d9-a4ac-3bdac1371d75",
   "metadata": {},
   "outputs": [
    {
     "data": {
      "text/plain": [
       "125000000"
      ]
     },
     "execution_count": 11,
     "metadata": {},
     "output_type": "execute_result"
    }
   ],
   "source": [
    "np.sum(np.isfinite(ll_cube))"
   ]
  },
  {
   "cell_type": "markdown",
   "id": "c619390c-8ba6-4c75-a921-6af9af61a554",
   "metadata": {},
   "source": [
    "## Run it"
   ]
  },
  {
   "cell_type": "code",
   "execution_count": 13,
   "id": "0d9b7e0f-8f59-430f-bbbe-94a6fdcdac22",
   "metadata": {},
   "outputs": [],
   "source": [
    "reload(analyze_cube)\n",
    "uvals,vectors,wvectors = analyze_cube.get_bayesian_data(ll_cube)"
   ]
  },
  {
   "cell_type": "code",
   "execution_count": 14,
   "id": "104743d5-7796-47ee-8830-fe10002692f1",
   "metadata": {},
   "outputs": [
    {
     "data": {
      "text/plain": [
       "7"
      ]
     },
     "execution_count": 14,
     "metadata": {},
     "output_type": "execute_result"
    }
   ],
   "source": [
    "len(uvals)"
   ]
  },
  {
   "cell_type": "code",
   "execution_count": 15,
   "id": "421e8702-9b38-4d6f-880e-65afe6ed3214",
   "metadata": {},
   "outputs": [
    {
     "data": {
      "text/plain": [
       "array([ 0,  1,  2,  3,  4,  5,  6,  7,  8,  9, 10, 11, 12, 13, 14, 15, 16,\n",
       "       17, 18, 19, 20, 21, 22, 23, 24, 25, 26, 27, 28, 29, 30, 31, 32, 33,\n",
       "       34, 35, 36, 37, 38, 39, 40, 41, 42, 43, 44, 45, 46, 47, 48, 49])"
      ]
     },
     "execution_count": 15,
     "metadata": {},
     "output_type": "execute_result"
    }
   ],
   "source": [
    "uvals[0]"
   ]
  },
  {
   "cell_type": "markdown",
   "id": "15cc98b3-7c4d-4a00-accf-3e1259ec08f5",
   "metadata": {},
   "source": [
    "# Plot"
   ]
  },
  {
   "cell_type": "code",
   "execution_count": 16,
   "id": "2c409f0c-f6fa-4b03-bc7a-bdbe1f2032fd",
   "metadata": {},
   "outputs": [],
   "source": [
    "reload(analyze_cube)\n",
    "analyze_cube.do_single_plots(uvals,vectors,wvectors, params, \n",
    "                             vparams_dict=vparam_dict, outdir='Full/')"
   ]
  },
  {
   "cell_type": "code",
   "execution_count": null,
   "id": "a0d0833a-3da4-4923-b6d1-0757ea855a29",
   "metadata": {},
   "outputs": [],
   "source": []
  }
 ],
 "metadata": {
  "kernelspec": {
   "display_name": "Python 3 (ipykernel)",
   "language": "python",
   "name": "python3"
  },
  "language_info": {
   "codemirror_mode": {
    "name": "ipython",
    "version": 3
   },
   "file_extension": ".py",
   "mimetype": "text/x-python",
   "name": "python",
   "nbconvert_exporter": "python",
   "pygments_lexer": "ipython3",
   "version": "3.9.9"
  }
 },
 "nbformat": 4,
 "nbformat_minor": 5
}

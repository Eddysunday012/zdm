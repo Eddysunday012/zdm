{
 "cells": [
  {
   "cell_type": "markdown",
   "id": "65478484-7ecc-4b88-8fa5-251392178f26",
   "metadata": {},
   "source": [
    "# Emax vs $\\alpha$"
   ]
  },
  {
   "cell_type": "code",
   "execution_count": 1,
   "id": "2aad301d-9730-44c5-ab28-42e43a70796c",
   "metadata": {},
   "outputs": [
    {
     "name": "stderr",
     "output_type": "stream",
     "text": [
      "/data/Projects/FRB_Software/FRB/frb/halos/hmf.py:51: UserWarning: hmf_emulator not imported.  Hope you are not intending to use the hmf.py module..\n",
      "  warnings.warn(\"hmf_emulator not imported.  Hope you are not intending to use the hmf.py module..\")\n"
     ]
    }
   ],
   "source": [
    "# imports\n",
    "from importlib import reload\n",
    "import numpy as np\n",
    "\n",
    "from matplotlib import pyplot as plt\n",
    "\n",
    "from zdm.craco import loading\n",
    "\n",
    "from zdm import iteration as it\n",
    "from zdm import io\n",
    "\n",
    "import figs_zdm_H0_I"
   ]
  },
  {
   "cell_type": "markdown",
   "id": "d41d31e7-1b2d-4381-9031-647b115d2a9e",
   "metadata": {},
   "source": [
    "# Load"
   ]
  },
  {
   "cell_type": "code",
   "execution_count": 2,
   "id": "be2361d5-d644-42b9-82e6-10ff5b0bfa39",
   "metadata": {},
   "outputs": [],
   "source": [
    "cube_out = np.load('../Analysis/Cubes/craco_alpha_Emax_cube.npz')\n",
    "#cube_out = np.load('../Analysis/Cubes/craco_submini_cube.npz')  # Only for a bit of testing"
   ]
  },
  {
   "cell_type": "code",
   "execution_count": 3,
   "id": "d51e7751-c115-4ef7-9dba-c3c5c9ebbee9",
   "metadata": {},
   "outputs": [],
   "source": [
    "ll = cube_out['ll']"
   ]
  },
  {
   "cell_type": "markdown",
   "id": "67d4d522-cd0f-40f8-99ca-bff7c76946a5",
   "metadata": {},
   "source": [
    "# Fuss a bit"
   ]
  },
  {
   "cell_type": "code",
   "execution_count": 4,
   "id": "34eb2d4d-7d19-49d6-bda7-40bf94dc096d",
   "metadata": {},
   "outputs": [],
   "source": [
    "ll[np.isnan(ll)] = -1e99"
   ]
  },
  {
   "cell_type": "code",
   "execution_count": 5,
   "id": "4345d3e1-2c32-4079-98be-af3b86d18cd1",
   "metadata": {},
   "outputs": [
    {
     "data": {
      "text/plain": [
       "-568.63"
      ]
     },
     "execution_count": 5,
     "metadata": {},
     "output_type": "execute_result"
    }
   ],
   "source": [
    "ll.max()"
   ]
  },
  {
   "cell_type": "code",
   "execution_count": 7,
   "id": "c3fe7305-4921-481c-9874-ef751936d5b0",
   "metadata": {},
   "outputs": [],
   "source": [
    "lEmax = cube_out['lEmax']\n",
    "alpha = cube_out['alpha']\n",
    "#\n",
    "dE = lEmax[1]-lEmax[0]\n",
    "dalpha = alpha[1] - alpha[0]"
   ]
  },
  {
   "cell_type": "code",
   "execution_count": 8,
   "id": "45b3dcee-ca28-4a4f-a788-c4eb55326b85",
   "metadata": {},
   "outputs": [],
   "source": [
    "ll -= ll.max()"
   ]
  },
  {
   "cell_type": "code",
   "execution_count": 9,
   "id": "b7dce959-f07e-40f5-bfc6-113b779729d4",
   "metadata": {},
   "outputs": [
    {
     "data": {
      "text/plain": [
       "(40.5, 42.5)"
      ]
     },
     "execution_count": 9,
     "metadata": {},
     "output_type": "execute_result"
    }
   ],
   "source": [
    "lEmax.min(), lEmax.max()"
   ]
  },
  {
   "cell_type": "code",
   "execution_count": 10,
   "id": "416ea7f3-c7d8-458a-8458-a0b5799bae3f",
   "metadata": {},
   "outputs": [
    {
     "data": {
      "text/plain": [
       "(0.2, 4.0)"
      ]
     },
     "execution_count": 10,
     "metadata": {},
     "output_type": "execute_result"
    }
   ],
   "source": [
    "alpha.min(), alpha.max()"
   ]
  },
  {
   "cell_type": "markdown",
   "id": "b44829bf-ee31-4a06-91e1-f13227000a64",
   "metadata": {},
   "source": [
    "# Plot"
   ]
  },
  {
   "cell_type": "code",
   "execution_count": 12,
   "id": "221435ff-d842-497a-bc01-21a3a256f89b",
   "metadata": {},
   "outputs": [
    {
     "data": {
      "image/png": "[encoded data removed]",
      "text/plain": [
       "<Figure size 576x576 with 2 Axes>"
      ]
     },
     "metadata": {
      "needs_background": "light"
     },
     "output_type": "display_data"
    }
   ],
   "source": [
    "plt.figure(figsize=(8,8))\n",
    "plt.clf()\n",
    "ax = plt.gca()\n",
    "\n",
    "im=plt.imshow(ll.T,cmap='jet',origin='lower', \n",
    "                  interpolation='None', extent=[lEmax.min()-dE/2, lEmax.max()+dE/2, alpha.min()-dalpha/2, alpha.max()+dalpha/2],\n",
    "              aspect='auto', vmin=-4.\n",
    "             )#aspect=aspect)\n",
    "# Color bar\n",
    "cbar=plt.colorbar(im,fraction=0.046, shrink=1.2,aspect=15,pad=0.05)\n",
    "cbar.set_label(r'$\\Delta$ Log10 Likelihood')\n",
    "#\n",
    "ax.set_xlabel('log Emax')\n",
    "ax.set_ylabel(r'$\\alpha$')\n",
    "plt.savefig('fig_alpha_vs_Emax.png', dpi=200)\n",
    "plt.show()"
   ]
  },
  {
   "cell_type": "markdown",
   "id": "e50bd528-1f43-4a4f-ae4a-2aff714b4dd6",
   "metadata": {},
   "source": [
    "----"
   ]
  },
  {
   "cell_type": "code",
   "execution_count": null,
   "id": "757b4c8a-f811-4e91-823a-742a4bc2ae6f",
   "metadata": {},
   "outputs": [],
   "source": []
  }
 ],
 "metadata": {
  "kernelspec": {
   "display_name": "Python 3 (ipykernel)",
   "language": "python",
   "name": "python3"
  },
  "language_info": {
   "codemirror_mode": {
    "name": "ipython",
    "version": 3
   },
   "file_extension": ".py",
   "mimetype": "text/x-python",
   "name": "python",
   "nbconvert_exporter": "python",
   "pygments_lexer": "ipython3",
   "version": "3.9.9"
  }
 },
 "nbformat": 4,
 "nbformat_minor": 5
}

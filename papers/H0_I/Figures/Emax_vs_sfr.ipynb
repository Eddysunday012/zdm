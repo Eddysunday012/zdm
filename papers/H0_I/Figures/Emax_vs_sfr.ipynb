{
 "cells": [
  {
   "cell_type": "markdown",
   "id": "65478484-7ecc-4b88-8fa5-251392178f26",
   "metadata": {},
   "source": [
    "# Emax vs sfr_n"
   ]
  },
  {
   "cell_type": "code",
   "execution_count": 2,
   "id": "2aad301d-9730-44c5-ab28-42e43a70796c",
   "metadata": {},
   "outputs": [],
   "source": [
    "# imports\n",
    "import numpy as np\n",
    "\n",
    "from matplotlib import pyplot as plt"
   ]
  },
  {
   "cell_type": "markdown",
   "id": "d41d31e7-1b2d-4381-9031-647b115d2a9e",
   "metadata": {},
   "source": [
    "# Load"
   ]
  },
  {
   "cell_type": "code",
   "execution_count": 5,
   "id": "be2361d5-d644-42b9-82e6-10ff5b0bfa39",
   "metadata": {},
   "outputs": [],
   "source": [
    "cube_out = np.load('../Analysis/Cubes/craco_sfr_Emax_cube.npz')"
   ]
  },
  {
   "cell_type": "code",
   "execution_count": 6,
   "id": "d51e7751-c115-4ef7-9dba-c3c5c9ebbee9",
   "metadata": {},
   "outputs": [],
   "source": [
    "ll = cube_out['ll']"
   ]
  },
  {
   "cell_type": "code",
   "execution_count": 7,
   "id": "c3fe7305-4921-481c-9874-ef751936d5b0",
   "metadata": {},
   "outputs": [],
   "source": [
    "lEmax = cube_out['lEmax']\n",
    "sfr = cube_out['sfr_n']\n",
    "#\n",
    "dE = lEmax[1]-lEmax[0]\n",
    "dsfr = sfr[1] - sfr[0]"
   ]
  },
  {
   "cell_type": "code",
   "execution_count": 8,
   "id": "45b3dcee-ca28-4a4f-a788-c4eb55326b85",
   "metadata": {},
   "outputs": [],
   "source": [
    "ll -= ll.max()"
   ]
  },
  {
   "cell_type": "code",
   "execution_count": 12,
   "id": "b7dce959-f07e-40f5-bfc6-113b779729d4",
   "metadata": {},
   "outputs": [
    {
     "data": {
      "text/plain": [
       "(40.5, 42.5)"
      ]
     },
     "execution_count": 12,
     "metadata": {},
     "output_type": "execute_result"
    }
   ],
   "source": [
    "lEmax.min(), lEmax.max()"
   ]
  },
  {
   "cell_type": "code",
   "execution_count": 11,
   "id": "416ea7f3-c7d8-458a-8458-a0b5799bae3f",
   "metadata": {},
   "outputs": [
    {
     "data": {
      "text/plain": [
       "(0.0, 4.0)"
      ]
     },
     "execution_count": 11,
     "metadata": {},
     "output_type": "execute_result"
    }
   ],
   "source": [
    "sfr.min(), sfr.max()"
   ]
  },
  {
   "cell_type": "markdown",
   "id": "b44829bf-ee31-4a06-91e1-f13227000a64",
   "metadata": {},
   "source": [
    "# Plot"
   ]
  },
  {
   "cell_type": "code",
   "execution_count": 15,
   "id": "221435ff-d842-497a-bc01-21a3a256f89b",
   "metadata": {},
   "outputs": [
    {
     "data": {
      "image/png": "[encoded data removed]",
      "text/plain": [
       "<Figure size 432x288 with 2 Axes>"
      ]
     },
     "metadata": {
      "needs_background": "light"
     },
     "output_type": "display_data"
    }
   ],
   "source": [
    "plt.clf()\n",
    "ax = plt.gca()\n",
    "\n",
    "im=plt.imshow(ll.T,cmap='jet',origin='lower', \n",
    "                  interpolation='None', extent=[40.5-dE/2, 42.5+dE/2, 0.-dsfr/2, 4+dsfr/2],\n",
    "              aspect='auto', vmin=-4.\n",
    "             )#aspect=aspect)\n",
    "# Color bar\n",
    "cbar=plt.colorbar(im,fraction=0.046, shrink=1.2,aspect=15,pad=0.05)\n",
    "cbar.set_label(r'$\\Delta$ Log10 Likelihood')\n",
    "#\n",
    "ax.set_xlabel('log Emax')\n",
    "ax.set_ylabel('sfr_n')\n",
    "plt.savefig('fig_sfr_vs_Emax.png', dpi=200)\n",
    "plt.show()"
   ]
  },
  {
   "cell_type": "code",
   "execution_count": null,
   "id": "a3c239e5-201b-4077-ba6f-835a7addeab3",
   "metadata": {},
   "outputs": [],
   "source": []
  }
 ],
 "metadata": {
  "kernelspec": {
   "display_name": "Python 3 (ipykernel)",
   "language": "python",
   "name": "python3"
  },
  "language_info": {
   "codemirror_mode": {
    "name": "ipython",
    "version": 3
   },
   "file_extension": ".py",
   "mimetype": "text/x-python",
   "name": "python",
   "nbconvert_exporter": "python",
   "pygments_lexer": "ipython3",
   "version": "3.9.9"
  }
 },
 "nbformat": 4,
 "nbformat_minor": 5
}

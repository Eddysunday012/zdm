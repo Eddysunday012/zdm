{
 "cells": [
  {
   "cell_type": "markdown",
   "id": "075c1d1b",
   "metadata": {},
   "source": [
    "# H0 vs Emax"
   ]
  },
  {
   "cell_type": "code",
   "execution_count": 1,
   "id": "1a0840ae",
   "metadata": {},
   "outputs": [],
   "source": [
    "# import\n",
    "import numpy as np\n",
    "\n",
    "from matplotlib import pyplot as plt"
   ]
  },
  {
   "cell_type": "markdown",
   "id": "d0da533b",
   "metadata": {},
   "source": [
    "# Load"
   ]
  },
  {
   "cell_type": "code",
   "execution_count": 15,
   "id": "c371ddde",
   "metadata": {},
   "outputs": [],
   "source": [
    "cube_out = np.load('../Analysis/Cubes/craco_H0_Emax_cube.npz')"
   ]
  },
  {
   "cell_type": "code",
   "execution_count": 16,
   "id": "038fe6ce",
   "metadata": {},
   "outputs": [],
   "source": [
    "ll = cube_out['ll']"
   ]
  },
  {
   "cell_type": "code",
   "execution_count": 17,
   "id": "aba5a902",
   "metadata": {},
   "outputs": [
    {
     "data": {
      "text/plain": [
       "(50, 50)"
      ]
     },
     "execution_count": 17,
     "metadata": {},
     "output_type": "execute_result"
    }
   ],
   "source": [
    "ll.shape"
   ]
  },
  {
   "cell_type": "code",
   "execution_count": 18,
   "id": "f339eebb",
   "metadata": {},
   "outputs": [],
   "source": [
    "lEmax = cube_out['lEmax']\n",
    "H0 = cube_out['H0']\n",
    "#\n",
    "dE = lEmax[1]-lEmax[0]\n",
    "dH = H0[1] - H0[0]"
   ]
  },
  {
   "cell_type": "code",
   "execution_count": 19,
   "id": "6d4cfe46-f069-4bdd-b0f4-282ba9cbb986",
   "metadata": {},
   "outputs": [
    {
     "data": {
      "text/plain": [
       "array([40.5       , 40.54081633, 40.58163265, 40.62244898, 40.66326531,\n",
       "       40.70408163, 40.74489796, 40.78571429, 40.82653061, 40.86734694,\n",
       "       40.90816327, 40.94897959, 40.98979592, 41.03061224, 41.07142857,\n",
       "       41.1122449 , 41.15306122, 41.19387755, 41.23469388, 41.2755102 ,\n",
       "       41.31632653, 41.35714286, 41.39795918, 41.43877551, 41.47959184,\n",
       "       41.52040816, 41.56122449, 41.60204082, 41.64285714, 41.68367347,\n",
       "       41.7244898 , 41.76530612, 41.80612245, 41.84693878, 41.8877551 ,\n",
       "       41.92857143, 41.96938776, 42.01020408, 42.05102041, 42.09183673,\n",
       "       42.13265306, 42.17346939, 42.21428571, 42.25510204, 42.29591837,\n",
       "       42.33673469, 42.37755102, 42.41836735, 42.45918367, 42.5       ])"
      ]
     },
     "execution_count": 19,
     "metadata": {},
     "output_type": "execute_result"
    }
   ],
   "source": [
    "lEmax"
   ]
  },
  {
   "cell_type": "code",
   "execution_count": 20,
   "id": "5abae9d9-254d-4346-a77e-ae65ed1f90f9",
   "metadata": {},
   "outputs": [
    {
     "data": {
      "text/plain": [
       "array([55.        , 55.51020408, 56.02040816, 56.53061224, 57.04081633,\n",
       "       57.55102041, 58.06122449, 58.57142857, 59.08163265, 59.59183673,\n",
       "       60.10204082, 60.6122449 , 61.12244898, 61.63265306, 62.14285714,\n",
       "       62.65306122, 63.16326531, 63.67346939, 64.18367347, 64.69387755,\n",
       "       65.20408163, 65.71428571, 66.2244898 , 66.73469388, 67.24489796,\n",
       "       67.75510204, 68.26530612, 68.7755102 , 69.28571429, 69.79591837,\n",
       "       70.30612245, 70.81632653, 71.32653061, 71.83673469, 72.34693878,\n",
       "       72.85714286, 73.36734694, 73.87755102, 74.3877551 , 74.89795918,\n",
       "       75.40816327, 75.91836735, 76.42857143, 76.93877551, 77.44897959,\n",
       "       77.95918367, 78.46938776, 78.97959184, 79.48979592, 80.        ])"
      ]
     },
     "execution_count": 20,
     "metadata": {},
     "output_type": "execute_result"
    }
   ],
   "source": [
    "H0"
   ]
  },
  {
   "cell_type": "markdown",
   "id": "76d88858",
   "metadata": {},
   "source": [
    "# Normalize"
   ]
  },
  {
   "cell_type": "code",
   "execution_count": 21,
   "id": "0b2ef846",
   "metadata": {},
   "outputs": [],
   "source": [
    "ll -= ll.max()"
   ]
  },
  {
   "cell_type": "markdown",
   "id": "fad3cf0e",
   "metadata": {},
   "source": [
    "# Plot"
   ]
  },
  {
   "cell_type": "code",
   "execution_count": 22,
   "id": "622bc4e4",
   "metadata": {},
   "outputs": [
    {
     "data": {
      "image/png": "[encoded data removed]",
      "text/plain": [
       "<Figure size 432x288 with 2 Axes>"
      ]
     },
     "metadata": {
      "needs_background": "light"
     },
     "output_type": "display_data"
    }
   ],
   "source": [
    "plt.clf()\n",
    "ax = plt.gca()\n",
    "\n",
    "im=plt.imshow(ll.T,cmap='jet',origin='lower', \n",
    "                  interpolation='None', extent=[40.5-dE/2, 42.5+dE/2, 55.-dH/2, 80+dH/2],\n",
    "              aspect='auto', vmin=-4.\n",
    "             )#aspect=aspect)\n",
    "# Color bar\n",
    "cbar=plt.colorbar(im,fraction=0.046, shrink=1.2,aspect=15,pad=0.05)\n",
    "cbar.set_label(r'$\\Delta$ Log10 Likelihood')\n",
    "#\n",
    "ax.set_xlabel('log Emax')\n",
    "ax.set_ylabel('H0 (km/s/Mpc)')\n",
    "plt.savefig('fig_H0_vs_Emax.png', dpi=200)\n",
    "plt.show()"
   ]
  },
  {
   "cell_type": "code",
   "execution_count": null,
   "id": "111ec4c0",
   "metadata": {},
   "outputs": [],
   "source": []
  },
  {
   "cell_type": "code",
   "execution_count": null,
   "id": "b5c0ecab",
   "metadata": {},
   "outputs": [],
   "source": []
  }
 ],
 "metadata": {
  "kernelspec": {
   "display_name": "Python 3 (ipykernel)",
   "language": "python",
   "name": "python3"
  },
  "language_info": {
   "codemirror_mode": {
    "name": "ipython",
    "version": 3
   },
   "file_extension": ".py",
   "mimetype": "text/x-python",
   "name": "python",
   "nbconvert_exporter": "python",
   "pygments_lexer": "ipython3",
   "version": "3.9.9"
  }
 },
 "nbformat": 4,
 "nbformat_minor": 5
}

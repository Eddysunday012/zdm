{
 "cells": [
  {
   "cell_type": "markdown",
   "id": "075c1d1b",
   "metadata": {},
   "source": [
    "# H0 vs Emax"
   ]
  },
  {
   "cell_type": "code",
   "execution_count": 35,
   "id": "1a0840ae",
   "metadata": {},
   "outputs": [],
   "source": [
    "# import\n",
    "import numpy as np\n",
    "\n",
    "from matplotlib import pyplot as plt"
   ]
  },
  {
   "cell_type": "markdown",
   "id": "d0da533b",
   "metadata": {},
   "source": [
    "# Load"
   ]
  },
  {
   "cell_type": "code",
   "execution_count": 36,
   "id": "c371ddde",
   "metadata": {},
   "outputs": [],
   "source": [
    "cube_out = np.load('../Analysis/Cubes/craco_H0_Emax_cube.npz')"
   ]
  },
  {
   "cell_type": "code",
   "execution_count": 37,
   "id": "038fe6ce",
   "metadata": {},
   "outputs": [],
   "source": [
    "ll = cube_out['ll']"
   ]
  },
  {
   "cell_type": "code",
   "execution_count": 38,
   "id": "aba5a902",
   "metadata": {},
   "outputs": [
    {
     "data": {
      "text/plain": [
       "(50, 50)"
      ]
     },
     "execution_count": 38,
     "metadata": {},
     "output_type": "execute_result"
    }
   ],
   "source": [
    "ll.shape"
   ]
  },
  {
   "cell_type": "code",
   "execution_count": 39,
   "id": "f339eebb",
   "metadata": {},
   "outputs": [],
   "source": [
    "lEmax = cube_out['lEmax']\n",
    "H0 = cube_out['H0']\n",
    "#\n",
    "dE = lEmax[1]-lEmax[0]\n",
    "dH = H0[1] - H0[0]"
   ]
  },
  {
   "cell_type": "markdown",
   "id": "76d88858",
   "metadata": {},
   "source": [
    "# Normalize"
   ]
  },
  {
   "cell_type": "code",
   "execution_count": 40,
   "id": "0b2ef846",
   "metadata": {},
   "outputs": [],
   "source": [
    "ll -= ll.max()"
   ]
  },
  {
   "cell_type": "markdown",
   "id": "fad3cf0e",
   "metadata": {},
   "source": [
    "# Plot"
   ]
  },
  {
   "cell_type": "code",
   "execution_count": 42,
   "id": "622bc4e4",
   "metadata": {},
   "outputs": [
    {
     "data": {
      "image/png": "[encoded data removed]",
      "text/plain": [
       "<Figure size 432x288 with 2 Axes>"
      ]
     },
     "metadata": {
      "needs_background": "light"
     },
     "output_type": "display_data"
    }
   ],
   "source": [
    "plt.clf()\n",
    "ax = plt.gca()\n",
    "\n",
    "im=plt.imshow(ll.T,cmap='jet',origin='lower', \n",
    "                  interpolation='None', extent=[40.4-dE/2, 43.4+dE/2, 60.-dH/2, 80+dH/2],\n",
    "              aspect='auto', vmin=-4.\n",
    "             )#aspect=aspect)\n",
    "# Color bar\n",
    "cbar=plt.colorbar(im,fraction=0.046, shrink=1.2,aspect=15,pad=0.05)\n",
    "cbar.set_label(r'$\\Delta$ Log10 Likelihood')\n",
    "#\n",
    "ax.set_xlabel('log Emax')\n",
    "ax.set_ylabel('H0 (km/s/Mpc)')\n",
    "plt.savefig('fig_H0_vs_Emax.png', dpi=200)\n",
    "plt.show()"
   ]
  },
  {
   "cell_type": "code",
   "execution_count": null,
   "id": "111ec4c0",
   "metadata": {},
   "outputs": [],
   "source": []
  },
  {
   "cell_type": "code",
   "execution_count": null,
   "id": "b5c0ecab",
   "metadata": {},
   "outputs": [],
   "source": []
  }
 ],
 "metadata": {
  "kernelspec": {
   "display_name": "Python 3 (ipykernel)",
   "language": "python",
   "name": "python3"
  },
  "language_info": {
   "codemirror_mode": {
    "name": "ipython",
    "version": 3
   },
   "file_extension": ".py",
   "mimetype": "text/x-python",
   "name": "python",
   "nbconvert_exporter": "python",
   "pygments_lexer": "ipython3",
   "version": "3.8.5"
  }
 },
 "nbformat": 4,
 "nbformat_minor": 5
}

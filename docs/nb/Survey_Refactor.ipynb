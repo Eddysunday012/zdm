{
 "cells": [
  {
   "cell_type": "markdown",
   "id": "fb55b61f-c9e5-4dbb-bc6d-8a7bef325b03",
   "metadata": {},
   "source": [
    "# Survey Refactor"
   ]
  },
  {
   "cell_type": "code",
   "execution_count": 6,
   "id": "96627090-cf92-4874-be5c-1f1aab2a18a3",
   "metadata": {},
   "outputs": [],
   "source": [
    "# imports\n",
    "\n",
    "from zdm import misc_functions\n",
    "from zdm import survey\n",
    "from zdm import parameters\n",
    "from zdm import cosmology as cos\n",
    "from zdm import survey_data"
   ]
  },
  {
   "cell_type": "markdown",
   "id": "cd4a3dc5-896e-41cf-9004-1ea97a370f30",
   "metadata": {},
   "source": [
    "# Load up"
   ]
  },
  {
   "cell_type": "code",
   "execution_count": 2,
   "id": "7b16244d-41b3-4693-bc1c-3370826f9951",
   "metadata": {},
   "outputs": [],
   "source": [
    "state = parameters.State()\n",
    "############## Initialise cosmology ##############\n",
    "cos.set_cosmology(state)\n",
    "cos.init_dist_measures()\n",
    "\n",
    "# get the grid of p(DM|z). See function for default values.\n",
    "# set new to False once this is already initialised\n",
    "zDMgrid, zvals,dmvals = misc_functions.get_zdm_grid(\n",
    "    state, new=True, plot=False, method='analytic')"
   ]
  },
  {
   "cell_type": "code",
   "execution_count": 3,
   "id": "0444ab7e-142f-47ed-9639-eedd8d2cd0e3",
   "metadata": {},
   "outputs": [
    {
     "name": "stdout",
     "output_type": "stream",
     "text": [
      "Loading survey: CRAFT/FE\n",
      "FRB survey sucessfully initialised with  24  FRBs starting from 0\n"
     ]
    }
   ],
   "source": [
    "name = 'CRAFT/FE'\n",
    "isurvey = survey.load_survey(name, state, dmvals)"
   ]
  },
  {
   "cell_type": "markdown",
   "id": "558250d3-3ed0-4cf3-9355-8322d37aa125",
   "metadata": {},
   "source": [
    "# Fussing"
   ]
  },
  {
   "cell_type": "code",
   "execution_count": 4,
   "id": "778f1407-1650-4331-959b-5c5e5792ed45",
   "metadata": {},
   "outputs": [
    {
     "data": {
      "text/plain": [
       "'CRAFT_class_I_and_II'"
      ]
     },
     "execution_count": 4,
     "metadata": {},
     "output_type": "execute_result"
    }
   ],
   "source": [
    "isurvey.name"
   ]
  },
  {
   "cell_type": "code",
   "execution_count": 5,
   "id": "0a84101f-8f4d-48a0-9076-c27396699091",
   "metadata": {},
   "outputs": [
    {
     "data": {
      "text/plain": [
       "{'BEAM': array(['lat50_log', 'lat50_log', 'lat50_log', 'lat50_log', 'lat50_log',\n",
       "        'lat50_log', 'lat50_log', 'lat50_log', 'lat50_log', 'lat50_log',\n",
       "        'lat50_log', 'lat50_log', 'lat50_log', 'lat50_log', 'lat50_log',\n",
       "        'lat50_log', 'lat50_log', 'lat50_log', 'lat50_log', 'lat50_log',\n",
       "        'lat50_log', 'lat50_log', 'lat50_log', 'lat50_log'], dtype='<U9'),\n",
       " 'TOBS': array([1274.6, 1274.6, 1274.6, 1274.6, 1274.6, 1274.6, 1274.6, 1274.6,\n",
       "        1274.6, 1274.6, 1274.6, 1274.6, 1274.6, 1274.6, 1274.6, 1274.6,\n",
       "        1274.6, 1274.6, 1274.6, 1274.6, 1274.6, 1274.6, 1274.6, 1274.6]),\n",
       " 'DIAM': array([12., 12., 12., 12., 12., 12., 12., 12., 12., 12., 12., 12., 12.,\n",
       "        12., 12., 12., 12., 12., 12., 12., 12., 12., 12., 12.]),\n",
       " 'NBEAMS': array([36., 36., 36., 36., 36., 36., 36., 36., 36., 36., 36., 36., 36.,\n",
       "        36., 36., 36., 36., 36., 36., 36., 36., 36., 36., 36.]),\n",
       " 'NORM_FRB': array([20., 20., 20., 20., 20., 20., 20., 20., 20., 20., 20., 20., 20.,\n",
       "        20., 20., 20., 20., 20., 20., 20., 20., 20., 20., 20.]),\n",
       " 'THRESH': array([22., 22., 22., 22., 22., 22., 22., 22., 22., 22., 22., 22., 22.,\n",
       "        22., 22., 22., 22., 22., 22., 22., 22., 22., 22., 22.]),\n",
       " 'TRES': array([1.265, 1.265, 1.265, 1.265, 1.265, 1.265, 1.265, 1.265, 1.265,\n",
       "        1.265, 1.265, 1.265, 1.265, 1.265, 1.265, 1.265, 1.265, 1.265,\n",
       "        1.265, 1.265, 1.265, 1.265, 1.265, 1.265]),\n",
       " 'FRES': array([1., 1., 1., 1., 1., 1., 1., 1., 1., 1., 1., 1., 1., 1., 1., 1., 1.,\n",
       "        1., 1., 1., 1., 1., 1., 1.]),\n",
       " 'FBAR': array([1196., 1196., 1196., 1196., 1196., 1196., 1196., 1196., 1196.,\n",
       "        1196., 1196., 1196., 1196., 1196., 1196., 1196., 1196., 1196.,\n",
       "        1196., 1196., 1196., 1196., 1196., 1196.]),\n",
       " 'BW': array([336., 336., 336., 336., 336., 336., 336., 336., 336., 336., 336.,\n",
       "        336., 336., 336., 336., 336., 336., 336., 336., 336., 336., 336.,\n",
       "        336., 336.]),\n",
       " 'SNRTHRESH': array([9.5, 9.5, 9.5, 9.5, 9.5, 9.5, 9.5, 9.5, 9.5, 9.5, 9.5, 9.5, 9.5,\n",
       "        9.5, 9.5, 9.5, 9.5, 9.5, 9.5, 9.5, 9.5, 9.5, 9.5, 9.5]),\n",
       " 'DMG': array([37. , 39.7, 40. , 38.5, 35.9, 38.9, 40.5, 38.5, 37. , 38.4, 35.8,\n",
       "        36.8, 37.2, 38.8, 35.6, 32.3, 40.5, 38.7, 39.5, 30.5, 64. , 26.1,\n",
       "        32.6, 30.8]),\n",
       " 'SNR': array([16. , 13. , 10.5,  9.5, 12.7, 17. , 13.8, 10.9, 23.4, 19.5, 11.8,\n",
       "        25.1,  8. , 35.6, 15.9, 12.4,  9.6, 10.3, 13.8, 18.3,  9.8, 17.5,\n",
       "        12.1, 27.4]),\n",
       " 'DM': array([609.5 , 523.2 , 991.7 , 235.2 , 312.79, 390.3 , 463.2 , 304.  ,\n",
       "        460.8 , 114.1 , 618.5 , 158.6 , 203.1 , 715.7 , 402.7 , 441.4 ,\n",
       "        495.9 , 343.5 , 657.7 , 167.5 , 431.  , 474.8 , 355.2 , 388.1 ]),\n",
       " 'WIDTH': array([2.4 , 5.  , 4.4 , 3.5 , 1.4 , 2.5 , 2.  , 2.  , 5.4 , 1.7 , 3.2 ,\n",
       "        1.5 , 1.9 , 3.2 , 2.7 , 2.9 , 2.3 , 4.1 , 4.5 , 1.81, 4.3 , 2.3 ,\n",
       "        1.9 , 3.8 ]),\n",
       " 'ID': array(['170107', '170416', '170428', '170707', '170712', '170906',\n",
       "        '171003', '171004', '171019', '171020', '171116', '171213',\n",
       "        '171216', '180110', '180119', '180128.0', '180128.2', '180130',\n",
       "        '180131', '180212', '180324', '180417', '180515', '180525'],\n",
       "       dtype='<U8'),\n",
       " 'Gl': None,\n",
       " 'Gb': None,\n",
       " 'XRa': None,\n",
       " 'XDec': None,\n",
       " 'Z': None}"
      ]
     },
     "execution_count": 5,
     "metadata": {},
     "output_type": "execute_result"
    }
   ],
   "source": [
    "isurvey.frbs"
   ]
  },
  {
   "cell_type": "code",
   "execution_count": 7,
   "id": "0f7153dc-548b-45a3-adf3-692985ea5a24",
   "metadata": {},
   "outputs": [],
   "source": [
    "craft_fe = survey_data.SurveyData()"
   ]
  },
  {
   "cell_type": "code",
   "execution_count": 8,
   "id": "fe5416f8-241d-441a-841c-945790ce3229",
   "metadata": {},
   "outputs": [
    {
     "data": {
      "text/plain": [
       "Frequency(FBAR=0.0, BW=0.0, FRES=1.0)"
      ]
     },
     "execution_count": 8,
     "metadata": {},
     "output_type": "execute_result"
    }
   ],
   "source": [
    "craft_fe.frequency"
   ]
  },
  {
   "cell_type": "markdown",
   "id": "51df7cd2-65ae-4a4b-b282-345255f84c49",
   "metadata": {},
   "source": [
    "# Write to JSON"
   ]
  },
  {
   "cell_type": "markdown",
   "id": "dca16f62-52b9-4d15-9baa-d191c17e2f08",
   "metadata": {},
   "source": [
    "```\n",
    "FBAR  1196 #MHz\n",
    "BW    336 #MHz\n",
    "FRES  1 #MHz\n",
    "TRES  1.265 #ms\n",
    "DIAM 12\n",
    "NBEAMS 36\n",
    "BEAM lat50_log #prefix of beam file\n",
    "NFRB 24 #Number of FRBs\n",
    "NORM_FRB 20 #Number corresponding to Tobs\n",
    "TOBS 1274.6\n",
    "THRESH 22 #Jy ms to a 1 ms burst\n",
    "SNRTHRESH 9.5 # signal-to-\n",
    "```"
   ]
  },
  {
   "cell_type": "markdown",
   "id": "59e0d1c5-d2da-4e43-93d9-ba63366808f3",
   "metadata": {},
   "source": [
    "## Fill in"
   ]
  },
  {
   "cell_type": "code",
   "execution_count": 15,
   "id": "ef267e09-61ef-423e-bdcd-c25857111157",
   "metadata": {},
   "outputs": [],
   "source": [
    "craft_fe.frequency.BW = isurvey.BWs[0]\n",
    "craft_fe.frequency.FRES = isurvey.FRESs[0]"
   ]
  },
  {
   "cell_type": "code",
   "execution_count": 16,
   "id": "a5933f05-3a10-44b1-a2a0-db6488d12cac",
   "metadata": {},
   "outputs": [
    {
     "data": {
      "text/plain": [
       "{\n",
       "    \"frequency\": {\n",
       "        \"BW\": 336.0,\n",
       "        \"FBAR\": 0.0,\n",
       "        \"FRES\": 1.0\n",
       "    }\n",
       "}"
      ]
     },
     "execution_count": 16,
     "metadata": {},
     "output_type": "execute_result"
    }
   ],
   "source": [
    "craft_fe"
   ]
  },
  {
   "cell_type": "code",
   "execution_count": null,
   "id": "226a70ee-92a9-4986-b7aa-fc91d2095bda",
   "metadata": {},
   "outputs": [],
   "source": []
  }
 ],
 "metadata": {
  "kernelspec": {
   "display_name": "Python 3 (ipykernel)",
   "language": "python",
   "name": "python3"
  },
  "language_info": {
   "codemirror_mode": {
    "name": "ipython",
    "version": 3
   },
   "file_extension": ".py",
   "mimetype": "text/x-python",
   "name": "python",
   "nbconvert_exporter": "python",
   "pygments_lexer": "ipython3",
   "version": "3.9.7"
  }
 },
 "nbformat": 4,
 "nbformat_minor": 5
}

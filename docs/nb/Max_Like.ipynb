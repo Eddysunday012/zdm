{
 "cells": [
  {
   "cell_type": "markdown",
   "id": "b419ae62",
   "metadata": {},
   "source": [
    "# Max likelihood"
   ]
  },
  {
   "cell_type": "code",
   "execution_count": 1,
   "id": "5dbf5251",
   "metadata": {},
   "outputs": [],
   "source": [
    "# imports\n",
    "from importlib import reload\n",
    "\n",
    "import pandas\n",
    "import numpy as np\n",
    "from scipy import special\n",
    "import seaborn as sns\n",
    "import mpmath\n",
    "from matplotlib import pyplot as plt\n"
   ]
  },
  {
   "cell_type": "markdown",
   "id": "ef8df7f8",
   "metadata": {},
   "source": [
    "# Generate a faux sample\n",
    "\n",
    "## Let $E_{\\rm max} = 10^{50}$ and $E_{\\rm th} = 10^{40}$"
   ]
  },
  {
   "cell_type": "code",
   "execution_count": 2,
   "id": "60e2523f",
   "metadata": {},
   "outputs": [],
   "source": [
    "gamma = -2."
   ]
  },
  {
   "cell_type": "code",
   "execution_count": 3,
   "id": "49b60403",
   "metadata": {},
   "outputs": [],
   "source": [
    "NFRB = 100"
   ]
  },
  {
   "cell_type": "code",
   "execution_count": 4,
   "id": "9e2063f7",
   "metadata": {},
   "outputs": [],
   "source": [
    "lEmax = 50.\n",
    "Emax = 10**lEmax"
   ]
  },
  {
   "cell_type": "code",
   "execution_count": 5,
   "id": "71b0b7a3",
   "metadata": {},
   "outputs": [],
   "source": [
    "lEth = 40.\n",
    "Eth = 10**lEth"
   ]
  },
  {
   "cell_type": "code",
   "execution_count": 6,
   "id": "f98267eb",
   "metadata": {},
   "outputs": [
    {
     "data": {
      "text/plain": [
       "9.999999998999998e-41"
      ]
     },
     "execution_count": 6,
     "metadata": {},
     "output_type": "execute_result"
    }
   ],
   "source": [
    "norm = (Emax**(gamma+1) - Eth**(gamma+1))/(1+gamma)\n",
    "norm"
   ]
  },
  {
   "cell_type": "code",
   "execution_count": 7,
   "id": "cf5505d0",
   "metadata": {},
   "outputs": [],
   "source": [
    "randu = np.random.uniform(size=NFRB)"
   ]
  },
  {
   "cell_type": "code",
   "execution_count": 8,
   "id": "3ce4dc6e",
   "metadata": {},
   "outputs": [],
   "source": [
    "randE = (randu*(gamma+1)*norm + 10**(lEth*(gamma+1)))**(1/(1+gamma))"
   ]
  },
  {
   "cell_type": "code",
   "execution_count": 9,
   "id": "6b44adff",
   "metadata": {},
   "outputs": [],
   "source": [
    "df = pandas.DataFrame()\n",
    "df['E'] = randE\n",
    "df['logE'] = np.log10(randE)"
   ]
  },
  {
   "cell_type": "code",
   "execution_count": 10,
   "id": "d15da7d4",
   "metadata": {},
   "outputs": [
    {
     "data": {
      "text/plain": [
       "<AxesSubplot:xlabel='logE', ylabel='Count'>"
      ]
     },
     "execution_count": 10,
     "metadata": {},
     "output_type": "execute_result"
    },
    {
     "data": {
      "image/png": "[encoded data removed]",
      "text/plain": [
       "<Figure size 432x288 with 1 Axes>"
      ]
     },
     "metadata": {
      "needs_background": "light"
     },
     "output_type": "display_data"
    }
   ],
   "source": [
    "sns.histplot(data=df, x='logE')"
   ]
  },
  {
   "cell_type": "markdown",
   "id": "9688292a",
   "metadata": {},
   "source": [
    "# Max Likelihood Time!"
   ]
  },
  {
   "cell_type": "markdown",
   "id": "268e49f6",
   "metadata": {},
   "source": [
    "## Methods\n",
    "\n",
    "### We express the log-likelihood as \n",
    "\n",
    "## $\\ln \\mathcal{L} = - \\int\\limits_{E_{\\rm th}}^{E_{\\rm max}} p(E) dE + \\sum\\limits_{j=1}^N \\ln p(E)$\n",
    "\n",
    "### where $j$ is over all the $N$ FRBs and $p(E) = C E^\\gamma$"
   ]
  },
  {
   "cell_type": "markdown",
   "id": "0ce746ed",
   "metadata": {},
   "source": [
    "## Likelihood terms"
   ]
  },
  {
   "cell_type": "markdown",
   "id": "ded2ac2d",
   "metadata": {},
   "source": [
    "### This terms accounts for the total space explored.  It *decreases* with increasing Emax"
   ]
  },
  {
   "cell_type": "code",
   "execution_count": 11,
   "id": "43e0ae88",
   "metadata": {},
   "outputs": [],
   "source": [
    "def misses_term(C, Eth, Emax, gamma):\n",
    "    return -C * (Emax**(gamma+1) - Eth**(gamma+1)) / (1+gamma)"
   ]
  },
  {
   "cell_type": "markdown",
   "id": "b35d82d3",
   "metadata": {},
   "source": [
    "### This term is simply proportional to the probability"
   ]
  },
  {
   "cell_type": "code",
   "execution_count": 12,
   "id": "045813a7",
   "metadata": {},
   "outputs": [],
   "source": [
    "def hit_term(Eval, C, gamma):\n",
    "    NFRB = len(Eval)\n",
    "    fterm = NFRB * np.log(C)\n",
    "    sterm = gamma * np.sum(np.log(Eval))\n",
    "    return fterm + sterm"
   ]
  },
  {
   "cell_type": "code",
   "execution_count": 13,
   "id": "83cda504",
   "metadata": {},
   "outputs": [],
   "source": [
    "def guess_C(gamma, Emax, Eth, NFRB):\n",
    "    return NFRB * (gamma+1) / (Emax**(gamma+1) - Eth**(gamma+1))"
   ]
  },
  {
   "cell_type": "markdown",
   "id": "91657bc8",
   "metadata": {},
   "source": [
    "## Test case $E_{max} = 10^{42}$"
   ]
  },
  {
   "cell_type": "code",
   "execution_count": 14,
   "id": "24e2501d",
   "metadata": {},
   "outputs": [],
   "source": [
    "Emax = 1e42\n",
    "#Eth = 1e40"
   ]
  },
  {
   "cell_type": "code",
   "execution_count": 15,
   "id": "b5614fa5",
   "metadata": {},
   "outputs": [
    {
     "data": {
      "text/plain": [
       "1.01010101010101e+42"
      ]
     },
     "execution_count": 15,
     "metadata": {},
     "output_type": "execute_result"
    }
   ],
   "source": [
    "guessC = guess_C(gamma, Emax, Eth, NFRB)\n",
    "guessC"
   ]
  },
  {
   "cell_type": "code",
   "execution_count": 16,
   "id": "a398bc50",
   "metadata": {},
   "outputs": [],
   "source": [
    "logC = np.log10(guessC)\n",
    "Cvals = 10**(np.linspace(logC-1, logC+1, 1000))"
   ]
  },
  {
   "cell_type": "code",
   "execution_count": 17,
   "id": "4b35554e",
   "metadata": {},
   "outputs": [],
   "source": [
    "LL_C = misses_term(Cvals, Eth, Emax, gamma) + hit_term(df.E, Cvals, gamma)"
   ]
  },
  {
   "cell_type": "code",
   "execution_count": 18,
   "id": "5657738c",
   "metadata": {},
   "outputs": [
    {
     "data": {
      "text/plain": [
       "<AxesSubplot:>"
      ]
     },
     "execution_count": 18,
     "metadata": {},
     "output_type": "execute_result"
    },
    {
     "data": {
      "image/png": "[encoded data removed]",
      "text/plain": [
       "<Figure size 432x288 with 1 Axes>"
      ]
     },
     "metadata": {
      "needs_background": "light"
     },
     "output_type": "display_data"
    }
   ],
   "source": [
    "sns.lineplot(x=np.log10(Cvals), y=LL_C)"
   ]
  },
  {
   "cell_type": "code",
   "execution_count": 19,
   "id": "16ae53e3",
   "metadata": {},
   "outputs": [
    {
     "data": {
      "text/plain": [
       "1.0077755194306342e+42"
      ]
     },
     "execution_count": 19,
     "metadata": {},
     "output_type": "execute_result"
    }
   ],
   "source": [
    "Cmax = Cvals[np.argmax(LL_C)]\n",
    "Cmax"
   ]
  },
  {
   "cell_type": "markdown",
   "id": "5ce0e264",
   "metadata": {},
   "source": [
    "## Loop a bit"
   ]
  },
  {
   "cell_type": "code",
   "execution_count": 34,
   "id": "ec0be368",
   "metadata": {},
   "outputs": [],
   "source": [
    "LLs = []\n",
    "Emaxs = 10**(np.linspace(42., 47., 100))\n",
    "Cmaxs = []\n",
    "\n",
    "for Emax in Emaxs:\n",
    "    guessC = guess_C(gamma, Emax, Eth, NFRB)\n",
    "    logC = np.log10(guessC)\n",
    "    Cvals = 10**(np.linspace(logC-1, logC+1, 1000))\n",
    "    #\n",
    "    misses = misses_term(Cvals, Eth, Emax, gamma) \n",
    "    hits = hit_term(df.E, Cvals, gamma)\n",
    "    LL_C = misses + hits\n",
    "    #print(guessC, Cvals[np.argmax(LL_C)])\n",
    "    imax = np.argmax(LL_C)\n",
    "    LLs.append(np.max(LL_C))\n",
    "    Cmaxs.append(Cvals[imax])\n",
    "    #print(misses[imax], hits[imax])\n",
    "LLs = np.array(LLs)\n",
    "Cmaxs = np.array(Cmaxs)"
   ]
  },
  {
   "cell_type": "markdown",
   "id": "cc6ad58c",
   "metadata": {},
   "source": [
    "## Plot"
   ]
  },
  {
   "cell_type": "code",
   "execution_count": 21,
   "id": "f6b36a48-b3f2-4bd2-a3c7-64ab8f7cbc9f",
   "metadata": {},
   "outputs": [
    {
     "data": {
      "text/plain": [
       "Text(0, 0.5, ' $C$')"
      ]
     },
     "execution_count": 21,
     "metadata": {},
     "output_type": "execute_result"
    },
    {
     "data": {
      "image/png": "[encoded data removed]",
      "text/plain": [
       "<Figure size 432x288 with 1 Axes>"
      ]
     },
     "metadata": {
      "needs_background": "light"
     },
     "output_type": "display_data"
    }
   ],
   "source": [
    "ax = sns.lineplot(x=np.log10(Emaxs), y=Cmaxs)\n",
    "ax.set_xlabel('log10 Emax')\n",
    "ax.set_ylabel(r' $C$')"
   ]
  },
  {
   "cell_type": "code",
   "execution_count": 22,
   "id": "8a6be39e",
   "metadata": {},
   "outputs": [
    {
     "data": {
      "text/plain": [
       "Text(0, 0.5, ' $\\\\Delta \\\\, LL$')"
      ]
     },
     "execution_count": 22,
     "metadata": {},
     "output_type": "execute_result"
    },
    {
     "data": {
      "image/png": "[encoded data removed]",
      "text/plain": [
       "<Figure size 432x288 with 1 Axes>"
      ]
     },
     "metadata": {
      "needs_background": "light"
     },
     "output_type": "display_data"
    }
   ],
   "source": [
    "ax = sns.lineplot(x=np.log10(Emaxs), y=LLs - np.max(LLs))\n",
    "ax.set_xlabel('log10 Emax')\n",
    "ax.set_ylabel(r' $\\Delta \\, LL$')"
   ]
  },
  {
   "cell_type": "markdown",
   "id": "1f47d5f7",
   "metadata": {},
   "source": [
    "### Clearly $\\Delta LL$ is small (less than 1!) for all Emax values and there is no preference beyond 1e45."
   ]
  },
  {
   "cell_type": "markdown",
   "id": "0c619ac7",
   "metadata": {},
   "source": [
    "### This follows our intuition.."
   ]
  },
  {
   "cell_type": "markdown",
   "id": "fcda4aee-d11c-4302-8434-8f5f11b38a39",
   "metadata": {},
   "source": [
    "----"
   ]
  },
  {
   "cell_type": "markdown",
   "id": "b8431772-eabb-44fd-9ea0-f03bc7355ac8",
   "metadata": {},
   "source": [
    "# Alternative approach\n",
    "\n",
    "## $\\ln \\mathcal{L} = \\ln p_n(N) + \\sum\\limits_j^{N} \\ln p_j(E)$\n",
    "\n",
    "## with $p_j(E)$ normalized to unity\n",
    "\n",
    "## As with the FRBs, we will assume we have another normlization constant (not $C$) that we can tune to given $N$ events.\n",
    "\n",
    "## Therefore, we can always maximize $p_n(N)$"
   ]
  },
  {
   "cell_type": "code",
   "execution_count": 29,
   "id": "35d2ca51-bd69-4c24-8383-f5cdc4de9d11",
   "metadata": {},
   "outputs": [],
   "source": [
    "def norm_pE(Eth, Emax, gamma):\n",
    "    norm = (Emax**(1+gamma) - Eth**(1+gamma))/(1+gamma)\n",
    "    return norm"
   ]
  },
  {
   "cell_type": "code",
   "execution_count": 38,
   "id": "b193a3bc-29a9-4ff9-8ba5-299c24e8cb1e",
   "metadata": {},
   "outputs": [],
   "source": [
    "LLs2 = []\n",
    "#Emaxs = 10**(np.linspace(42., 47., 100))\n",
    "Cmaxs = []\n",
    "\n",
    "for Emax in Emaxs:\n",
    "    #\n",
    "    norm = norm_pE(Eth, Emax, gamma)\n",
    "    #print(guessC, Cvals[np.argmax(LL_C)])\n",
    "    pE = df.E**gamma / norm\n",
    "    #\n",
    "    LLs2.append(np.sum(np.log(pE)))\n",
    "LLs2 = np.array(LLs2)\n",
    "#Cmaxs = np.array(Cmaxs)"
   ]
  },
  {
   "cell_type": "code",
   "execution_count": 40,
   "id": "57f4c511-4f02-4303-9ccd-694bcd6507de",
   "metadata": {},
   "outputs": [
    {
     "data": {
      "text/plain": [
       "<matplotlib.legend.Legend at 0x7f154dcc90a0>"
      ]
     },
     "execution_count": 40,
     "metadata": {},
     "output_type": "execute_result"
    },
    {
     "data": {
      "image/png": "[encoded data removed]",
      "text/plain": [
       "<Figure size 432x288 with 1 Axes>"
      ]
     },
     "metadata": {
      "needs_background": "light"
     },
     "output_type": "display_data"
    }
   ],
   "source": [
    "ax = sns.lineplot(x=np.log10(Emaxs), y=LLs2 - np.max(LLs2), label='CJ version')\n",
    "ax = sns.lineplot(x=np.log10(Emaxs), y=LLs - np.max(LLs), label='x version')\n",
    "ax.set_xlabel('log10 Emax')\n",
    "ax.set_ylabel(r' $\\Delta \\, LL$')\n",
    "ax.legend()"
   ]
  },
  {
   "cell_type": "markdown",
   "id": "99c8fff7-b530-4adb-b082-97cd6d693467",
   "metadata": {},
   "source": [
    "----"
   ]
  },
  {
   "cell_type": "markdown",
   "id": "d951fbb8-3137-4a26-9911-190770892895",
   "metadata": {},
   "source": [
    "# Gamma function"
   ]
  },
  {
   "cell_type": "code",
   "execution_count": 61,
   "id": "2a8c67a4-ccb2-44fe-8e12-34bfae558f99",
   "metadata": {},
   "outputs": [],
   "source": [
    "def Gamma_misses_term(C, Eth, Emax, gamma):\n",
    "    norm = Emax * float(mpmath.gammainc(gamma+1, a=Eth/Emax))\n",
    "    return -C * norm"
   ]
  },
  {
   "cell_type": "code",
   "execution_count": 63,
   "id": "263f0ef0-8767-4478-b1a6-b119cc4ace29",
   "metadata": {},
   "outputs": [],
   "source": [
    "def Gamma_hit_term(Eval, C, gamma, Emax):\n",
    "    NFRB = len(Eval)\n",
    "    fterm = NFRB * np.log(C)\n",
    "    sterm= np.sum(np.log((Eval/Emax)**(gamma) * np.exp(-Eval/Emax)))\n",
    "    #import pdb; pdb.set_trace()\n",
    "    return fterm + sterm"
   ]
  },
  {
   "cell_type": "code",
   "execution_count": 64,
   "id": "27accb41-c955-455e-8de1-6457bccee85b",
   "metadata": {},
   "outputs": [],
   "source": [
    "def Gamma_guess_C(gamma, Emax, Eth, NFRB):\n",
    "    return NFRB / (Emax*float(mpmath.gammainc(gamma+1, a=Eth/Emax)))"
   ]
  },
  {
   "cell_type": "code",
   "execution_count": 65,
   "id": "6ec24acf-76cc-4ebf-a59a-6803ff5499b6",
   "metadata": {},
   "outputs": [
    {
     "data": {
      "text/plain": [
       "-2.0"
      ]
     },
     "execution_count": 65,
     "metadata": {},
     "output_type": "execute_result"
    }
   ],
   "source": [
    "gamma"
   ]
  },
  {
   "cell_type": "markdown",
   "id": "be4d5154-fd5b-4a72-ae43-1cbc2b4a7b3e",
   "metadata": {},
   "source": [
    "## Do it"
   ]
  },
  {
   "cell_type": "code",
   "execution_count": 66,
   "id": "f84323f1-c4f6-46a5-a4cd-273d5290190b",
   "metadata": {},
   "outputs": [],
   "source": [
    "LLsG = []\n",
    "Emaxs = 10**(np.linspace(42., 47., 100))\n",
    "Cmaxs = []\n",
    "\n",
    "for Emax in Emaxs:\n",
    "    guessC = Gamma_guess_C(gamma, Emax, Eth, NFRB)\n",
    "    logC = np.log10(guessC)\n",
    "    Cvals = 10**(np.linspace(logC-1, logC+1, 1000))\n",
    "    #\n",
    "    misses = Gamma_misses_term(Cvals, Eth, Emax, gamma) \n",
    "    hits = Gamma_hit_term(df.E, Cvals, gamma, Emax)\n",
    "    LL_C = misses + hits\n",
    "    #import pdb; pdb.set_trace()\n",
    "    #print(guessC, Cvals[np.argmax(LL_C)])\n",
    "    imax = np.argmax(LL_C)\n",
    "    LLsG.append(np.max(LL_C))\n",
    "    Cmaxs.append(Cvals[imax])\n",
    "    #print(misses[imax], hits[imax])\n",
    "LLsG = np.array(LLsG)\n",
    "Cmaxs = np.array(Cmaxs)"
   ]
  },
  {
   "cell_type": "code",
   "execution_count": 67,
   "id": "3867f021-c5cd-42ca-8a58-022e17f8f737",
   "metadata": {},
   "outputs": [
    {
     "data": {
      "text/plain": [
       "array([-9042.9424586 , -9042.9579503 , -9042.98162901])"
      ]
     },
     "execution_count": 67,
     "metadata": {},
     "output_type": "execute_result"
    }
   ],
   "source": [
    "LLsG[0:3]"
   ]
  },
  {
   "cell_type": "code",
   "execution_count": 68,
   "id": "e75c10c6-9391-4d37-9f83-205710584d3a",
   "metadata": {},
   "outputs": [
    {
     "data": {
      "text/plain": [
       "Text(0, 0.5, ' $C$')"
      ]
     },
     "execution_count": 68,
     "metadata": {},
     "output_type": "execute_result"
    },
    {
     "data": {
      "image/png": "[encoded data removed]",
      "text/plain": [
       "<Figure size 432x288 with 1 Axes>"
      ]
     },
     "metadata": {
      "needs_background": "light"
     },
     "output_type": "display_data"
    }
   ],
   "source": [
    "ax = sns.lineplot(x=np.log10(Emaxs), y=Cmaxs)\n",
    "ax.set_xlabel('log10 Emax')\n",
    "ax.set_ylabel(r' $C$')"
   ]
  },
  {
   "cell_type": "code",
   "execution_count": 69,
   "id": "158ba1d6-5399-4d33-a5e9-5f2b5d62b602",
   "metadata": {},
   "outputs": [
    {
     "data": {
      "text/plain": [
       "array([-9042.9424586 , -9042.9579503 , -9042.98162901, -9043.01159111,\n",
       "       -9043.04623995, -9043.08424325, -9043.12449579, -9043.16608697,\n",
       "       -9043.20827253, -9043.25044999, -9043.29213733, -9043.33295452,\n",
       "       -9043.37260754, -9043.4108746 , -9043.44759428, -9043.48265528,\n",
       "       -9043.51598775, -9043.54755572, -9043.57735079, -9043.60538669,\n",
       "       -9043.63169466, -9043.65631959, -9043.67931676, -9043.70074915,\n",
       "       -9043.72068507, -9043.73919642, -9043.75635702, -9043.77224145,\n",
       "       -9043.78692399, -9043.80047785, -9043.81297449, -9043.82448321,\n",
       "       -9043.83507073, -9043.84480094, -9043.85373476, -9043.86193002,\n",
       "       -9043.86944139, -9043.87632041, -9043.88261554, -9043.88837217,\n",
       "       -9043.89363275, -9043.89843688, -9043.90282145, -9043.90682073,\n",
       "       -9043.9104665 , -9043.91378821, -9043.9168131 , -9043.91956633,\n",
       "       -9043.92207111, -9043.92434882, -9043.92641914, -9043.92830017,\n",
       "       -9043.93000851, -9043.93155943, -9043.9329669 , -9043.93424374,\n",
       "       -9043.93540165, -9043.93645138, -9043.93740271, -9043.93826461,\n",
       "       -9043.93904525, -9043.93975208, -9043.9403919 , -9043.9409709 ,\n",
       "       -9043.94149473, -9043.94196853, -9043.94239696, -9043.94278428,\n",
       "       -9043.94313435, -9043.94345068, -9043.94373646, -9043.94399459,\n",
       "       -9043.94422769, -9043.94443815, -9043.94462813, -9043.94479958,\n",
       "       -9043.9449543 , -9043.94509388, -9043.94521979, -9043.94533334,\n",
       "       -9043.94543573, -9043.94552804, -9043.94561126, -9043.94568626,\n",
       "       -9043.94575384, -9043.94581474, -9043.9458696 , -9043.94591902,\n",
       "       -9043.94596353, -9043.94600361, -9043.9460397 , -9043.94607219,\n",
       "       -9043.94610144, -9043.94612776, -9043.94615145, -9043.94617277,\n",
       "       -9043.94619195, -9043.94620921, -9043.94622473, -9043.94623869])"
      ]
     },
     "execution_count": 69,
     "metadata": {},
     "output_type": "execute_result"
    }
   ],
   "source": [
    "LLsG"
   ]
  },
  {
   "cell_type": "code",
   "execution_count": 70,
   "id": "73709164-7377-43ee-9cb5-dbbd8accdf0e",
   "metadata": {},
   "outputs": [
    {
     "data": {
      "text/plain": [
       "<matplotlib.legend.Legend at 0x7fdd2d0b67c0>"
      ]
     },
     "execution_count": 70,
     "metadata": {},
     "output_type": "execute_result"
    },
    {
     "data": {
      "image/png": "[encoded data removed]",
      "text/plain": [
       "<Figure size 432x288 with 1 Axes>"
      ]
     },
     "metadata": {
      "needs_background": "light"
     },
     "output_type": "display_data"
    }
   ],
   "source": [
    "ax = sns.lineplot(x=np.log10(Emaxs), y=LLsG - np.max(LLsG), label='Gamma function')\n",
    "#ax = sns.lineplot(x=np.log10(Emaxs), y=LLs - np.max(LLs), label='x version')\n",
    "ax.set_xlabel('log10 Emax')\n",
    "ax.set_ylabel(r' $\\Delta \\, LL$')\n",
    "#ax.set_ylim(-1., 0.)\n",
    "ax.legend()"
   ]
  },
  {
   "cell_type": "code",
   "execution_count": null,
   "id": "7fed0982-b713-4742-8413-446cf4abe060",
   "metadata": {},
   "outputs": [],
   "source": []
  }
 ],
 "metadata": {
  "kernelspec": {
   "display_name": "Python 3 (ipykernel)",
   "language": "python",
   "name": "python3"
  },
  "language_info": {
   "codemirror_mode": {
    "name": "ipython",
    "version": 3
   },
   "file_extension": ".py",
   "mimetype": "text/x-python",
   "name": "python",
   "nbconvert_exporter": "python",
   "pygments_lexer": "ipython3",
   "version": "3.9.7"
  }
 },
 "nbformat": 4,
 "nbformat_minor": 5
}

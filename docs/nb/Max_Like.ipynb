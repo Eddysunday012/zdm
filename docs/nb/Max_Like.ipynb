{
 "cells": [
  {
   "cell_type": "markdown",
   "id": "b419ae62",
   "metadata": {},
   "source": [
    "# Max likelihood"
   ]
  },
  {
   "cell_type": "code",
   "execution_count": 1,
   "id": "5dbf5251",
   "metadata": {},
   "outputs": [],
   "source": [
    "# imports\n",
    "from importlib import reload\n",
    "\n",
    "import pandas\n",
    "import numpy as np\n",
    "from scipy import special\n",
    "import seaborn as sns\n",
    "import mpmath\n",
    "from matplotlib import pyplot as plt\n"
   ]
  },
  {
   "cell_type": "markdown",
   "id": "ef8df7f8",
   "metadata": {},
   "source": [
    "# Generate a faux sample\n",
    "\n",
    "## Let $E_{\\rm max} = 10^{50}$ and $E_{\\rm th} = 10^{40}$"
   ]
  },
  {
   "cell_type": "code",
   "execution_count": 2,
   "id": "60e2523f",
   "metadata": {},
   "outputs": [],
   "source": [
    "gamma = -2."
   ]
  },
  {
   "cell_type": "code",
   "execution_count": 3,
   "id": "49b60403",
   "metadata": {},
   "outputs": [],
   "source": [
    "NFRB = 100"
   ]
  },
  {
   "cell_type": "code",
   "execution_count": 4,
   "id": "9e2063f7",
   "metadata": {},
   "outputs": [],
   "source": [
    "lEmax = 50.\n",
    "Emax = 10**lEmax"
   ]
  },
  {
   "cell_type": "code",
   "execution_count": 5,
   "id": "71b0b7a3",
   "metadata": {},
   "outputs": [],
   "source": [
    "lEth = 40.\n",
    "Eth = 10**lEth"
   ]
  },
  {
   "cell_type": "code",
   "execution_count": 6,
   "id": "f98267eb",
   "metadata": {},
   "outputs": [
    {
     "data": {
      "text/plain": [
       "9.999999998999998e-41"
      ]
     },
     "execution_count": 6,
     "metadata": {},
     "output_type": "execute_result"
    }
   ],
   "source": [
    "norm = (Emax**(gamma+1) - Eth**(gamma+1))/(1+gamma)\n",
    "norm"
   ]
  },
  {
   "cell_type": "code",
   "execution_count": 7,
   "id": "cf5505d0",
   "metadata": {},
   "outputs": [],
   "source": [
    "randu = np.random.uniform(size=NFRB)"
   ]
  },
  {
   "cell_type": "code",
   "execution_count": 8,
   "id": "3ce4dc6e",
   "metadata": {},
   "outputs": [],
   "source": [
    "randE = (randu*(gamma+1)*norm + 10**(lEth*(gamma+1)))**(1/(1+gamma))"
   ]
  },
  {
   "cell_type": "code",
   "execution_count": 9,
   "id": "38abfe20",
   "metadata": {},
   "outputs": [
    {
     "data": {
      "text/plain": [
       "array([1.36755309e+40, 4.98018080e+40, 1.01538927e+40, 3.81603457e+40,\n",
       "       4.34695571e+40, 2.05684760e+40, 2.32612320e+40, 1.85030545e+40,\n",
       "       6.55535738e+40, 4.88153420e+40, 1.22858068e+40, 1.91558110e+40,\n",
       "       9.85189772e+40, 1.05799062e+40, 7.63650539e+40, 1.19077637e+40,\n",
       "       1.08414428e+40, 1.25498119e+40, 1.16897269e+40, 1.18101524e+40,\n",
       "       1.43563202e+41, 2.28943209e+40, 2.23696850e+40, 3.61342380e+40,\n",
       "       1.74680966e+40, 1.22235148e+41, 2.36129255e+41, 1.24885097e+40,\n",
       "       1.96028935e+40, 1.08770307e+40, 1.13379460e+40, 2.17739718e+40,\n",
       "       2.56678681e+40, 2.21709281e+40, 1.72752401e+40, 3.24845181e+40,\n",
       "       6.49985742e+40, 2.49632595e+40, 1.31344515e+41, 1.06823277e+40,\n",
       "       1.00509854e+40, 1.10010564e+40, 2.55303156e+40, 1.00338388e+41,\n",
       "       1.77041370e+40, 3.17098909e+40, 1.10049418e+40, 1.01052500e+40,\n",
       "       7.85750351e+40, 1.13840710e+40, 2.46752308e+40, 8.50052317e+40,\n",
       "       2.09924365e+40, 1.32711569e+42, 2.71379318e+40, 1.10724438e+40,\n",
       "       1.30801775e+40, 1.23740123e+40, 1.31218253e+40, 3.45993523e+40,\n",
       "       1.17254487e+41, 1.45281220e+40, 3.10334894e+41, 1.45713430e+40,\n",
       "       1.81962548e+40, 8.03992693e+40, 1.67926154e+40, 3.42813461e+40,\n",
       "       3.10212631e+41, 2.84339827e+40, 1.03495019e+40, 3.72749079e+40,\n",
       "       1.74858282e+41, 1.11515752e+40, 1.22678627e+40, 1.48759476e+40,\n",
       "       2.95508852e+40, 4.69206788e+40, 1.04117934e+40, 2.05252999e+40,\n",
       "       1.02267217e+41, 2.91412755e+40, 3.34855820e+41, 1.34983292e+40,\n",
       "       1.24367736e+40, 1.49583528e+40, 3.97718312e+40, 1.19447147e+40,\n",
       "       1.24910432e+40, 2.47035496e+40, 1.27949112e+40, 3.50100469e+40,\n",
       "       1.31946884e+40, 2.05559409e+40, 8.82180936e+40, 1.85661040e+40,\n",
       "       1.61457960e+40, 1.40255863e+40, 1.19748020e+40, 3.83516582e+40])"
      ]
     },
     "execution_count": 9,
     "metadata": {},
     "output_type": "execute_result"
    }
   ],
   "source": [
    "randE"
   ]
  },
  {
   "cell_type": "code",
   "execution_count": 10,
   "id": "6b44adff",
   "metadata": {},
   "outputs": [],
   "source": [
    "df = pandas.DataFrame()\n",
    "df['E'] = randE\n",
    "df['logE'] = np.log10(randE)"
   ]
  },
  {
   "cell_type": "code",
   "execution_count": 11,
   "id": "d15da7d4",
   "metadata": {},
   "outputs": [
    {
     "data": {
      "text/plain": [
       "<AxesSubplot:xlabel='logE', ylabel='Count'>"
      ]
     },
     "execution_count": 11,
     "metadata": {},
     "output_type": "execute_result"
    },
    {
     "data": {
      "image/png": "[encoded data removed]",
      "text/plain": [
       "<Figure size 432x288 with 1 Axes>"
      ]
     },
     "metadata": {
      "needs_background": "light"
     },
     "output_type": "display_data"
    }
   ],
   "source": [
    "sns.histplot(data=df, x='logE')"
   ]
  },
  {
   "cell_type": "markdown",
   "id": "9688292a",
   "metadata": {},
   "source": [
    "# Max Likelihood Time!"
   ]
  },
  {
   "cell_type": "markdown",
   "id": "268e49f6",
   "metadata": {},
   "source": [
    "## Methods\n",
    "\n",
    "### We express the log-likelihood as \n",
    "\n",
    "## $\\ln \\mathcal{L} = - \\int\\limits_{E_{\\rm th}}^{E_{\\rm max}} p(E) dE + \\sum\\limits_{j=1}^N \\ln p(E)$\n",
    "\n",
    "### where $j$ is over all the $N$ FRBs and $p(E) = C E^\\gamma$"
   ]
  },
  {
   "cell_type": "markdown",
   "id": "0ce746ed",
   "metadata": {},
   "source": [
    "## Likelihood terms"
   ]
  },
  {
   "cell_type": "markdown",
   "id": "ded2ac2d",
   "metadata": {},
   "source": [
    "### This terms accounts for the total space explored.  It *decreases* with increasing Emax"
   ]
  },
  {
   "cell_type": "code",
   "execution_count": 12,
   "id": "43e0ae88",
   "metadata": {},
   "outputs": [],
   "source": [
    "def misses_term(C, Eth, Emax, gamma):\n",
    "    return -C * (Emax**(gamma+1) - Eth**(gamma+1)) / (1+gamma)"
   ]
  },
  {
   "cell_type": "markdown",
   "id": "b35d82d3",
   "metadata": {},
   "source": [
    "### This term is simply proportional to the probability"
   ]
  },
  {
   "cell_type": "code",
   "execution_count": 13,
   "id": "045813a7",
   "metadata": {},
   "outputs": [],
   "source": [
    "def hit_term(Eval, C, gamma):\n",
    "    NFRB = len(Eval)\n",
    "    fterm = NFRB * np.log(C)\n",
    "    sterm = gamma * np.sum(np.log(Eval))\n",
    "    return fterm + sterm"
   ]
  },
  {
   "cell_type": "code",
   "execution_count": 14,
   "id": "83cda504",
   "metadata": {},
   "outputs": [],
   "source": [
    "def guess_C(gamma, Emax, Eth, NFRB):\n",
    "    return NFRB * (gamma+1) / (Emax**(gamma+1) - Eth**(gamma+1))"
   ]
  },
  {
   "cell_type": "markdown",
   "id": "91657bc8",
   "metadata": {},
   "source": [
    "## Test case $E_{max} = 10^{42}$"
   ]
  },
  {
   "cell_type": "code",
   "execution_count": 15,
   "id": "24e2501d",
   "metadata": {},
   "outputs": [],
   "source": [
    "Emax = 1e42\n",
    "#Eth = 1e40"
   ]
  },
  {
   "cell_type": "code",
   "execution_count": 16,
   "id": "b5614fa5",
   "metadata": {},
   "outputs": [
    {
     "data": {
      "text/plain": [
       "1.01010101010101e+42"
      ]
     },
     "execution_count": 16,
     "metadata": {},
     "output_type": "execute_result"
    }
   ],
   "source": [
    "guessC = guess_C(gamma, Emax, Eth, NFRB)\n",
    "guessC"
   ]
  },
  {
   "cell_type": "code",
   "execution_count": 17,
   "id": "a398bc50",
   "metadata": {},
   "outputs": [],
   "source": [
    "logC = np.log10(guessC)\n",
    "Cvals = 10**(np.linspace(logC-1, logC+1, 1000))"
   ]
  },
  {
   "cell_type": "code",
   "execution_count": 18,
   "id": "4b35554e",
   "metadata": {},
   "outputs": [],
   "source": [
    "LL_C = misses_term(Cvals, Eth, Emax, gamma) + hit_term(df.E, Cvals, gamma)"
   ]
  },
  {
   "cell_type": "code",
   "execution_count": 19,
   "id": "5657738c",
   "metadata": {},
   "outputs": [
    {
     "data": {
      "text/plain": [
       "<AxesSubplot:>"
      ]
     },
     "execution_count": 19,
     "metadata": {},
     "output_type": "execute_result"
    },
    {
     "data": {
      "image/png": "[encoded data removed]",
      "text/plain": [
       "<Figure size 432x288 with 1 Axes>"
      ]
     },
     "metadata": {
      "needs_background": "light"
     },
     "output_type": "display_data"
    }
   ],
   "source": [
    "sns.lineplot(x=np.log10(Cvals), y=LL_C)"
   ]
  },
  {
   "cell_type": "code",
   "execution_count": 21,
   "id": "16ae53e3",
   "metadata": {},
   "outputs": [
    {
     "data": {
      "text/plain": [
       "1.0077755194306342e+42"
      ]
     },
     "execution_count": 21,
     "metadata": {},
     "output_type": "execute_result"
    }
   ],
   "source": [
    "Cmax = Cvals[np.argmax(LL_C)]\n",
    "Cmax"
   ]
  },
  {
   "cell_type": "markdown",
   "id": "5ce0e264",
   "metadata": {},
   "source": [
    "## Loop a bit"
   ]
  },
  {
   "cell_type": "code",
   "execution_count": 46,
   "id": "ec0be368",
   "metadata": {},
   "outputs": [
    {
     "name": "stdout",
     "output_type": "stream",
     "text": [
      "-99.76977642363279 -8949.365030982573\n",
      "-99.76977642363207 -8949.475863393847\n",
      "-99.76977642363272 -8949.574424834538\n",
      "-99.76977642363143 -8949.66208405882\n",
      "-99.76977642363214 -8949.740055024702\n",
      "-99.76977642363188 -8949.80941484212\n",
      "-99.76977642363234 -8949.871119548423\n",
      "-99.76977642363148 -8949.92601799301\n",
      "-99.76977642363262 -8949.974864072537\n",
      "-99.7697764236328 -8950.018327524402\n",
      "-99.76977642363144 -8950.057003457634\n",
      "-99.76977642363285 -8950.091420776214\n",
      "-99.76977642363205 -8950.122049629383\n",
      "-99.7697764236326 -8950.14930800584\n",
      "-99.76977642363136 -8950.173567573967\n",
      "-99.76977642363268 -8950.195158857025\n",
      "-99.76977642363157 -8950.214375821475\n",
      "-99.76977642363188 -8950.231479946644\n",
      "-99.76977642363293 -8950.246703835906\n",
      "-99.7697764236325 -8950.260254422097\n",
      "-99.76977642363269 -8950.272315813661\n",
      "-99.76977642363151 -8950.283051822553\n",
      "-99.76977642363195 -8950.292608209964\n",
      "-99.76977642363167 -8950.30111468191\n",
      "-99.76977642363212 -8950.308686662807\n",
      "-99.76977642363204 -8950.315426872077\n",
      "-99.76977642363208 -8950.321426725845\n",
      "-99.76977642363252 -8950.326767583323\n",
      "-99.76977642363232 -8950.331521855238\n",
      "-99.7697764236314 -8950.335753989657\n",
      "-99.76977642363273 -8950.33952134887\n",
      "-99.76977642363178 -8950.342874989467\n",
      "-99.76977642363161 -8950.345860356294\n",
      "-99.76977642363147 -8950.348517899896\n",
      "-99.7697764236329 -8950.350883625882\n",
      "-99.76977642363227 -8950.352989583756\n",
      "-99.76977642363236 -8950.354864301913\n",
      "-99.76977642363146 -8950.356533174729\n",
      "-99.76977642363245 -8950.35801880705\n",
      "-99.76977642363215 -8950.359341320785\n",
      "-99.76977642363211 -8950.360518627747\n",
      "-99.7697764236322 -8950.361566672505\n",
      "-99.76977642363231 -8950.362499648518\n",
      "-99.7697764236316 -8950.363330190514\n",
      "-99.76977642363167 -8950.364069545725\n",
      "-99.76977642363138 -8950.364727726288\n",
      "-99.76977642363246 -8950.365313644908\n",
      "-99.76977642363288 -8950.365835235616\n",
      "-99.76977642363275 -8950.366299561243\n",
      "-99.76977642363263 -8950.366712909106\n",
      "-99.76977642363137 -8950.367080876174\n",
      "-99.76977642363187 -8950.367408444867\n",
      "-99.76977642363288 -8950.367700050558\n",
      "-99.76977642363164 -8950.367959641628\n",
      "-99.76977642363194 -8950.368190732946\n",
      "-99.76977642363208 -8950.368396453474\n",
      "-99.76977642363182 -8950.368579588638\n",
      "-99.76977642363285 -8950.368742618037\n",
      "-99.76977642363285 -8950.368887749048\n",
      "-99.76977642363171 -8950.369016946684\n",
      "-99.76977642363249 -8950.36913196023\n",
      "-99.76977642363133 -8950.369234346912\n",
      "-99.76977642363222 -8950.36932549299\n",
      "-99.76977642363242 -8950.369406632535\n",
      "-99.76977642363248 -8950.369478864128\n",
      "-99.76977642363136 -8950.369543165738\n",
      "-99.76977642363208 -8950.369600407965\n",
      "-99.76977642363214 -8950.36965136583\n",
      "-99.76977642363147 -8950.369696729273\n",
      "-99.76977642363191 -8950.369737112473\n",
      "-99.7697764236321 -8950.369773062193\n",
      "-99.76977642363211 -8950.369805065167\n",
      "-99.7697764236317 -8950.369833554689\n",
      "-99.76977642363161 -8950.369858916483\n",
      "-99.76977642363222 -8950.369881493929\n",
      "-99.76977642363278 -8950.369901592709\n",
      "-99.76977642363262 -8950.369919484941\n",
      "-99.76977642363265 -8950.369935412875\n",
      "-99.76977642363151 -8950.369949592161\n",
      "-99.76977642363163 -8950.36996221477\n",
      "-99.76977642363202 -8950.369973451607\n",
      "-99.76977642363208 -8950.369983454808\n",
      "-99.76977642363161 -8950.369992359809\n",
      "-99.76977642363194 -8950.370000287174\n",
      "-99.76977642363236 -8950.370007344232\n",
      "-99.76977642363205 -8950.370013626532\n",
      "-99.76977642363282 -8950.370019219128\n",
      "-99.76977642363225 -8950.370024197744\n",
      "-99.76977642363148 -8950.370028629783\n",
      "-99.76977642363141 -8950.370032575249\n",
      "-99.769776423632 -8950.370036087563\n",
      "-99.7697764236325 -8950.370039214276\n",
      "-99.76977642363224 -8950.370041997725\n",
      "-99.76977642363266 -8950.370044475592\n",
      "-99.76977642363242 -8950.370046681428\n",
      "-99.7697764236315 -8950.370048645096\n",
      "-99.76977642363148 -8950.370050393183\n",
      "-99.76977642363231 -8950.370051949354\n",
      "-99.76977642363208 -8950.370053334684\n",
      "-99.7697764236325 -8950.370054567924\n"
     ]
    }
   ],
   "source": [
    "LLs = []\n",
    "Emaxs = 10**(np.linspace(42., 47., 100))\n",
    "Cmaxs = []\n",
    "\n",
    "for Emax in Emaxs:\n",
    "    guessC = guess_C(gamma, Emax, Eth, NFRB)\n",
    "    logC = np.log10(guessC)\n",
    "    Cvals = 10**(np.linspace(logC-1, logC+1, 1000))\n",
    "    #\n",
    "    misses = misses_term(Cvals, Eth, Emax, gamma) \n",
    "    hits = hit_term(df.E, Cvals, gamma)\n",
    "    LL_C = misses + hits\n",
    "    #print(guessC, Cvals[np.argmax(LL_C)])\n",
    "    imax = np.argmax(LL_C)\n",
    "    LLs.append(np.max(LL_C))\n",
    "    Cmaxs.append(Cvals[imax])\n",
    "    print(misses[imax], hits[imax])\n",
    "LLs = np.array(LLs)\n",
    "Cmaxs = np.array(Cmaxs)"
   ]
  },
  {
   "cell_type": "markdown",
   "id": "cc6ad58c",
   "metadata": {},
   "source": [
    "## Plot"
   ]
  },
  {
   "cell_type": "code",
   "execution_count": 36,
   "id": "f6b36a48-b3f2-4bd2-a3c7-64ab8f7cbc9f",
   "metadata": {},
   "outputs": [
    {
     "data": {
      "text/plain": [
       "Text(0, 0.5, ' $C$')"
      ]
     },
     "execution_count": 36,
     "metadata": {},
     "output_type": "execute_result"
    },
    {
     "data": {
      "image/png": "[encoded data removed]",
      "text/plain": [
       "<Figure size 432x288 with 1 Axes>"
      ]
     },
     "metadata": {
      "needs_background": "light"
     },
     "output_type": "display_data"
    }
   ],
   "source": [
    "ax = sns.lineplot(x=np.log10(Emaxs), y=Cmaxs)\n",
    "ax.set_xlabel('log10 Emax')\n",
    "ax.set_ylabel(r' $C$')"
   ]
  },
  {
   "cell_type": "code",
   "execution_count": 37,
   "id": "8a6be39e",
   "metadata": {},
   "outputs": [
    {
     "data": {
      "text/plain": [
       "Text(0, 0.5, ' $\\\\Delta \\\\, LL$')"
      ]
     },
     "execution_count": 37,
     "metadata": {},
     "output_type": "execute_result"
    },
    {
     "data": {
      "image/png": "[encoded data removed]",
      "text/plain": [
       "<Figure size 432x288 with 1 Axes>"
      ]
     },
     "metadata": {
      "needs_background": "light"
     },
     "output_type": "display_data"
    }
   ],
   "source": [
    "ax = sns.lineplot(x=np.log10(Emaxs), y=LLs - np.max(LLs))\n",
    "ax.set_xlabel('log10 Emax')\n",
    "ax.set_ylabel(r' $\\Delta \\, LL$')"
   ]
  },
  {
   "cell_type": "markdown",
   "id": "1f47d5f7",
   "metadata": {},
   "source": [
    "### Clearly $\\Delta LL$ is small (less than 1!) for all Emax values and there is no preference beyond 1e45."
   ]
  },
  {
   "cell_type": "markdown",
   "id": "0c619ac7",
   "metadata": {},
   "source": [
    "### This follows our intuition.."
   ]
  },
  {
   "cell_type": "markdown",
   "id": "fcda4aee-d11c-4302-8434-8f5f11b38a39",
   "metadata": {},
   "source": [
    "----"
   ]
  },
  {
   "cell_type": "markdown",
   "id": "b8431772-eabb-44fd-9ea0-f03bc7355ac8",
   "metadata": {},
   "source": [
    "# Alternative approach\n",
    "\n",
    "## $\\ln \\mathcal{L} = \\ln p_n(N) + \\sum\\limits_j^{N} \\ln p_j(E)$\n",
    "\n",
    "## with $p_j(E)$ normalized to unity\n",
    "\n",
    "## As with the FRBs, we will assume we have another normlization constant (not $C$) that we can tune to given $N$ events.\n",
    "\n",
    "## Therefore, we can always maximize $p_n(N)$"
   ]
  },
  {
   "cell_type": "code",
   "execution_count": 29,
   "id": "35d2ca51-bd69-4c24-8383-f5cdc4de9d11",
   "metadata": {},
   "outputs": [],
   "source": [
    "def norm_pE(Eth, Emax, gamma):\n",
    "    norm = (Emax**(1+gamma) - Eth**(1+gamma))/(1+gamma)\n",
    "    return norm"
   ]
  },
  {
   "cell_type": "code",
   "execution_count": 38,
   "id": "b193a3bc-29a9-4ff9-8ba5-299c24e8cb1e",
   "metadata": {},
   "outputs": [],
   "source": [
    "LLs2 = []\n",
    "#Emaxs = 10**(np.linspace(42., 47., 100))\n",
    "Cmaxs = []\n",
    "\n",
    "for Emax in Emaxs:\n",
    "    #\n",
    "    norm = norm_pE(Eth, Emax, gamma)\n",
    "    #print(guessC, Cvals[np.argmax(LL_C)])\n",
    "    pE = df.E**gamma / norm\n",
    "    #\n",
    "    LLs2.append(np.sum(np.log(pE)))\n",
    "LLs2 = np.array(LLs2)\n",
    "#Cmaxs = np.array(Cmaxs)"
   ]
  },
  {
   "cell_type": "code",
   "execution_count": 40,
   "id": "57f4c511-4f02-4303-9ccd-694bcd6507de",
   "metadata": {},
   "outputs": [
    {
     "data": {
      "text/plain": [
       "<matplotlib.legend.Legend at 0x7f154dcc90a0>"
      ]
     },
     "execution_count": 40,
     "metadata": {},
     "output_type": "execute_result"
    },
    {
     "data": {
      "image/png": "[encoded data removed]",
      "text/plain": [
       "<Figure size 432x288 with 1 Axes>"
      ]
     },
     "metadata": {
      "needs_background": "light"
     },
     "output_type": "display_data"
    }
   ],
   "source": [
    "ax = sns.lineplot(x=np.log10(Emaxs), y=LLs2 - np.max(LLs2), label='CJ version')\n",
    "ax = sns.lineplot(x=np.log10(Emaxs), y=LLs - np.max(LLs), label='x version')\n",
    "ax.set_xlabel('log10 Emax')\n",
    "ax.set_ylabel(r' $\\Delta \\, LL$')\n",
    "ax.legend()"
   ]
  },
  {
   "cell_type": "code",
   "execution_count": null,
   "id": "f1cad9c0-31e1-4c76-b1a6-2f2ead03f20b",
   "metadata": {},
   "outputs": [],
   "source": []
  }
 ],
 "metadata": {
  "kernelspec": {
   "display_name": "Python 3 (ipykernel)",
   "language": "python",
   "name": "python3"
  },
  "language_info": {
   "codemirror_mode": {
    "name": "ipython",
    "version": 3
   },
   "file_extension": ".py",
   "mimetype": "text/x-python",
   "name": "python",
   "nbconvert_exporter": "python",
   "pygments_lexer": "ipython3",
   "version": "3.9.7"
  }
 },
 "nbformat": 4,
 "nbformat_minor": 5
}

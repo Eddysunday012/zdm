{
 "cells": [
  {
   "cell_type": "markdown",
   "id": "9f4c62c1",
   "metadata": {},
   "source": [
    "# Max likelihood"
   ]
  },
  {
   "cell_type": "code",
   "execution_count": 1,
   "id": "569b78b7",
   "metadata": {},
   "outputs": [],
   "source": [
    "# imports\n",
    "from importlib import reload\n",
    "\n",
    "import pandas\n",
    "import numpy as np\n",
    "from scipy import special\n",
    "import seaborn as sns\n",
    "import mpmath\n",
    "from matplotlib import pyplot as plt\n"
   ]
  },
  {
   "cell_type": "markdown",
   "id": "53ad8e58",
   "metadata": {},
   "source": [
    "# Generate a faux sample\n",
    "\n",
    "## Let $E_{\\rm max} = 10^{50}$ and $E_{\\rm th} = 10^{40}$"
   ]
  },
  {
   "cell_type": "code",
   "execution_count": 2,
   "id": "7dc36342",
   "metadata": {},
   "outputs": [],
   "source": [
    "gamma = -2."
   ]
  },
  {
   "cell_type": "code",
   "execution_count": 3,
   "id": "6be73b8c",
   "metadata": {},
   "outputs": [],
   "source": [
    "NFRB = 100"
   ]
  },
  {
   "cell_type": "code",
   "execution_count": 4,
   "id": "ca0a9f28",
   "metadata": {},
   "outputs": [],
   "source": [
    "lEmax = 50.\n",
    "Emax = 10**lEmax"
   ]
  },
  {
   "cell_type": "code",
   "execution_count": 5,
   "id": "db47a0ce",
   "metadata": {},
   "outputs": [],
   "source": [
    "lEth = 40.\n",
    "Eth = 10**lEth"
   ]
  },
  {
   "cell_type": "code",
   "execution_count": 6,
   "id": "a41fe409",
   "metadata": {},
   "outputs": [
    {
     "data": {
      "text/plain": [
       "9.999999998999998e-41"
      ]
     },
     "execution_count": 6,
     "metadata": {},
     "output_type": "execute_result"
    }
   ],
   "source": [
    "norm = (Emax**(gamma+1) - Eth**(gamma+1))/(1+gamma)\n",
    "norm"
   ]
  },
  {
   "cell_type": "code",
   "execution_count": 7,
   "id": "ffee637f",
   "metadata": {},
   "outputs": [],
   "source": [
    "randu = np.random.uniform(size=NFRB)"
   ]
  },
  {
   "cell_type": "code",
   "execution_count": 8,
   "id": "3bb3425c",
   "metadata": {},
   "outputs": [],
   "source": [
    "randE = (randu*(gamma+1)*norm + 10**(lEth*(gamma+1)))**(1/(1+gamma))"
   ]
  },
  {
   "cell_type": "code",
   "execution_count": 9,
   "id": "f1ffa467",
   "metadata": {},
   "outputs": [],
   "source": [
    "df = pandas.DataFrame()\n",
    "df['E'] = randE\n",
    "df['logE'] = np.log10(randE)"
   ]
  },
  {
   "cell_type": "code",
   "execution_count": 10,
   "id": "ad033c0a",
   "metadata": {},
   "outputs": [
    {
     "data": {
      "text/plain": [
       "<AxesSubplot:xlabel='logE', ylabel='Count'>"
      ]
     },
     "execution_count": 10,
     "metadata": {},
     "output_type": "execute_result"
    },
    {
     "data": {
      "image/png": "[encoded data removed]",
      "text/plain": [
       "<Figure size 432x288 with 1 Axes>"
      ]
     },
     "metadata": {
      "needs_background": "light"
     },
     "output_type": "display_data"
    }
   ],
   "source": [
    "sns.histplot(data=df, x='logE')"
   ]
  },
  {
   "cell_type": "markdown",
   "id": "715eee1d",
   "metadata": {},
   "source": [
    "# Max Likelihood Time!"
   ]
  },
  {
   "cell_type": "markdown",
   "id": "81eee5ba",
   "metadata": {},
   "source": [
    "## Methods\n",
    "\n",
    "### We express the log-likelihood as \n",
    "\n",
    "## $\\ln \\mathcal{L} = - \\int\\limits_{E_{\\rm th}}^{E_{\\rm max}} p(E) dE + \\sum\\limits_{j=1}^N \\ln p(E)$\n",
    "\n",
    "### where $j$ is over all the $N$ FRBs and $p(E) = C E^\\gamma$"
   ]
  },
  {
   "cell_type": "markdown",
   "id": "b2855d31",
   "metadata": {},
   "source": [
    "## Likelihood terms"
   ]
  },
  {
   "cell_type": "markdown",
   "id": "c7b9f50d",
   "metadata": {},
   "source": [
    "### This terms accounts for the total space explored.  It *decreases* with increasing Emax"
   ]
  },
  {
   "cell_type": "code",
   "execution_count": 11,
   "id": "137890bf",
   "metadata": {},
   "outputs": [],
   "source": [
    "def misses_term(C, Eth, Emax, gamma):\n",
    "    return -C * (Emax**(gamma+1) - Eth**(gamma+1)) / (1+gamma)"
   ]
  },
  {
   "cell_type": "markdown",
   "id": "3f9e91de",
   "metadata": {},
   "source": [
    "### This term is simply proportional to the probability"
   ]
  },
  {
   "cell_type": "code",
   "execution_count": 12,
   "id": "cb002ad0",
   "metadata": {},
   "outputs": [],
   "source": [
    "def hit_term(Eval, C, gamma):\n",
    "    NFRB = len(Eval)\n",
    "    fterm = NFRB * np.log(C)\n",
    "    sterm = gamma * np.sum(np.log(Eval))\n",
    "    return fterm + sterm"
   ]
  },
  {
   "cell_type": "code",
   "execution_count": 13,
   "id": "9510281e",
   "metadata": {},
   "outputs": [],
   "source": [
    "def guess_C(gamma, Emax, Eth, NFRB):\n",
    "    return NFRB * (gamma+1) / (Emax**(gamma+1) - Eth**(gamma+1))"
   ]
  },
  {
   "cell_type": "markdown",
   "id": "6799bafa",
   "metadata": {},
   "source": [
    "## Test case $E_{max} = 10^{42}$"
   ]
  },
  {
   "cell_type": "code",
   "execution_count": 14,
   "id": "b012ea94",
   "metadata": {},
   "outputs": [],
   "source": [
    "Emax = 1e42\n",
    "#Eth = 1e40"
   ]
  },
  {
   "cell_type": "code",
   "execution_count": 15,
   "id": "c96ad242",
   "metadata": {},
   "outputs": [
    {
     "data": {
      "text/plain": [
       "1.01010101010101e+42"
      ]
     },
     "execution_count": 15,
     "metadata": {},
     "output_type": "execute_result"
    }
   ],
   "source": [
    "guessC = guess_C(gamma, Emax, Eth, NFRB)\n",
    "guessC"
   ]
  },
  {
   "cell_type": "code",
   "execution_count": 16,
   "id": "5149c004",
   "metadata": {},
   "outputs": [],
   "source": [
    "logC = np.log10(guessC)\n",
    "Cvals = 10**(np.linspace(logC-1, logC+1, 1000))"
   ]
  },
  {
   "cell_type": "code",
   "execution_count": 17,
   "id": "627187da",
   "metadata": {},
   "outputs": [],
   "source": [
    "LL_C = misses_term(Cvals, Eth, Emax, gamma) + hit_term(df.E, Cvals, gamma)"
   ]
  },
  {
   "cell_type": "code",
   "execution_count": 18,
   "id": "9ce02c5d",
   "metadata": {},
   "outputs": [
    {
     "data": {
      "text/plain": [
       "<AxesSubplot:>"
      ]
     },
     "execution_count": 18,
     "metadata": {},
     "output_type": "execute_result"
    },
    {
     "data": {
      "image/png": "[encoded data removed]",
      "text/plain": [
       "<Figure size 432x288 with 1 Axes>"
      ]
     },
     "metadata": {
      "needs_background": "light"
     },
     "output_type": "display_data"
    }
   ],
   "source": [
    "sns.lineplot(x=np.log10(Cvals), y=LL_C)"
   ]
  },
  {
   "cell_type": "code",
   "execution_count": 19,
   "id": "423d8478",
   "metadata": {},
   "outputs": [
    {
     "data": {
      "text/plain": [
       "1.0077755194306342e+42"
      ]
     },
     "execution_count": 19,
     "metadata": {},
     "output_type": "execute_result"
    }
   ],
   "source": [
    "Cmax = Cvals[np.argmax(LL_C)]\n",
    "Cmax"
   ]
  },
  {
   "cell_type": "markdown",
   "id": "8ed8ce74",
   "metadata": {},
   "source": [
    "## Loop a bit"
   ]
  },
  {
   "cell_type": "code",
   "execution_count": 34,
   "id": "d8ce4264",
   "metadata": {},
   "outputs": [],
   "source": [
    "LLs = []\n",
    "Emaxs = 10**(np.linspace(42., 47., 100))\n",
    "Cmaxs = []\n",
    "\n",
    "for Emax in Emaxs:\n",
    "    guessC = guess_C(gamma, Emax, Eth, NFRB)\n",
    "    logC = np.log10(guessC)\n",
    "    Cvals = 10**(np.linspace(logC-1, logC+1, 1000))\n",
    "    #\n",
    "    misses = misses_term(Cvals, Eth, Emax, gamma) \n",
    "    hits = hit_term(df.E, Cvals, gamma)\n",
    "    LL_C = misses + hits\n",
    "    #print(guessC, Cvals[np.argmax(LL_C)])\n",
    "    imax = np.argmax(LL_C)\n",
    "    LLs.append(np.max(LL_C))\n",
    "    Cmaxs.append(Cvals[imax])\n",
    "    #print(misses[imax], hits[imax])\n",
    "LLs = np.array(LLs)\n",
    "Cmaxs = np.array(Cmaxs)"
   ]
  },
  {
   "cell_type": "markdown",
   "id": "2649e145",
   "metadata": {},
   "source": [
    "## Plot"
   ]
  },
  {
   "cell_type": "code",
   "execution_count": 21,
   "id": "91a1c5f4",
   "metadata": {},
   "outputs": [
    {
     "data": {
      "text/plain": [
       "Text(0, 0.5, ' $C$')"
      ]
     },
     "execution_count": 21,
     "metadata": {},
     "output_type": "execute_result"
    },
    {
     "data": {
      "image/png": "[encoded data removed]",
      "text/plain": [
       "<Figure size 432x288 with 1 Axes>"
      ]
     },
     "metadata": {
      "needs_background": "light"
     },
     "output_type": "display_data"
    }
   ],
   "source": [
    "ax = sns.lineplot(x=np.log10(Emaxs), y=Cmaxs)\n",
    "ax.set_xlabel('log10 Emax')\n",
    "ax.set_ylabel(r' $C$')"
   ]
  },
  {
   "cell_type": "code",
   "execution_count": 22,
   "id": "07a06bcc",
   "metadata": {},
   "outputs": [
    {
     "data": {
      "text/plain": [
       "Text(0, 0.5, ' $\\\\Delta \\\\, LL$')"
      ]
     },
     "execution_count": 22,
     "metadata": {},
     "output_type": "execute_result"
    },
    {
     "data": {
      "image/png": "[encoded data removed]",
      "text/plain": [
       "<Figure size 432x288 with 1 Axes>"
      ]
     },
     "metadata": {
      "needs_background": "light"
     },
     "output_type": "display_data"
    }
   ],
   "source": [
    "ax = sns.lineplot(x=np.log10(Emaxs), y=LLs - np.max(LLs))\n",
    "ax.set_xlabel('log10 Emax')\n",
    "ax.set_ylabel(r' $\\Delta \\, LL$')"
   ]
  },
  {
   "cell_type": "markdown",
   "id": "e91a9b0a",
   "metadata": {},
   "source": [
    "### Clearly $\\Delta LL$ is small (less than 1!) for all Emax values and there is no preference beyond 1e45."
   ]
  },
  {
   "cell_type": "markdown",
   "id": "c3237195",
   "metadata": {},
   "source": [
    "### This follows our intuition.."
   ]
  },
  {
   "cell_type": "markdown",
   "id": "3457553d",
   "metadata": {},
   "source": [
    "----"
   ]
  },
  {
   "cell_type": "markdown",
   "id": "87d719a7",
   "metadata": {},
   "source": [
    "# Alternative approach\n",
    "\n",
    "## $\\ln \\mathcal{L} = \\ln p_n(N) + \\sum\\limits_j^{N} \\ln p_j(E)$\n",
    "\n",
    "## with $p_j(E)$ normalized to unity\n",
    "\n",
    "## As with the FRBs, we will assume we have another normlization constant (not $C$) that we can tune to given $N$ events.\n",
    "\n",
    "## Therefore, we can always maximize $p_n(N)$"
   ]
  },
  {
   "cell_type": "code",
   "execution_count": 29,
   "id": "86d85a23",
   "metadata": {},
   "outputs": [],
   "source": [
    "def norm_pE(Eth, Emax, gamma):\n",
    "    norm = (Emax**(1+gamma) - Eth**(1+gamma))/(1+gamma)\n",
    "    return norm"
   ]
  },
  {
   "cell_type": "code",
   "execution_count": 38,
   "id": "9e68233a",
   "metadata": {},
   "outputs": [],
   "source": [
    "LLs2 = []\n",
    "#Emaxs = 10**(np.linspace(42., 47., 100))\n",
    "Cmaxs = []\n",
    "\n",
    "for Emax in Emaxs:\n",
    "    #\n",
    "    norm = norm_pE(Eth, Emax, gamma)\n",
    "    #print(guessC, Cvals[np.argmax(LL_C)])\n",
    "    pE = df.E**gamma / norm\n",
    "    #\n",
    "    LLs2.append(np.sum(np.log(pE)))\n",
    "LLs2 = np.array(LLs2)\n",
    "#Cmaxs = np.array(Cmaxs)"
   ]
  },
  {
   "cell_type": "code",
   "execution_count": 40,
   "id": "357bd983",
   "metadata": {},
   "outputs": [
    {
     "data": {
      "text/plain": [
       "<matplotlib.legend.Legend at 0x7f154dcc90a0>"
      ]
     },
     "execution_count": 40,
     "metadata": {},
     "output_type": "execute_result"
    },
    {
     "data": {
      "image/png": "[encoded data removed]",
      "text/plain": [
       "<Figure size 432x288 with 1 Axes>"
      ]
     },
     "metadata": {
      "needs_background": "light"
     },
     "output_type": "display_data"
    }
   ],
   "source": [
    "ax = sns.lineplot(x=np.log10(Emaxs), y=LLs2 - np.max(LLs2), label='CJ version')\n",
    "ax = sns.lineplot(x=np.log10(Emaxs), y=LLs - np.max(LLs), label='x version')\n",
    "ax.set_xlabel('log10 Emax')\n",
    "ax.set_ylabel(r' $\\Delta \\, LL$')\n",
    "ax.legend()"
   ]
  },
  {
   "cell_type": "markdown",
   "id": "d00c9f31",
   "metadata": {},
   "source": [
    "----"
   ]
  },
  {
   "cell_type": "markdown",
   "id": "64d80797",
   "metadata": {},
   "source": [
    "# Gamma function"
   ]
  },
  {
   "cell_type": "code",
   "execution_count": 42,
   "id": "ab1d7fd7",
   "metadata": {},
   "outputs": [],
   "source": [
    "def Gamma_misses_term(C, Eth, Emax, gamma):\n",
    "    norm = float(mpmath.gammainc(gamma+1, a=Eth/Emax))\n",
    "    # Emax terms cancel\n",
    "    return -(C/Emax) * norm"
   ]
  },
  {
   "cell_type": "code",
   "execution_count": 51,
   "id": "2179d1a8",
   "metadata": {},
   "outputs": [],
   "source": [
    "def Gamma_hit_term(Eval, C, gamma, Emax):\n",
    "    NFRB = len(Eval)\n",
    "    fterm = NFRB * (np.log(C) - 2*np.log(Emax))\n",
    "    sterm= np.sum(np.log((Eval/Emax)**(gamma) * np.exp(-Eval/Emax)))\n",
    "    #import pdb; pdb.set_trace()\n",
    "    return fterm + sterm"
   ]
  },
  {
   "cell_type": "code",
   "execution_count": 44,
   "id": "f067bf60",
   "metadata": {},
   "outputs": [],
   "source": [
    "def Gamma_guess_C(gamma, Emax, Eth, NFRB):\n",
    "    return NFRB * Emax / float(mpmath.gammainc(gamma+1, a=Eth/Emax))"
   ]
  },
  {
   "cell_type": "code",
   "execution_count": 45,
   "id": "678e37df",
   "metadata": {},
   "outputs": [
    {
     "data": {
      "text/plain": [
       "-2.0"
      ]
     },
     "execution_count": 45,
     "metadata": {},
     "output_type": "execute_result"
    }
   ],
   "source": [
    "gamma"
   ]
  },
  {
   "cell_type": "markdown",
   "id": "e8155d94",
   "metadata": {},
   "source": [
    "## Do it"
   ]
  },
  {
   "cell_type": "code",
   "execution_count": 52,
   "id": "5eab0bdd",
   "metadata": {},
   "outputs": [],
   "source": [
    "LLsG = []\n",
    "Emaxs = 10**(np.linspace(42., 47., 100))\n",
    "Cmaxs = []\n",
    "\n",
    "for Emax in Emaxs:\n",
    "    guessC = Gamma_guess_C(gamma, Emax, Eth, NFRB)\n",
    "    logC = np.log10(guessC)\n",
    "    Cvals = 10**(np.linspace(logC-1, logC+1, 1000))\n",
    "    #\n",
    "    misses = Gamma_misses_term(Cvals, Eth, Emax, gamma) \n",
    "    hits = Gamma_hit_term(df.E, Cvals, gamma, Emax)\n",
    "    LL_C = misses + hits\n",
    "    #import pdb; pdb.set_trace()\n",
    "    #print(guessC, Cvals[np.argmax(LL_C)])\n",
    "    imax = np.argmax(LL_C)\n",
    "    LLsG.append(np.max(LL_C))\n",
    "    Cmaxs.append(Cvals[imax])\n",
    "    #print(misses[imax], hits[imax])\n",
    "LLsG = np.array(LLsG)\n",
    "Cmaxs = np.array(Cmaxs)"
   ]
  },
  {
   "cell_type": "code",
   "execution_count": 47,
   "id": "28bd51f4",
   "metadata": {},
   "outputs": [
    {
     "data": {
      "text/plain": [
       "1.0009642463459754e+42"
      ]
     },
     "execution_count": 47,
     "metadata": {},
     "output_type": "execute_result"
    }
   ],
   "source": [
    "Gamma_guess_C(gamma, 1e44, Eth, NFRB)"
   ]
  },
  {
   "cell_type": "code",
   "execution_count": 53,
   "id": "856b8f2d",
   "metadata": {},
   "outputs": [
    {
     "data": {
      "text/plain": [
       "Text(0, 0.5, ' $C$')"
      ]
     },
     "execution_count": 53,
     "metadata": {},
     "output_type": "execute_result"
    },
    {
     "data": {
      "image/png": "[encoded data removed]",
      "text/plain": [
       "<Figure size 432x288 with 1 Axes>"
      ]
     },
     "metadata": {
      "needs_background": "light"
     },
     "output_type": "display_data"
    }
   ],
   "source": [
    "ax = sns.lineplot(x=np.log10(Emaxs), y=Cmaxs)\n",
    "ax.set_xlabel('log10 Emax')\n",
    "ax.set_ylabel(r' $C$')"
   ]
  },
  {
   "cell_type": "code",
   "execution_count": 54,
   "id": "ac791243",
   "metadata": {},
   "outputs": [
    {
     "data": {
      "text/plain": [
       "<matplotlib.legend.Legend at 0x7f7f6e5ed8b0>"
      ]
     },
     "execution_count": 54,
     "metadata": {},
     "output_type": "execute_result"
    },
    {
     "data": {
      "image/png": "[encoded data removed]",
      "text/plain": [
       "<Figure size 432x288 with 1 Axes>"
      ]
     },
     "metadata": {
      "needs_background": "light"
     },
     "output_type": "display_data"
    }
   ],
   "source": [
    "ax = sns.lineplot(x=np.log10(Emaxs), y=LLsG - np.max(LLsG), label='Gamma function')\n",
    "#ax = sns.lineplot(x=np.log10(Emaxs), y=LLs - np.max(LLs), label='x version')\n",
    "ax.set_xlabel('log10 Emax')\n",
    "ax.set_ylabel(r' $\\Delta \\, LL$')\n",
    "#ax.set_ylim(-1., 0.)\n",
    "ax.legend()"
   ]
  },
  {
   "cell_type": "code",
   "execution_count": null,
   "id": "1f8b42ff",
   "metadata": {},
   "outputs": [],
   "source": []
  }
 ],
 "metadata": {
  "kernelspec": {
   "display_name": "Python 3 (ipykernel)",
   "language": "python",
   "name": "python3"
  },
  "language_info": {
   "codemirror_mode": {
    "name": "ipython",
    "version": 3
   },
   "file_extension": ".py",
   "mimetype": "text/x-python",
   "name": "python",
   "nbconvert_exporter": "python",
   "pygments_lexer": "ipython3",
   "version": "3.8.5"
  }
 },
 "nbformat": 4,
 "nbformat_minor": 5
}

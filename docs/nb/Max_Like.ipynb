{
 "cells": [
  {
   "cell_type": "markdown",
   "id": "5473d935",
   "metadata": {},
   "source": [
    "# Max likelihood"
   ]
  },
  {
   "cell_type": "code",
   "execution_count": 32,
   "id": "4a85f860",
   "metadata": {},
   "outputs": [],
   "source": [
    "# imports\n",
    "from importlib import reload\n",
    "\n",
    "import pandas\n",
    "import numpy as np\n",
    "from scipy import special\n",
    "import seaborn as sns\n",
    "import mpmath\n",
    "from matplotlib import pyplot as plt\n"
   ]
  },
  {
   "cell_type": "markdown",
   "id": "b7c6602f",
   "metadata": {},
   "source": [
    "# Generate a faux sample\n",
    "\n",
    "## Let $E_{\\rm max} = 10^{50}$ and $E_{\\rm th} = 10^{40}$"
   ]
  },
  {
   "cell_type": "code",
   "execution_count": 2,
   "id": "db70a6fc",
   "metadata": {},
   "outputs": [],
   "source": [
    "gamma = -2."
   ]
  },
  {
   "cell_type": "code",
   "execution_count": 3,
   "id": "e976e7fb",
   "metadata": {},
   "outputs": [],
   "source": [
    "NFRB = 100"
   ]
  },
  {
   "cell_type": "code",
   "execution_count": 5,
   "id": "d909146c",
   "metadata": {},
   "outputs": [],
   "source": [
    "lEmax = 50.\n",
    "Emax = 10**lEmax"
   ]
  },
  {
   "cell_type": "code",
   "execution_count": 6,
   "id": "2f2a8a0c",
   "metadata": {},
   "outputs": [],
   "source": [
    "lEth = 40.\n",
    "Eth = 10**lEth"
   ]
  },
  {
   "cell_type": "code",
   "execution_count": 9,
   "id": "8856a4e2",
   "metadata": {},
   "outputs": [
    {
     "data": {
      "text/plain": [
       "9.999999998999998e-41"
      ]
     },
     "execution_count": 9,
     "metadata": {},
     "output_type": "execute_result"
    }
   ],
   "source": [
    "norm = (Emax**(gamma+1) - Eth**(gamma+1))/(1+gamma)\n",
    "norm"
   ]
  },
  {
   "cell_type": "code",
   "execution_count": 8,
   "id": "59f8b8b4",
   "metadata": {},
   "outputs": [],
   "source": [
    "randu = np.random.uniform(size=NFRB)"
   ]
  },
  {
   "cell_type": "code",
   "execution_count": 30,
   "id": "f1742efc",
   "metadata": {},
   "outputs": [],
   "source": [
    "randE = (randu*(gamma+1)*norm + 10**(lEth*(gamma+1)))**(1/(1+gamma))"
   ]
  },
  {
   "cell_type": "code",
   "execution_count": 31,
   "id": "19a9a8ac",
   "metadata": {},
   "outputs": [
    {
     "data": {
      "text/plain": [
       "array([1.14507870e+40, 1.22570665e+40, 1.22088525e+40, 1.89113617e+40,\n",
       "       4.36140459e+40, 2.38788597e+40, 1.26837821e+40, 4.29231088e+40,\n",
       "       1.96703791e+40, 4.50457126e+40, 2.51434189e+41, 1.16716677e+40,\n",
       "       1.17363336e+40, 9.35984872e+40, 1.29442547e+40, 2.35942834e+40,\n",
       "       1.02704916e+40, 1.14927448e+40, 2.03926087e+40, 1.21875233e+41,\n",
       "       1.36021877e+40, 1.26214762e+40, 5.24133989e+40, 1.10974004e+40,\n",
       "       2.82693720e+40, 3.99247071e+40, 1.91570597e+41, 1.16607900e+40,\n",
       "       1.14092377e+40, 2.10329561e+40, 3.31006260e+40, 2.20876619e+40,\n",
       "       2.14203669e+40, 2.16688823e+40, 3.83883374e+40, 1.43030650e+40,\n",
       "       4.76438468e+40, 1.59768486e+40, 1.06334065e+40, 1.42382461e+40,\n",
       "       1.05538392e+40, 1.16706179e+40, 3.26231711e+41, 1.72470599e+40,\n",
       "       1.80477072e+41, 1.18154985e+40, 2.01192575e+40, 1.33723856e+40,\n",
       "       4.43084396e+40, 1.06529245e+40, 1.08042214e+40, 1.66028048e+40,\n",
       "       7.23171573e+40, 1.88385284e+40, 3.33098069e+40, 3.34478364e+40,\n",
       "       8.01991879e+40, 6.66151865e+40, 1.63766035e+40, 1.14323814e+40,\n",
       "       1.16569669e+40, 1.45411977e+40, 5.36194714e+40, 2.91096229e+40,\n",
       "       1.08738303e+40, 1.80610986e+40, 1.21680564e+40, 1.79389780e+40,\n",
       "       4.64610288e+40, 1.05573415e+40, 1.76444777e+40, 1.60353428e+40,\n",
       "       1.82097659e+40, 1.23404343e+40, 1.83677518e+40, 1.10633153e+40,\n",
       "       2.12797088e+40, 7.20256658e+40, 4.06081181e+40, 3.86760448e+40,\n",
       "       4.04336121e+40, 2.00746496e+40, 1.39380362e+41, 2.36482042e+40,\n",
       "       1.40653557e+40, 1.32032955e+40, 2.28965966e+40, 1.79532081e+40,\n",
       "       1.54720157e+40, 2.84533497e+40, 4.64677915e+40, 1.13944451e+40,\n",
       "       1.89741032e+40, 2.41565145e+40, 5.01423363e+40, 1.12334462e+40,\n",
       "       1.63695179e+40, 1.36089193e+41, 1.21044801e+40, 4.85741300e+40])"
      ]
     },
     "execution_count": 31,
     "metadata": {},
     "output_type": "execute_result"
    }
   ],
   "source": [
    "randE"
   ]
  },
  {
   "cell_type": "code",
   "execution_count": 37,
   "id": "c052e190",
   "metadata": {},
   "outputs": [],
   "source": [
    "df = pandas.DataFrame()\n",
    "df['E'] = randE\n",
    "df['logE'] = np.log10(randE)"
   ]
  },
  {
   "cell_type": "code",
   "execution_count": 38,
   "id": "ee89d8ca",
   "metadata": {},
   "outputs": [
    {
     "data": {
      "text/plain": [
       "<AxesSubplot:xlabel='logE', ylabel='Count'>"
      ]
     },
     "execution_count": 38,
     "metadata": {},
     "output_type": "execute_result"
    },
    {
     "data": {
      "image/png": "[encoded data removed]",
      "text/plain": [
       "<Figure size 432x288 with 1 Axes>"
      ]
     },
     "metadata": {
      "needs_background": "light"
     },
     "output_type": "display_data"
    }
   ],
   "source": [
    "sns.histplot(data=df, x='logE')"
   ]
  },
  {
   "cell_type": "markdown",
   "id": "0b3482fe",
   "metadata": {},
   "source": [
    "# Max Likelihood Time!"
   ]
  },
  {
   "cell_type": "markdown",
   "id": "d56d53dd",
   "metadata": {},
   "source": [
    "## Methods\n",
    "\n",
    "### We express the log-likelihood as \n",
    "\n",
    "## $\\ln \\mathcal{L} = - \\int\\limits_{E_{\\rm th}}^{E_{\\rm max}} p(E) dE + \\sum\\limits_{j=1}^N \\ln p(E)$\n",
    "\n",
    "### where $j$ is over all the $N$ FRBs and $p(E) = C E^\\gamma$"
   ]
  },
  {
   "cell_type": "markdown",
   "id": "ec2ed786",
   "metadata": {},
   "source": [
    "## Likelihood terms"
   ]
  },
  {
   "cell_type": "markdown",
   "id": "a11b65fe",
   "metadata": {},
   "source": [
    "### This terms accounts for the total space explored.  It *decreases* with increasing Emax"
   ]
  },
  {
   "cell_type": "code",
   "execution_count": 83,
   "id": "a427221d",
   "metadata": {},
   "outputs": [],
   "source": [
    "def misses_term(C, Eth, Emax, gamma):\n",
    "    return -C * (Emax**(gamma+1) - Eth**(gamma+1)) / (1+gamma)"
   ]
  },
  {
   "cell_type": "markdown",
   "id": "63204c62",
   "metadata": {},
   "source": [
    "### This term is simply proportional to the probability"
   ]
  },
  {
   "cell_type": "code",
   "execution_count": 50,
   "id": "42fb22c8",
   "metadata": {},
   "outputs": [],
   "source": [
    "def hit_term(Eval, C, gamma):\n",
    "    NFRB = len(Eval)\n",
    "    fterm = NFRB * np.log(C)\n",
    "    sterm = gamma * np.sum(np.log(Eval))\n",
    "    return fterm + sterm"
   ]
  },
  {
   "cell_type": "code",
   "execution_count": 51,
   "id": "140f4268",
   "metadata": {},
   "outputs": [],
   "source": [
    "def guess_C(gamma, Emax, Eth, NFRB):\n",
    "    return NFRB * (gamma+1) / (Emax**(gamma+1) - Eth**(gamma+1))"
   ]
  },
  {
   "cell_type": "markdown",
   "id": "ee152661",
   "metadata": {},
   "source": [
    "## Test case $E_{max} = 10^{42}$"
   ]
  },
  {
   "cell_type": "code",
   "execution_count": 52,
   "id": "dd830a98",
   "metadata": {},
   "outputs": [],
   "source": [
    "Emax = 1e42"
   ]
  },
  {
   "cell_type": "code",
   "execution_count": 53,
   "id": "6267e930",
   "metadata": {},
   "outputs": [
    {
     "data": {
      "text/plain": [
       "1.01010101010101e+42"
      ]
     },
     "execution_count": 53,
     "metadata": {},
     "output_type": "execute_result"
    }
   ],
   "source": [
    "guessC = guess_C(gamma, Emax, Eth, NFRB)\n",
    "guessC"
   ]
  },
  {
   "cell_type": "code",
   "execution_count": 54,
   "id": "a8d3cb71",
   "metadata": {},
   "outputs": [],
   "source": [
    "logC = np.log10(guessC)\n",
    "Cvals = 10**(np.linspace(logC-1, logC+1, 1000))"
   ]
  },
  {
   "cell_type": "code",
   "execution_count": 70,
   "id": "b5661489",
   "metadata": {},
   "outputs": [],
   "source": [
    "LL_C = misses_term(Cvals, Eth, Emax, gamma) + hit_term(df.E, Cvals, gamma)"
   ]
  },
  {
   "cell_type": "code",
   "execution_count": 71,
   "id": "c72b45f8",
   "metadata": {},
   "outputs": [
    {
     "data": {
      "text/plain": [
       "<AxesSubplot:>"
      ]
     },
     "execution_count": 71,
     "metadata": {},
     "output_type": "execute_result"
    },
    {
     "data": {
      "image/png": "[encoded data removed]",
      "text/plain": [
       "<Figure size 432x288 with 1 Axes>"
      ]
     },
     "metadata": {
      "needs_background": "light"
     },
     "output_type": "display_data"
    }
   ],
   "source": [
    "sns.lineplot(x=np.log10(Cvals), y=LL_C)"
   ]
  },
  {
   "cell_type": "code",
   "execution_count": 69,
   "id": "8fc8d0c6",
   "metadata": {},
   "outputs": [
    {
     "data": {
      "text/plain": [
       "1.0077755194306342e+42"
      ]
     },
     "execution_count": 69,
     "metadata": {},
     "output_type": "execute_result"
    }
   ],
   "source": [
    "Cmax = Cvals[np.argmax(LL)]\n",
    "Cmax"
   ]
  },
  {
   "cell_type": "markdown",
   "id": "67902f95",
   "metadata": {},
   "source": [
    "## Loop a bit"
   ]
  },
  {
   "cell_type": "code",
   "execution_count": 80,
   "id": "b5d9c8ac",
   "metadata": {},
   "outputs": [],
   "source": [
    "LLs = []\n",
    "Emaxs = 10**(np.linspace(42., 47., 100))\n",
    "\n",
    "for Emax in Emaxs:\n",
    "    guessC = guess_C(gamma, Emax, Eth, NFRB)\n",
    "    logC = np.log10(guessC)\n",
    "    Cvals = 10**(np.linspace(logC-1, logC+1, 1000))\n",
    "    #\n",
    "    LL_C = misses_term(Cvals, Eth, Emax, gamma) + hit_term(df.E, Cvals, gamma)\n",
    "    #print(guessC, Cvals[np.argmax(LL_C)])\n",
    "    LLs.append(np.max(LL_C))\n",
    "LLs = np.array(LLs)"
   ]
  },
  {
   "cell_type": "code",
   "execution_count": 82,
   "id": "2ad1889b",
   "metadata": {},
   "outputs": [
    {
     "data": {
      "text/plain": [
       "Text(0, 0.5, ' $\\\\Delta \\\\, LL$')"
      ]
     },
     "execution_count": 82,
     "metadata": {},
     "output_type": "execute_result"
    },
    {
     "data": {
      "image/png": "[encoded data removed]",
      "text/plain": [
       "<Figure size 432x288 with 1 Axes>"
      ]
     },
     "metadata": {
      "needs_background": "light"
     },
     "output_type": "display_data"
    }
   ],
   "source": [
    "ax = sns.lineplot(x=np.log10(Emaxs), y=LLs - np.max(LLs))\n",
    "ax.set_xlabel('log10 Emax')\n",
    "ax.set_ylabel(r' $\\Delta \\, LL$')"
   ]
  },
  {
   "cell_type": "code",
   "execution_count": null,
   "id": "8dd3dc48",
   "metadata": {},
   "outputs": [],
   "source": []
  }
 ],
 "metadata": {
  "kernelspec": {
   "display_name": "Python 3 (ipykernel)",
   "language": "python",
   "name": "python3"
  },
  "language_info": {
   "codemirror_mode": {
    "name": "ipython",
    "version": 3
   },
   "file_extension": ".py",
   "mimetype": "text/x-python",
   "name": "python",
   "nbconvert_exporter": "python",
   "pygments_lexer": "ipython3",
   "version": "3.8.5"
  }
 },
 "nbformat": 4,
 "nbformat_minor": 5
}

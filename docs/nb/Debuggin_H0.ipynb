{
 "cells": [
  {
   "cell_type": "markdown",
   "id": "ba83c1fd",
   "metadata": {},
   "source": [
    "# Debugging $H_0$"
   ]
  },
  {
   "cell_type": "code",
   "execution_count": 10,
   "id": "1336e355",
   "metadata": {},
   "outputs": [],
   "source": [
    "# imports\n",
    "import numpy as np\n",
    "\n",
    "from zdm.craco import loading\n",
    "from zdm import iteration as it"
   ]
  },
  {
   "cell_type": "markdown",
   "id": "2e4afc5d",
   "metadata": {},
   "source": [
    "# Load CRACO "
   ]
  },
  {
   "cell_type": "code",
   "execution_count": 3,
   "id": "d05ffbf2",
   "metadata": {},
   "outputs": [
    {
     "name": "stdout",
     "output_type": "stream",
     "text": [
      "Loading survey: CRACO_alpha1_Planck18\n",
      "FRB survey succeffully initialised with  100  FRBs\n",
      "Initialised grid\n"
     ]
    }
   ],
   "source": [
    "isurvey, igrid = loading.survey_and_grid(survey_name='CRACO_alpha1_Planck18',\n",
    "                                  NFRB=100,\n",
    "                                  lum_func=0)"
   ]
  },
  {
   "cell_type": "code",
   "execution_count": 8,
   "id": "bd17683a",
   "metadata": {},
   "outputs": [],
   "source": [
    "surveys = [isurvey]                                      \n",
    "grids = [igrid]"
   ]
  },
  {
   "cell_type": "markdown",
   "id": "e082e2bb",
   "metadata": {},
   "source": [
    "# Param"
   ]
  },
  {
   "cell_type": "code",
   "execution_count": 5,
   "id": "11c685b4",
   "metadata": {},
   "outputs": [],
   "source": [
    "pvals = np.linspace(60., 80, 50)"
   ]
  },
  {
   "cell_type": "code",
   "execution_count": 7,
   "id": "fd2bdb28",
   "metadata": {},
   "outputs": [],
   "source": [
    "vparams = {}\n",
    "vparams['H0'] = None\n",
    "vparams['lC'] = -0.9"
   ]
  },
  {
   "cell_type": "markdown",
   "id": "76c9cee0",
   "metadata": {},
   "source": [
    "# Run"
   ]
  },
  {
   "cell_type": "code",
   "execution_count": 15,
   "id": "08f92fe8",
   "metadata": {},
   "outputs": [
    {
     "name": "stdout",
     "output_type": "stream",
     "text": [
      "H0: pval=64.48979591836735, C=2.51996924102714, lltot=-563.689345478697\n",
      "H0: pval=64.89795918367346, C=2.520119684784364, lltot=-563.0644335082137\n"
     ]
    }
   ],
   "source": [
    "lls = []\n",
    "nterms = []  # LL term related to norm (i.e. rates)\n",
    "pvterms = []  # LL term related to norm (i.e. rates)\n",
    "pvvals = []  # \n",
    "wzvals = []  # \n",
    "for tt, pval in enumerate(pvals):\n",
    "    if pval < 64.4:\n",
    "        continue\n",
    "    if pval > 65.0:\n",
    "        continue\n",
    "    vparams['H0'] = pval\n",
    "    C,llC,lltot=it.minimise_const_only(\n",
    "                vparams,grids,surveys, Verbose=False)\n",
    "    vparams['lC']=C\n",
    "    lls_final, nterm, pvterm, lpvals, lwz = it.calc_likelihoods_2D(\n",
    "                igrid, isurvey, vparams['lC'],\n",
    "                norm=True,psnr=True,dolist=4)\n",
    "    # Hold\n",
    "    lls.append(lls_final)\n",
    "    nterms.append(nterm)\n",
    "    pvterms.append(pvterm)\n",
    "    pvvals.append(lpvals)\n",
    "    wzvals.append(lwz)\n",
    "    print(f'H0: pval={pval}, C={C}, lltot={lls_final}')"
   ]
  },
  {
   "cell_type": "code",
   "execution_count": 16,
   "id": "835c6345",
   "metadata": {},
   "outputs": [
    {
     "data": {
      "text/plain": [
       "2"
      ]
     },
     "execution_count": 16,
     "metadata": {},
     "output_type": "execute_result"
    }
   ],
   "source": [
    "len(pvvals)"
   ]
  },
  {
   "cell_type": "markdown",
   "id": "4cdae558",
   "metadata": {},
   "source": [
    "# Compare"
   ]
  },
  {
   "cell_type": "code",
   "execution_count": 17,
   "id": "52e7dbc2",
   "metadata": {},
   "outputs": [
    {
     "data": {
      "text/plain": [
       "array([-3.00821224e-09,  5.91925997e-09, -3.04089167e-09, -6.82703069e-09,\n",
       "       -1.28657517e-09, -5.46431531e-09, -4.48785898e-09, -3.23870981e-10,\n",
       "       -6.42862849e-10, -4.57481702e-09,  1.50017735e-09, -4.99662818e-09,\n",
       "       -5.14402809e-09, -5.64273984e-09, -4.07407098e-09,  7.23598743e-09,\n",
       "       -2.61153415e-09, -5.77517925e-10,  5.41593320e-09, -8.17641723e-10,\n",
       "       -1.40644930e-09,  2.51904262e-09,  4.78860523e-09, -3.53397872e-09,\n",
       "       -2.42676577e-09, -2.80771199e-09,  5.78130042e-09, -2.83612351e-09,\n",
       "       -2.02256527e-10,  7.97004846e-09, -2.02305267e-09, -6.11212455e-09,\n",
       "        7.82020421e-09, -4.15720548e-10,  5.71255636e-10, -4.16935437e-09,\n",
       "       -5.51512225e-09,  9.30569108e-09, -1.10712914e-09,  8.03953593e-09,\n",
       "       -4.97044430e-09,  7.39870247e-10, -2.56041877e-09, -1.08480307e-09,\n",
       "       -3.60745976e-09, -5.98080679e-10, -1.33289910e-09, -4.28457252e-09,\n",
       "       -2.33878865e-09, -1.43436935e-09, -4.98936172e-10, -6.32782252e-10,\n",
       "        2.43951532e-09,  2.43319196e-09, -1.94189437e-09,  5.71581108e-10,\n",
       "       -1.23010785e-09, -5.36557465e-09, -4.70162585e-09, -2.98048293e-09,\n",
       "       -2.29600987e-09, -4.61972389e-09, -4.51662598e-09, -4.06296194e-09,\n",
       "        3.85067606e-09, -5.96791685e-09, -1.50424605e-09, -5.32334048e-09,\n",
       "       -2.23723701e-09, -5.61987588e-09, -4.54751608e-09,  5.77509704e-09,\n",
       "       -4.12145918e-09,  6.18724851e-09, -1.75942915e-09, -4.74312381e-10,\n",
       "       -3.14491475e-09,  3.94054257e-09, -5.71055939e-10, -3.51888364e-09,\n",
       "       -2.99053701e-09, -5.62907665e-09, -1.55460991e-09, -1.82264188e-09,\n",
       "        1.32995525e-09, -3.30049437e-12,  8.57599056e-09,  2.01657379e-11,\n",
       "       -6.34157010e-10, -6.65369112e-10,  9.39220839e-09,  1.24552915e-09,\n",
       "       -4.34587647e-10,  1.20659961e-10, -2.27230884e-09, -5.67811937e-09,\n",
       "       -3.49836078e-11,  9.07471062e-09,  1.05928599e-08,  7.07422411e-09])"
      ]
     },
     "execution_count": 17,
     "metadata": {},
     "output_type": "execute_result"
    }
   ],
   "source": [
    "pvvals[1]-pvvals[0]"
   ]
  },
  {
   "cell_type": "code",
   "execution_count": 21,
   "id": "fdda2535",
   "metadata": {},
   "outputs": [
    {
     "data": {
      "text/plain": [
       "(-666.5138124571369, -666.4174980141194)"
      ]
     },
     "execution_count": 21,
     "metadata": {},
     "output_type": "execute_result"
    }
   ],
   "source": [
    "np.sum(np.log10(pvvals[0])), np.sum(np.log10(pvvals[1]))"
   ]
  },
  {
   "cell_type": "code",
   "execution_count": 36,
   "id": "9fc9488c",
   "metadata": {},
   "outputs": [
    {
     "data": {
      "text/plain": [
       "0.010924587278980269"
      ]
     },
     "execution_count": 36,
     "metadata": {},
     "output_type": "execute_result"
    }
   ],
   "source": [
    "(np.log10(pvvals[1]) - np.log10(pvvals[0]))[32]"
   ]
  },
  {
   "cell_type": "code",
   "execution_count": 22,
   "id": "4313d229",
   "metadata": {},
   "outputs": [
    {
     "data": {
      "text/plain": [
       "(-146.2931911156903, -145.77963796394698)"
      ]
     },
     "execution_count": 22,
     "metadata": {},
     "output_type": "execute_result"
    }
   ],
   "source": [
    "np.sum(np.log10(wzvals[0])), np.sum(np.log10(wzvals[1]))"
   ]
  },
  {
   "cell_type": "code",
   "execution_count": 35,
   "id": "8b2d181f",
   "metadata": {},
   "outputs": [
    {
     "data": {
      "text/plain": [
       "array([-2.63318637e-04, -1.10218810e-03, -7.16908182e-04, -1.74535165e-07,\n",
       "       -1.95019806e-05, -1.60518915e-04, -9.12344383e-05, -1.44391201e-04,\n",
       "       -1.96516974e-03, -7.29753782e-04, -3.75286778e-04, -1.27335264e-04,\n",
       "       -2.79113635e-04, -1.32206961e-04, -2.24997876e-04, -3.49429812e-04,\n",
       "       -1.67428226e-06, -2.85442273e-04, -8.99825781e-04, -6.83261037e-05,\n",
       "       -1.48007408e-05, -2.03970941e-03, -4.34643635e-03,  6.53124119e-05,\n",
       "       -1.37933426e-03, -1.40828724e-04, -4.89288115e-04, -6.42137494e-06,\n",
       "       -1.48716823e-03, -5.45856731e-04, -1.35121674e-04, -6.08397384e-06,\n",
       "        6.11496840e-01, -3.85375261e-05, -1.57330665e-03, -1.80878800e-05,\n",
       "       -2.48596278e-04,  5.97938097e-04, -5.21901664e-04, -1.01514783e-03,\n",
       "       -4.75002471e-04, -6.12667816e-05, -1.77132637e-03,  3.13890500e-02,\n",
       "       -4.09428334e-05, -2.79950552e-03, -4.30996805e-04, -2.58398497e-04,\n",
       "       -8.86741866e-04, -3.97992553e-04, -6.37970422e-03, -1.63351411e-04,\n",
       "       -2.22700750e-03, -2.94344490e-03, -5.42085703e-04, -1.35312653e-04,\n",
       "       -5.80791999e-05, -3.24291111e-04, -4.85521223e-04, -5.24598480e-04,\n",
       "       -6.29264425e-04, -7.10996315e-04, -4.57979268e-05, -2.56673732e-04,\n",
       "       -2.15200016e-03, -3.86160554e-05, -3.28349360e-03, -3.21020448e-05,\n",
       "       -4.29609319e-05, -1.91219511e-04, -7.31847763e-04, -1.91513796e-03,\n",
       "       -9.20586885e-04, -7.29485598e-04, -2.89471766e-03, -4.79688209e-03,\n",
       "       -1.24953725e-03, -2.89941883e-03, -4.57709444e-03, -1.73622561e-05,\n",
       "       -1.74837874e-03, -6.39261825e-05, -1.75206279e-03, -6.95428661e-04,\n",
       "       -1.55221590e-02, -6.61561240e-03, -8.87377099e-04, -6.30086242e-03,\n",
       "       -4.58962647e-04, -4.42841612e-03, -1.68337637e-04, -5.66413699e-04,\n",
       "       -1.15457411e-03, -9.62301220e-03, -4.16649946e-04, -1.39615268e-06,\n",
       "       -5.74583542e-03, -1.13493905e-03, -8.56985484e-04, -8.90467212e-04])"
      ]
     },
     "execution_count": 35,
     "metadata": {},
     "output_type": "execute_result"
    }
   ],
   "source": [
    "np.log10(wzvals[1]) - np.log10(wzvals[0])"
   ]
  },
  {
   "cell_type": "code",
   "execution_count": 26,
   "id": "1c860157",
   "metadata": {},
   "outputs": [
    {
     "data": {
      "text/plain": [
       "32"
      ]
     },
     "execution_count": 26,
     "metadata": {},
     "output_type": "execute_result"
    }
   ],
   "source": [
    "np.argmax(np.log10(wzvals[1]) - np.log10(wzvals[0]))"
   ]
  },
  {
   "cell_type": "code",
   "execution_count": 29,
   "id": "ccd373c7",
   "metadata": {},
   "outputs": [
    {
     "data": {
      "text/plain": [
       "(0.00012570605195918138, 0.0005138697186053516)"
      ]
     },
     "execution_count": 29,
     "metadata": {},
     "output_type": "execute_result"
    }
   ],
   "source": [
    "wzvals[0][32], wzvals[1][32]"
   ]
  },
  {
   "cell_type": "markdown",
   "id": "d160628d",
   "metadata": {},
   "source": [
    "# Explore that FRB"
   ]
  },
  {
   "cell_type": "code",
   "execution_count": 33,
   "id": "33ccd1b3",
   "metadata": {},
   "outputs": [
    {
     "data": {
      "text/plain": [
       "(411.1, 0.552, 11.852631578947367)"
      ]
     },
     "execution_count": 33,
     "metadata": {},
     "output_type": "execute_result"
    }
   ],
   "source": [
    "isurvey.DMEGs[32], isurvey.Zs[32], isurvey.Ss[32]"
   ]
  },
  {
   "cell_type": "markdown",
   "id": "7c217e19",
   "metadata": {},
   "source": [
    "## H0: pval=64.4897\n",
    "\n",
    "## psnr-- 1.9e-17 with only the last $b$ and first $w$ value contributing"
   ]
  },
  {
   "cell_type": "markdown",
   "id": "be319950",
   "metadata": {},
   "source": [
    "## H0: pval=64.8979\n",
    "\n",
    "## psnr -- 7.9e-17 with only the last $b$ and first two $w$ values contributing"
   ]
  },
  {
   "cell_type": "markdown",
   "id": "13a00088",
   "metadata": {},
   "source": [
    "# Increasing $E_{\\rm max}$ by 0.1dex smooths things out \n",
    "## (and removes the Nan's)"
   ]
  },
  {
   "cell_type": "markdown",
   "id": "d1efd7f9",
   "metadata": {},
   "source": [
    "# Here is a Doc describing a bit more:\n",
    "\n",
    "## https://docs.google.com/document/d/1kpWhiu5CPWg0I-PzFClSI-6jjPrxOvipfQvBjl4htuQ/edit?usp=sharing "
   ]
  },
  {
   "cell_type": "code",
   "execution_count": null,
   "id": "e0da871c",
   "metadata": {},
   "outputs": [],
   "source": []
  }
 ],
 "metadata": {
  "kernelspec": {
   "display_name": "Python 3 (ipykernel)",
   "language": "python",
   "name": "python3"
  },
  "language_info": {
   "codemirror_mode": {
    "name": "ipython",
    "version": 3
   },
   "file_extension": ".py",
   "mimetype": "text/x-python",
   "name": "python",
   "nbconvert_exporter": "python",
   "pygments_lexer": "ipython3",
   "version": "3.8.5"
  }
 },
 "nbformat": 4,
 "nbformat_minor": 5
}

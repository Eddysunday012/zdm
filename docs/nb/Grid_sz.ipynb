{
 "cells": [
  {
   "cell_type": "markdown",
   "id": "2fff19fe-bdaf-48f8-a26d-68a2c2b63ebc",
   "metadata": {},
   "source": [
    "# Generate s vs. z grid"
   ]
  },
  {
   "cell_type": "code",
   "execution_count": 7,
   "id": "24b8a8fb-ed8d-49ca-8fbc-97c40bd2d395",
   "metadata": {},
   "outputs": [],
   "source": [
    "# imports\n",
    "import numpy as np\n",
    "\n",
    "from matplotlib import pyplot as plt\n",
    "\n",
    "from zdm.craco import loading"
   ]
  },
  {
   "cell_type": "markdown",
   "id": "621e1ea7-61da-46a6-9353-713265121409",
   "metadata": {},
   "source": [
    "# Load the grid"
   ]
  },
  {
   "cell_type": "code",
   "execution_count": 3,
   "id": "218944a3-cbdd-44fd-a14d-c2285c94db40",
   "metadata": {},
   "outputs": [
    {
     "name": "stdout",
     "output_type": "stream",
     "text": [
      "Loading survey: CRACO_alpha1_Planck18_Gamma\n",
      "FRB survey succeffully initialised with  100  FRBs\n",
      "Initialised grid\n"
     ]
    }
   ],
   "source": [
    "survey, grid = loading.survey_and_grid(\n",
    "    survey_name='CRACO_alpha1_Planck18_Gamma',\n",
    "    NFRB=100, lum_func=1)"
   ]
  },
  {
   "cell_type": "markdown",
   "id": "73106a04-4e9f-410a-9fbd-2293f082682b",
   "metadata": {},
   "source": [
    "# Build it up"
   ]
  },
  {
   "cell_type": "markdown",
   "id": "f58d0465-ea98-4137-bc36-d46fcbb43e7e",
   "metadata": {},
   "source": [
    "## Collapse on DM"
   ]
  },
  {
   "cell_type": "code",
   "execution_count": 8,
   "id": "5050bacf-c466-48a6-8c92-eecf3277e453",
   "metadata": {},
   "outputs": [],
   "source": [
    "z_coll = np.sum(grid.rates, axis=1)"
   ]
  },
  {
   "cell_type": "markdown",
   "id": "0c151a79-a674-4515-8835-1db4791f5ca7",
   "metadata": {},
   "source": [
    "### Plot"
   ]
  },
  {
   "cell_type": "code",
   "execution_count": 10,
   "id": "fc5e1026-5bdf-4cbb-be1f-6adeaf4fa020",
   "metadata": {},
   "outputs": [
    {
     "data": {
      "image/png": "[encoded data removed]",
      "text/plain": [
       "<Figure size 432x288 with 1 Axes>"
      ]
     },
     "metadata": {
      "needs_background": "light"
     },
     "output_type": "display_data"
    }
   ],
   "source": [
    "plt.clf()\n",
    "ax = plt.gca()\n",
    "ax.plot(grid.zvals, z_coll)\n",
    "plt.show()"
   ]
  },
  {
   "cell_type": "code",
   "execution_count": 11,
   "id": "2fedf816-936e-460a-97fb-bca3c3a28124",
   "metadata": {},
   "outputs": [
    {
     "data": {
      "text/plain": [
       "0.0"
      ]
     },
     "execution_count": 11,
     "metadata": {},
     "output_type": "execute_result"
    }
   ],
   "source": [
    "z_coll[-1]"
   ]
  },
  {
   "cell_type": "markdown",
   "id": "5b3a7d45-7c58-4e27-8588-e49d94ed1b58",
   "metadata": {},
   "source": [
    "# Init"
   ]
  },
  {
   "cell_type": "code",
   "execution_count": 13,
   "id": "609ee24d-15ac-4ca3-8cdb-a1016309cd79",
   "metadata": {},
   "outputs": [],
   "source": [
    "ns = 1000\n",
    "s_grid = np.zeros((z_coll.size, ns))"
   ]
  },
  {
   "cell_type": "markdown",
   "id": "91f43510-d05a-44b4-b51c-be0a2407e119",
   "metadata": {},
   "source": [
    "## s values"
   ]
  },
  {
   "cell_type": "code",
   "execution_count": 18,
   "id": "d41cfac6-74d0-450d-b2e5-ce545b6741df",
   "metadata": {},
   "outputs": [
    {
     "data": {
      "text/plain": [
       "9.5"
      ]
     },
     "execution_count": 18,
     "metadata": {},
     "output_type": "execute_result"
    }
   ],
   "source": [
    "survey.SNRTHRESHs[0]"
   ]
  },
  {
   "cell_type": "code",
   "execution_count": 19,
   "id": "b68aedee-5131-474b-af67-70e87defd620",
   "metadata": {},
   "outputs": [],
   "source": [
    "s_vals = np.linspace(survey.SNRTHRESHs[0], 1000., ns)"
   ]
  },
  {
   "cell_type": "markdown",
   "id": "222d0b15-1353-4818-bf7a-63da36e7fbc7",
   "metadata": {},
   "source": [
    "## One evaluation"
   ]
  },
  {
   "cell_type": "code",
   "execution_count": 20,
   "id": "c329c018-45a4-4ebb-9a7a-e8d3b90f7db7",
   "metadata": {},
   "outputs": [
    {
     "data": {
      "text/plain": [
       "(10, 500, 1400)"
      ]
     },
     "execution_count": 20,
     "metadata": {},
     "output_type": "execute_result"
    }
   ],
   "source": [
    "grid.thresholds.shape"
   ]
  },
  {
   "cell_type": "code",
   "execution_count": 21,
   "id": "d9f05852-e16e-4403-bc01-9d4d03d200ec",
   "metadata": {},
   "outputs": [
    {
     "data": {
      "text/plain": [
       "(10,)"
      ]
     },
     "execution_count": 21,
     "metadata": {},
     "output_type": "execute_result"
    }
   ],
   "source": [
    "grid.eff_weights.shape"
   ]
  },
  {
   "cell_type": "code",
   "execution_count": null,
   "id": "38285886-7db5-4b10-ab2a-87e2a4926aa9",
   "metadata": {},
   "outputs": [],
   "source": [
    "Emax=10**grid.state.energy.lEmax\n",
    "Emin=10**grid.state.energy.lEmin\n",
    "gamma=grid.state.energy.gamma\n",
    "#Eths has dimensions of width likelihoods and nobs\n",
    "# i.e. later, the loop over j,w uses the first index\n",
    "Eths = grid.thresholds[:,izs1,idms1]*(1.-dkdms)*(1-dkzs)\n",
    "Eths += grid.thresholds[:,izs2,idms1]*(1.-dkdms)*dkzs\n",
    "Eths += grid.thresholds[:,izs1,idms2]*dkdms*(1-dkzs)\n",
    "Eths += grid.thresholds[:,izs2,idms2]*dkdms*dkzs\n",
    "\n",
    "FtoE = grid.FtoE[izs1]*(1.-dkzs)\n",
    "FtoE += grid.FtoE[izs2]*dkzs\n",
    "\n",
    "beam_norm=np.sum(survey.beam_o)\n",
    "\n",
    "# now do this in one go\n",
    "# We integrate p(snr|b,w) p(b,w) db dw. \n",
    "# I have no idea how this could be multidimensional\n",
    "psnr=np.zeros(Eths.shape[1])\n",
    "for i,b in enumerate(survey.beam_b):\n",
    "    bEths=Eths/b # array of shape NFRB, 1/b\n",
    "    bEobs=bEths*survey.Ss\n",
    "    for j,w in enumerate(grid.eff_weights):\n",
    "        temp=grid.array_diff_lf(bEobs[j,:],Emin,Emax,gamma) * FtoE #one dim in beamshape, one dim in FRB\n",
    "\n",
    "        psnr += temp.T*survey.beam_o[i]*w #multiplies by beam factors and weight\n",
    "                "
   ]
  },
  {
   "cell_type": "markdown",
   "id": "d28af038-7286-431e-935d-05d7490aa0f5",
   "metadata": {},
   "source": [
    "## Loop me.."
   ]
  },
  {
   "cell_type": "code",
   "execution_count": 16,
   "id": "7d10e830-3fe8-47d8-bb66-b46a1769765d",
   "metadata": {},
   "outputs": [
    {
     "data": {
      "text/plain": [
       "0.01"
      ]
     },
     "execution_count": 16,
     "metadata": {},
     "output_type": "execute_result"
    }
   ],
   "source": [
    "grid.zvals[0]"
   ]
  },
  {
   "cell_type": "code",
   "execution_count": null,
   "id": "dabad9e7-5856-4365-9252-ce5ef635ef4f",
   "metadata": {},
   "outputs": [],
   "source": []
  }
 ],
 "metadata": {
  "kernelspec": {
   "display_name": "Python 3 (ipykernel)",
   "language": "python",
   "name": "python3"
  },
  "language_info": {
   "codemirror_mode": {
    "name": "ipython",
    "version": 3
   },
   "file_extension": ".py",
   "mimetype": "text/x-python",
   "name": "python",
   "nbconvert_exporter": "python",
   "pygments_lexer": "ipython3",
   "version": "3.9.7"
  }
 },
 "nbformat": 4,
 "nbformat_minor": 5
}

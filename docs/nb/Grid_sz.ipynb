{
 "cells": [
  {
   "cell_type": "markdown",
   "id": "81ce6856",
   "metadata": {},
   "source": [
    "# Generate s vs. z grid"
   ]
  },
  {
   "cell_type": "code",
   "execution_count": 1,
   "id": "4a576bd5",
   "metadata": {},
   "outputs": [],
   "source": [
    "# imports\n",
    "import numpy as np\n",
    "\n",
    "from matplotlib import pyplot as plt\n",
    "\n",
    "from zdm.craco import loading"
   ]
  },
  {
   "cell_type": "markdown",
   "id": "be26e6aa",
   "metadata": {},
   "source": [
    "# Load the grid"
   ]
  },
  {
   "cell_type": "code",
   "execution_count": 2,
   "id": "4f83bc07",
   "metadata": {},
   "outputs": [
    {
     "name": "stdout",
     "output_type": "stream",
     "text": [
      "Loading survey: CRACO_alpha1_Planck18_Gamma\n",
      "FRB survey succeffully initialised with  100  FRBs\n",
      "Initialised grid\n"
     ]
    }
   ],
   "source": [
    "survey, grid = loading.survey_and_grid(\n",
    "    survey_name='CRACO_alpha1_Planck18_Gamma',\n",
    "    NFRB=100, lum_func=1)"
   ]
  },
  {
   "cell_type": "markdown",
   "id": "c81111e6",
   "metadata": {},
   "source": [
    "# Build it up"
   ]
  },
  {
   "cell_type": "markdown",
   "id": "06b2b0e8",
   "metadata": {},
   "source": [
    "## Collapse on DM"
   ]
  },
  {
   "cell_type": "code",
   "execution_count": 3,
   "id": "38327ce6",
   "metadata": {},
   "outputs": [],
   "source": [
    "z_coll = np.sum(grid.rates, axis=1)"
   ]
  },
  {
   "cell_type": "markdown",
   "id": "72bd761b",
   "metadata": {},
   "source": [
    "### Plot"
   ]
  },
  {
   "cell_type": "code",
   "execution_count": 4,
   "id": "afee919e",
   "metadata": {},
   "outputs": [
    {
     "data": {
      "image/png": "[encoded data removed]",
      "text/plain": [
       "<Figure size 432x288 with 1 Axes>"
      ]
     },
     "metadata": {
      "needs_background": "light"
     },
     "output_type": "display_data"
    }
   ],
   "source": [
    "plt.clf()\n",
    "ax = plt.gca()\n",
    "ax.plot(grid.zvals, z_coll)\n",
    "plt.show()"
   ]
  },
  {
   "cell_type": "code",
   "execution_count": 5,
   "id": "cf549f06",
   "metadata": {},
   "outputs": [
    {
     "data": {
      "text/plain": [
       "0.0"
      ]
     },
     "execution_count": 5,
     "metadata": {},
     "output_type": "execute_result"
    }
   ],
   "source": [
    "z_coll[-1]"
   ]
  },
  {
   "cell_type": "markdown",
   "id": "6dd68ae8",
   "metadata": {},
   "source": [
    "# Init"
   ]
  },
  {
   "cell_type": "code",
   "execution_count": 7,
   "id": "c47b93bc",
   "metadata": {},
   "outputs": [],
   "source": [
    "ns = 1000\n",
    "s_grid = np.zeros((z_coll.size, ns))"
   ]
  },
  {
   "cell_type": "markdown",
   "id": "e2b602bd",
   "metadata": {},
   "source": [
    "## s values"
   ]
  },
  {
   "cell_type": "code",
   "execution_count": 8,
   "id": "9806ff92",
   "metadata": {},
   "outputs": [
    {
     "data": {
      "text/plain": [
       "9.5"
      ]
     },
     "execution_count": 8,
     "metadata": {},
     "output_type": "execute_result"
    }
   ],
   "source": [
    "survey.SNRTHRESHs[0]"
   ]
  },
  {
   "cell_type": "code",
   "execution_count": 9,
   "id": "6cc4571f",
   "metadata": {},
   "outputs": [],
   "source": [
    "s_vals = np.linspace(survey.SNRTHRESHs[0], 1000., ns)"
   ]
  },
  {
   "cell_type": "markdown",
   "id": "f3475987",
   "metadata": {},
   "source": [
    "## One evaluation"
   ]
  },
  {
   "cell_type": "code",
   "execution_count": 20,
   "id": "5daad95e",
   "metadata": {},
   "outputs": [],
   "source": [
    "nw, nz, nDM = grid.thresholds.shape"
   ]
  },
  {
   "cell_type": "code",
   "execution_count": 15,
   "id": "c915d4e1",
   "metadata": {},
   "outputs": [
    {
     "data": {
      "text/plain": [
       "(10, 1400)"
      ]
     },
     "execution_count": 15,
     "metadata": {},
     "output_type": "execute_result"
    }
   ],
   "source": [
    "grid.thresholds[:,0,:].shape"
   ]
  },
  {
   "cell_type": "code",
   "execution_count": 21,
   "id": "b40d36c5",
   "metadata": {},
   "outputs": [],
   "source": [
    "sEobs = np.zeros((nw, nDM, s_vals.size))"
   ]
  },
  {
   "cell_type": "code",
   "execution_count": 22,
   "id": "d4ba8a84",
   "metadata": {},
   "outputs": [],
   "source": [
    "for kk in range(nw):\n",
    "    sEobs[kk,...] = np.outer(grid.thresholds[kk,0,:], s_vals)"
   ]
  },
  {
   "cell_type": "code",
   "execution_count": 23,
   "id": "3457c950",
   "metadata": {},
   "outputs": [],
   "source": []
  },
  {
   "cell_type": "markdown",
   "id": "d8cec7a0",
   "metadata": {},
   "source": [
    "### Test"
   ]
  },
  {
   "cell_type": "code",
   "execution_count": 25,
   "id": "67b82d52",
   "metadata": {},
   "outputs": [],
   "source": [
    "Emax=10**grid.state.energy.lEmax\n",
    "Emin=10**grid.state.energy.lEmin\n",
    "gamma=grid.state.energy.gamma"
   ]
  },
  {
   "cell_type": "code",
   "execution_count": 33,
   "id": "64348c17",
   "metadata": {},
   "outputs": [],
   "source": [
    "psnr = np.zeros((nDM, ns))\n",
    "for i,b in enumerate(survey.beam_b):\n",
    "    bEobs = sEobs/b\n",
    "    temp = grid.array_diff_lf(bEobs,Emin,Emax,gamma) * survey.beam_o[i]\n",
    "    # Sum on w\n",
    "    psnr += np.inner(temp.T, grid.eff_weights).T"
   ]
  },
  {
   "cell_type": "code",
   "execution_count": 34,
   "id": "28fcc3c6",
   "metadata": {},
   "outputs": [
    {
     "data": {
      "text/plain": [
       "(1400, 1000)"
      ]
     },
     "execution_count": 34,
     "metadata": {},
     "output_type": "execute_result"
    }
   ],
   "source": [
    "psnr.shape"
   ]
  },
  {
   "cell_type": "markdown",
   "id": "f5aa5e25",
   "metadata": {},
   "source": [
    "## Collapse on DM"
   ]
  },
  {
   "cell_type": "code",
   "execution_count": 35,
   "id": "273271e0",
   "metadata": {},
   "outputs": [
    {
     "data": {
      "text/plain": [
       "(1000,)"
      ]
     },
     "execution_count": 35,
     "metadata": {},
     "output_type": "execute_result"
    }
   ],
   "source": [
    "ps = np.sum(psnr, axis=0)\n",
    "ps.shape"
   ]
  },
  {
   "cell_type": "code",
   "execution_count": 37,
   "id": "166e28b2",
   "metadata": {},
   "outputs": [
    {
     "data": {
      "text/plain": [
       "[<matplotlib.lines.Line2D at 0x7fa6ecd49640>]"
      ]
     },
     "execution_count": 37,
     "metadata": {},
     "output_type": "execute_result"
    },
    {
     "data": {
      "image/png": "[encoded data removed]",
      "text/plain": [
       "<Figure size 432x288 with 1 Axes>"
      ]
     },
     "metadata": {
      "needs_background": "light"
     },
     "output_type": "display_data"
    }
   ],
   "source": [
    "plt.clf()\n",
    "ax = plt.gca()\n",
    "ax.plot(s_vals, np.log10(ps))"
   ]
  },
  {
   "cell_type": "code",
   "execution_count": 31,
   "id": "10cbf481",
   "metadata": {},
   "outputs": [
    {
     "data": {
      "text/plain": [
       "(1000, 1400)"
      ]
     },
     "execution_count": 31,
     "metadata": {},
     "output_type": "execute_result"
    }
   ],
   "source": [
    "psnr = np.inner(temp.T, grid.eff_weights)\n",
    "psnr.shape"
   ]
  },
  {
   "cell_type": "code",
   "execution_count": null,
   "id": "f0d7e8fb",
   "metadata": {},
   "outputs": [],
   "source": [
    "for i,b in enumerate(survey.beam_b):\n",
    "    bEobs=sEobs/b\n",
    "    for j,w in enumerate(grid.eff_weights):\n",
    "        temp=grid.array_diff_lf(bEobs[j,:],Emin,Emax,gamma) * FtoE #one dim in beamshape, one dim in FRB\n",
    "\n",
    "        psnr += temp.T*survey.beam_o[i]*w #multiplies by beam factors and weight"
   ]
  },
  {
   "cell_type": "code",
   "execution_count": null,
   "id": "251c3c29",
   "metadata": {},
   "outputs": [],
   "source": [
    "Emax=10**grid.state.energy.lEmax\n",
    "Emin=10**grid.state.energy.lEmin\n",
    "gamma=grid.state.energy.gamma\n",
    "#Eths has dimensions of width likelihoods and nobs\n",
    "# i.e. later, the loop over j,w uses the first index\n",
    "Eths = grid.thresholds[:,izs1,idms1]*(1.-dkdms)*(1-dkzs)\n",
    "Eths += grid.thresholds[:,izs2,idms1]*(1.-dkdms)*dkzs\n",
    "Eths += grid.thresholds[:,izs1,idms2]*dkdms*(1-dkzs)\n",
    "Eths += grid.thresholds[:,izs2,idms2]*dkdms*dkzs\n",
    "\n",
    "FtoE = grid.FtoE[izs1]*(1.-dkzs)\n",
    "FtoE += grid.FtoE[izs2]*dkzs\n",
    "\n",
    "beam_norm=np.sum(survey.beam_o)\n",
    "\n",
    "# now do this in one go\n",
    "# We integrate p(snr|b,w) p(b,w) db dw. \n",
    "# I have no idea how this could be multidimensional\n",
    "psnr=np.zeros(Eths.shape[1])\n",
    "for i,b in enumerate(survey.beam_b):\n",
    "    bEths=Eths/b # array of shape NFRB, 1/b\n",
    "    bEobs=bEths*survey.Ss\n",
    "    for j,w in enumerate(grid.eff_weights):\n",
    "        temp=grid.array_diff_lf(bEobs[j,:],Emin,Emax,gamma) * FtoE #one dim in beamshape, one dim in FRB\n",
    "\n",
    "        psnr += temp.T*survey.beam_o[i]*w #multiplies by beam factors and weight\n",
    "                "
   ]
  },
  {
   "cell_type": "markdown",
   "id": "fcb29453",
   "metadata": {},
   "source": [
    "## Loop me.."
   ]
  },
  {
   "cell_type": "code",
   "execution_count": 16,
   "id": "4de4e9db",
   "metadata": {},
   "outputs": [
    {
     "data": {
      "text/plain": [
       "0.01"
      ]
     },
     "execution_count": 16,
     "metadata": {},
     "output_type": "execute_result"
    }
   ],
   "source": [
    "grid.zvals[0]"
   ]
  },
  {
   "cell_type": "code",
   "execution_count": null,
   "id": "417a9db6",
   "metadata": {},
   "outputs": [],
   "source": []
  }
 ],
 "metadata": {
  "kernelspec": {
   "display_name": "Python 3 (ipykernel)",
   "language": "python",
   "name": "python3"
  },
  "language_info": {
   "codemirror_mode": {
    "name": "ipython",
    "version": 3
   },
   "file_extension": ".py",
   "mimetype": "text/x-python",
   "name": "python",
   "nbconvert_exporter": "python",
   "pygments_lexer": "ipython3",
   "version": "3.8.5"
  }
 },
 "nbformat": 4,
 "nbformat_minor": 5
}

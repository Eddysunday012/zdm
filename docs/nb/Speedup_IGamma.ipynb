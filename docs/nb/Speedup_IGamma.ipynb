{
 "cells": [
  {
   "cell_type": "markdown",
   "id": "7b9b18cb-d5f8-4657-bc2f-463c5fd73599",
   "metadata": {},
   "source": [
    "# Speed Up IGamma"
   ]
  },
  {
   "cell_type": "code",
   "execution_count": 26,
   "id": "847fe58a-ffee-453e-895f-b56fa729c5e5",
   "metadata": {},
   "outputs": [],
   "source": [
    "# imports\n",
    "from importlib import reload\n",
    "\n",
    "import numpy as np\n",
    "from scipy.special import gammainc\n",
    "\n",
    "import mpmath\n",
    "from zdm import zdm"
   ]
  },
  {
   "cell_type": "markdown",
   "id": "cbe2c77c-8927-4e38-b6d3-49c0e308c10f",
   "metadata": {},
   "source": [
    "# Time simple callscipy.special"
   ]
  },
  {
   "cell_type": "code",
   "execution_count": 3,
   "id": "1acf1bcd-2fff-4619-b8fd-3bf1aa0d8286",
   "metadata": {},
   "outputs": [],
   "source": [
    "gamma = -1.1\n",
    "Emin = 1e31\n",
    "Emax = 1e42"
   ]
  },
  {
   "cell_type": "code",
   "execution_count": 5,
   "id": "7dbf330b-81a3-48cf-a837-f07b8de28273",
   "metadata": {},
   "outputs": [
    {
     "name": "stdout",
     "output_type": "stream",
     "text": [
      "237 µs ± 7.73 µs per loop (mean ± std. dev. of 10 runs, 1000 loops each)\n"
     ]
    }
   ],
   "source": [
    "%timeit -r 10 norm = float(mpmath.gammainc(gamma, a=Emin/Emax))"
   ]
  },
  {
   "cell_type": "markdown",
   "id": "72d00a1a-7cfa-4457-bcd1-ec72ef10c3e9",
   "metadata": {},
   "source": [
    "# Time the array loop"
   ]
  },
  {
   "cell_type": "code",
   "execution_count": 13,
   "id": "e4c1ec8b-4ff6-4f2d-8d7d-8541dee6431f",
   "metadata": {},
   "outputs": [],
   "source": [
    "Eth = 10**np.linspace(41., 43., 100)\n",
    "Eth_Emax = Eth/Emax"
   ]
  },
  {
   "cell_type": "code",
   "execution_count": 14,
   "id": "0316bd2a-a134-4e56-9cf2-51b70c4989f6",
   "metadata": {},
   "outputs": [
    {
     "name": "stdout",
     "output_type": "stream",
     "text": [
      "29.5 ms ± 1.32 ms per loop (mean ± std. dev. of 10 runs, 10 loops each)\n"
     ]
    }
   ],
   "source": [
    "# If this is too slow, we can adopt scipy + recurrance\n",
    "%timeit -r 10 numer = np.array([float(mpmath.gammainc(gamma, a=iEE)) for iEE in Eth_Emax])"
   ]
  },
  {
   "cell_type": "markdown",
   "id": "5f6408c3-aa37-49ab-8f18-25fed7356a1c",
   "metadata": {},
   "source": [
    "# Real example"
   ]
  },
  {
   "cell_type": "code",
   "execution_count": 16,
   "id": "182f2ee9-111f-4cf3-ac0a-9e197f19af52",
   "metadata": {},
   "outputs": [],
   "source": [
    "params = (1000000000000000000000000000000, 2.5118864315095718e+41, -1.01)"
   ]
  },
  {
   "cell_type": "code",
   "execution_count": 17,
   "id": "df65a2ae-3b31-4e29-b500-97099a3b1400",
   "metadata": {},
   "outputs": [],
   "source": [
    "Eth = np.load('Eth.npy')"
   ]
  },
  {
   "cell_type": "code",
   "execution_count": 18,
   "id": "e3c0f0bd-7743-4eaf-a7eb-bd9775ed884e",
   "metadata": {},
   "outputs": [
    {
     "data": {
      "text/plain": [
       "(500, 1400)"
      ]
     },
     "execution_count": 18,
     "metadata": {},
     "output_type": "execute_result"
    }
   ],
   "source": [
    "Eth.shape"
   ]
  },
  {
   "cell_type": "code",
   "execution_count": 25,
   "id": "3024f285-4773-4e2c-aa07-1e1c9ea8eba3",
   "metadata": {},
   "outputs": [
    {
     "name": "stdout",
     "output_type": "stream",
     "text": [
      "1min 49s ± 1.94 s per loop (mean ± std. dev. of 2 runs, 1 loop each)\n"
     ]
    }
   ],
   "source": [
    "reload(zdm)\n",
    "%timeit -r 2  result = zdm.array_cum_gamma(Eth, params[0], params[1], params[2])"
   ]
  },
  {
   "cell_type": "markdown",
   "id": "fcba4d6f-c03d-42c9-8d50-9e8c5e324380",
   "metadata": {},
   "source": [
    "----"
   ]
  },
  {
   "cell_type": "markdown",
   "id": "a60f23d8-b82c-4a7d-893e-257cc4f533fe",
   "metadata": {},
   "source": [
    "# Vectorize input?"
   ]
  },
  {
   "cell_type": "code",
   "execution_count": 28,
   "id": "28600e95-2e9a-45a0-818f-c927379ebc34",
   "metadata": {},
   "outputs": [
    {
     "data": {
      "text/plain": [
       "\u001b[0;31mSignature:\u001b[0m \u001b[0mmpmath\u001b[0m\u001b[0;34m.\u001b[0m\u001b[0mgammainc\u001b[0m\u001b[0;34m(\u001b[0m\u001b[0mz\u001b[0m\u001b[0;34m,\u001b[0m \u001b[0ma\u001b[0m\u001b[0;34m=\u001b[0m\u001b[0;36m0\u001b[0m\u001b[0;34m,\u001b[0m \u001b[0mb\u001b[0m\u001b[0;34m=\u001b[0m\u001b[0;32mNone\u001b[0m\u001b[0;34m,\u001b[0m \u001b[0mregularized\u001b[0m\u001b[0;34m=\u001b[0m\u001b[0;32mFalse\u001b[0m\u001b[0;34m)\u001b[0m\u001b[0;34m\u001b[0m\u001b[0;34m\u001b[0m\u001b[0m\n",
       "\u001b[0;31mDocstring:\u001b[0m\n",
       "``gammainc(z, a=0, b=inf)`` computes the (generalized) incomplete\n",
       "gamma function with integration limits `[a, b]`:\n",
       "\n",
       ".. math ::\n",
       "\n",
       "  \\Gamma(z,a,b) = \\int_a^b t^{z-1} e^{-t} \\, dt\n",
       "\n",
       "The generalized incomplete gamma function reduces to the\n",
       "following special cases when one or both endpoints are fixed:\n",
       "\n",
       "* `\\Gamma(z,0,\\infty)` is the standard (\"complete\")\n",
       "  gamma function, `\\Gamma(z)` (available directly\n",
       "  as the mpmath function :func:`~mpmath.gamma`)\n",
       "* `\\Gamma(z,a,\\infty)` is the \"upper\" incomplete gamma\n",
       "  function, `\\Gamma(z,a)`\n",
       "* `\\Gamma(z,0,b)` is the \"lower\" incomplete gamma\n",
       "  function, `\\gamma(z,b)`.\n",
       "\n",
       "Of course, we have\n",
       "`\\Gamma(z,0,x) + \\Gamma(z,x,\\infty) = \\Gamma(z)`\n",
       "for all `z` and `x`.\n",
       "\n",
       "Note however that some authors reverse the order of the\n",
       "arguments when defining the lower and upper incomplete\n",
       "gamma function, so one should be careful to get the correct\n",
       "definition.\n",
       "\n",
       "If also given the keyword argument ``regularized=True``,\n",
       ":func:`~mpmath.gammainc` computes the \"regularized\" incomplete gamma\n",
       "function\n",
       "\n",
       ".. math ::\n",
       "\n",
       "  P(z,a,b) = \\frac{\\Gamma(z,a,b)}{\\Gamma(z)}.\n",
       "\n",
       "**Examples**\n",
       "\n",
       "We can compare with numerical quadrature to verify that\n",
       ":func:`~mpmath.gammainc` computes the integral in the definition::\n",
       "\n",
       "    >>> from mpmath import *\n",
       "    >>> mp.dps = 25; mp.pretty = True\n",
       "    >>> gammainc(2+3j, 4, 10)\n",
       "    (0.00977212668627705160602312 - 0.0770637306312989892451977j)\n",
       "    >>> quad(lambda t: t**(2+3j-1) * exp(-t), [4, 10])\n",
       "    (0.00977212668627705160602312 - 0.0770637306312989892451977j)\n",
       "\n",
       "Argument symmetries follow directly from the integral definition::\n",
       "\n",
       "    >>> gammainc(3, 4, 5) + gammainc(3, 5, 4)\n",
       "    0.0\n",
       "    >>> gammainc(3,0,2) + gammainc(3,2,4); gammainc(3,0,4)\n",
       "    1.523793388892911312363331\n",
       "    1.523793388892911312363331\n",
       "    >>> findroot(lambda z: gammainc(2,z,3), 1)\n",
       "    3.0\n",
       "\n",
       "Evaluation for arbitrarily large arguments::\n",
       "\n",
       "    >>> gammainc(10, 100)\n",
       "    4.083660630910611272288592e-26\n",
       "    >>> gammainc(10, 10000000000000000)\n",
       "    5.290402449901174752972486e-4342944819032375\n",
       "    >>> gammainc(3+4j, 1000000+1000000j)\n",
       "    (-1.257913707524362408877881e-434284 + 2.556691003883483531962095e-434284j)\n",
       "\n",
       "Evaluation of a generalized incomplete gamma function automatically chooses\n",
       "the representation that gives a more accurate result, depending on which\n",
       "parameter is larger::\n",
       "\n",
       "    >>> gammainc(10000000, 3) - gammainc(10000000, 2)   # Bad\n",
       "    0.0\n",
       "    >>> gammainc(10000000, 2, 3)   # Good\n",
       "    1.755146243738946045873491e+4771204\n",
       "    >>> gammainc(2, 0, 100000001) - gammainc(2, 0, 100000000)   # Bad\n",
       "    0.0\n",
       "    >>> gammainc(2, 100000000, 100000001)   # Good\n",
       "    4.078258353474186729184421e-43429441\n",
       "\n",
       "The incomplete gamma functions satisfy simple recurrence\n",
       "relations::\n",
       "\n",
       "    >>> mp.dps = 25\n",
       "    >>> z, a = mpf(3.5), mpf(2)\n",
       "    >>> gammainc(z+1, a); z*gammainc(z,a) + a**z*exp(-a)\n",
       "    10.60130296933533459267329\n",
       "    10.60130296933533459267329\n",
       "    >>> gammainc(z+1,0,a); z*gammainc(z,0,a) - a**z*exp(-a)\n",
       "    1.030425427232114336470932\n",
       "    1.030425427232114336470932\n",
       "\n",
       "Evaluation at integers and poles::\n",
       "\n",
       "    >>> gammainc(-3, -4, -5)\n",
       "    (-0.2214577048967798566234192 + 0.0j)\n",
       "    >>> gammainc(-3, 0, 5)\n",
       "    +inf\n",
       "\n",
       "If `z` is an integer, the recurrence reduces the incomplete gamma\n",
       "function to `P(a) \\exp(-a) + Q(b) \\exp(-b)` where `P` and\n",
       "`Q` are polynomials::\n",
       "\n",
       "    >>> gammainc(1, 2); exp(-2)\n",
       "    0.1353352832366126918939995\n",
       "    0.1353352832366126918939995\n",
       "    >>> mp.dps = 50\n",
       "    >>> identify(gammainc(6, 1, 2), ['exp(-1)', 'exp(-2)'])\n",
       "    '(326*exp(-1) + (-872)*exp(-2))'\n",
       "\n",
       "The incomplete gamma functions reduce to functions such as\n",
       "the exponential integral Ei and the error function for special\n",
       "arguments::\n",
       "\n",
       "    >>> mp.dps = 25\n",
       "    >>> gammainc(0, 4); -ei(-4)\n",
       "    0.00377935240984890647887486\n",
       "    0.00377935240984890647887486\n",
       "    >>> gammainc(0.5, 0, 2); sqrt(pi)*erf(sqrt(2))\n",
       "    1.691806732945198336509541\n",
       "    1.691806732945198336509541\n",
       "\u001b[0;31mFile:\u001b[0m      ~/anaconda3/lib/python3.9/site-packages/mpmath/functions/expintegrals.py\n",
       "\u001b[0;31mType:\u001b[0m      method\n"
      ]
     },
     "metadata": {},
     "output_type": "display_data"
    }
   ],
   "source": [
    "mpmath.gammainc?"
   ]
  },
  {
   "cell_type": "code",
   "execution_count": 27,
   "id": "2beda9d9-2a0e-428b-8229-294ec7850179",
   "metadata": {},
   "outputs": [
    {
     "ename": "TypeError",
     "evalue": "cannot create mpf from [1.0, 2.0]",
     "output_type": "error",
     "traceback": [
      "\u001b[0;31m---------------------------------------------------------------------------\u001b[0m",
      "\u001b[0;31mTypeError\u001b[0m                                 Traceback (most recent call last)",
      "\u001b[0;32m/tmp/ipykernel_8032/2118286418.py\u001b[0m in \u001b[0;36m<module>\u001b[0;34m\u001b[0m\n\u001b[0;32m----> 1\u001b[0;31m \u001b[0mmpmath\u001b[0m\u001b[0;34m.\u001b[0m\u001b[0mgammainc\u001b[0m\u001b[0;34m(\u001b[0m\u001b[0mgamma\u001b[0m\u001b[0;34m,\u001b[0m \u001b[0ma\u001b[0m\u001b[0;34m=\u001b[0m\u001b[0;34m[\u001b[0m\u001b[0;36m1.\u001b[0m\u001b[0;34m,\u001b[0m \u001b[0;36m2.\u001b[0m\u001b[0;34m]\u001b[0m\u001b[0;34m)\u001b[0m\u001b[0;34m\u001b[0m\u001b[0;34m\u001b[0m\u001b[0m\n\u001b[0m",
      "\u001b[0;32m~/anaconda3/lib/python3.9/site-packages/mpmath/functions/expintegrals.py\u001b[0m in \u001b[0;36mgammainc\u001b[0;34m(ctx, z, a, b, regularized)\u001b[0m\n\u001b[1;32m    139\u001b[0m         \u001b[0mlower_modified\u001b[0m \u001b[0;34m=\u001b[0m \u001b[0;32mFalse\u001b[0m\u001b[0;34m\u001b[0m\u001b[0;34m\u001b[0m\u001b[0m\n\u001b[1;32m    140\u001b[0m     \u001b[0;32melse\u001b[0m\u001b[0;34m:\u001b[0m\u001b[0;34m\u001b[0m\u001b[0;34m\u001b[0m\u001b[0m\n\u001b[0;32m--> 141\u001b[0;31m         \u001b[0ma\u001b[0m \u001b[0;34m=\u001b[0m \u001b[0mctx\u001b[0m\u001b[0;34m.\u001b[0m\u001b[0mconvert\u001b[0m\u001b[0;34m(\u001b[0m\u001b[0ma\u001b[0m\u001b[0;34m)\u001b[0m\u001b[0;34m\u001b[0m\u001b[0;34m\u001b[0m\u001b[0m\n\u001b[0m\u001b[1;32m    142\u001b[0m         \u001b[0mlower_modified\u001b[0m \u001b[0;34m=\u001b[0m \u001b[0ma\u001b[0m \u001b[0;34m!=\u001b[0m \u001b[0mctx\u001b[0m\u001b[0;34m.\u001b[0m\u001b[0mzero\u001b[0m\u001b[0;34m\u001b[0m\u001b[0;34m\u001b[0m\u001b[0m\n\u001b[1;32m    143\u001b[0m     \u001b[0;32mif\u001b[0m \u001b[0mb\u001b[0m \u001b[0;32mis\u001b[0m \u001b[0;32mNone\u001b[0m\u001b[0;34m:\u001b[0m\u001b[0;34m\u001b[0m\u001b[0;34m\u001b[0m\u001b[0m\n",
      "\u001b[0;32m~/anaconda3/lib/python3.9/site-packages/mpmath/ctx_mp_python.py\u001b[0m in \u001b[0;36mconvert\u001b[0;34m(ctx, x, strings)\u001b[0m\n\u001b[1;32m    667\u001b[0m             \u001b[0;32mtry\u001b[0m\u001b[0;34m:\u001b[0m \u001b[0;32mreturn\u001b[0m \u001b[0mctx\u001b[0m\u001b[0;34m.\u001b[0m\u001b[0mmake_mpf\u001b[0m\u001b[0;34m(\u001b[0m\u001b[0mfrom_Decimal\u001b[0m\u001b[0;34m(\u001b[0m\u001b[0mx\u001b[0m\u001b[0;34m,\u001b[0m \u001b[0mprec\u001b[0m\u001b[0;34m,\u001b[0m \u001b[0mrounding\u001b[0m\u001b[0;34m)\u001b[0m\u001b[0;34m)\u001b[0m\u001b[0;34m\u001b[0m\u001b[0;34m\u001b[0m\u001b[0m\n\u001b[1;32m    668\u001b[0m             \u001b[0;32mexcept\u001b[0m\u001b[0;34m:\u001b[0m \u001b[0;32mpass\u001b[0m\u001b[0;34m\u001b[0m\u001b[0;34m\u001b[0m\u001b[0m\n\u001b[0;32m--> 669\u001b[0;31m         \u001b[0;32mreturn\u001b[0m \u001b[0mctx\u001b[0m\u001b[0;34m.\u001b[0m\u001b[0m_convert_fallback\u001b[0m\u001b[0;34m(\u001b[0m\u001b[0mx\u001b[0m\u001b[0;34m,\u001b[0m \u001b[0mstrings\u001b[0m\u001b[0;34m)\u001b[0m\u001b[0;34m\u001b[0m\u001b[0;34m\u001b[0m\u001b[0m\n\u001b[0m\u001b[1;32m    670\u001b[0m \u001b[0;34m\u001b[0m\u001b[0m\n\u001b[1;32m    671\u001b[0m     \u001b[0;32mdef\u001b[0m \u001b[0mnpconvert\u001b[0m\u001b[0;34m(\u001b[0m\u001b[0mctx\u001b[0m\u001b[0;34m,\u001b[0m \u001b[0mx\u001b[0m\u001b[0;34m)\u001b[0m\u001b[0;34m:\u001b[0m\u001b[0;34m\u001b[0m\u001b[0;34m\u001b[0m\u001b[0m\n",
      "\u001b[0;32m~/anaconda3/lib/python3.9/site-packages/mpmath/ctx_mp.py\u001b[0m in \u001b[0;36m_convert_fallback\u001b[0;34m(ctx, x, strings)\u001b[0m\n\u001b[1;32m    632\u001b[0m             \u001b[0;32melse\u001b[0m\u001b[0;34m:\u001b[0m\u001b[0;34m\u001b[0m\u001b[0;34m\u001b[0m\u001b[0m\n\u001b[1;32m    633\u001b[0m                 \u001b[0;32mraise\u001b[0m \u001b[0mValueError\u001b[0m\u001b[0;34m(\u001b[0m\u001b[0;34m\"can only create mpf from zero-width interval\"\u001b[0m\u001b[0;34m)\u001b[0m\u001b[0;34m\u001b[0m\u001b[0;34m\u001b[0m\u001b[0m\n\u001b[0;32m--> 634\u001b[0;31m         \u001b[0;32mraise\u001b[0m \u001b[0mTypeError\u001b[0m\u001b[0;34m(\u001b[0m\u001b[0;34m\"cannot create mpf from \"\u001b[0m \u001b[0;34m+\u001b[0m \u001b[0mrepr\u001b[0m\u001b[0;34m(\u001b[0m\u001b[0mx\u001b[0m\u001b[0;34m)\u001b[0m\u001b[0;34m)\u001b[0m\u001b[0;34m\u001b[0m\u001b[0;34m\u001b[0m\u001b[0m\n\u001b[0m\u001b[1;32m    635\u001b[0m \u001b[0;34m\u001b[0m\u001b[0m\n\u001b[1;32m    636\u001b[0m     \u001b[0;32mdef\u001b[0m \u001b[0mmpmathify\u001b[0m\u001b[0;34m(\u001b[0m\u001b[0mctx\u001b[0m\u001b[0;34m,\u001b[0m \u001b[0;34m*\u001b[0m\u001b[0margs\u001b[0m\u001b[0;34m,\u001b[0m \u001b[0;34m**\u001b[0m\u001b[0mkwargs\u001b[0m\u001b[0;34m)\u001b[0m\u001b[0;34m:\u001b[0m\u001b[0;34m\u001b[0m\u001b[0;34m\u001b[0m\u001b[0m\n",
      "\u001b[0;31mTypeError\u001b[0m: cannot create mpf from [1.0, 2.0]"
     ]
    }
   ],
   "source": [
    "mpmath.gammainc(gamma, a=[1., 2.])"
   ]
  },
  {
   "cell_type": "markdown",
   "id": "2374bed0-c90c-4003-8a5e-327d61c9e81a",
   "metadata": {},
   "source": [
    "----"
   ]
  },
  {
   "cell_type": "markdown",
   "id": "1a52fe9a-9651-47d2-ae17-a69b478cab05",
   "metadata": {},
   "source": [
    "# Check scipy"
   ]
  },
  {
   "cell_type": "markdown",
   "id": "8ca48156-4609-48b2-aba8-e0b33c832cfb",
   "metadata": {},
   "source": [
    "----"
   ]
  },
  {
   "cell_type": "markdown",
   "id": "f60d867f-36a1-406c-951f-df1c81d73d11",
   "metadata": {},
   "source": [
    "# Boost\n",
    "\n",
    "### https://www.boost.org/doc/libs/1_78_0/libs/math/doc/html/math_toolkit/sf_gamma/igamma.html "
   ]
  },
  {
   "cell_type": "markdown",
   "id": "1321ea08-9c30-42e5-b9ba-9076ea0858df",
   "metadata": {},
   "source": [
    "# C examples\n",
    "\n",
    "### https://people.sc.fsu.edu/~jburkardt/c_src/asa239/asa239.html "
   ]
  },
  {
   "cell_type": "markdown",
   "id": "dab1e11d-0254-4a1d-aad7-89f654ded0a3",
   "metadata": {},
   "source": [
    "# More\n",
    "\n",
    "### https://scicomp.stackexchange.com/questions/3341/fast-and-accurate-double-precision-implementation-of-incomplete-gamma-function "
   ]
  },
  {
   "cell_type": "markdown",
   "id": "4e021ed9-3793-4625-a6f2-d79ec9c74cd9",
   "metadata": {},
   "source": [
    "# PyGSL\n",
    "\n",
    "### https://github.com/pygsl/pygsl"
   ]
  },
  {
   "cell_type": "code",
   "execution_count": null,
   "id": "2cf1ecbe-4940-467d-b72c-11d2dc5292a7",
   "metadata": {},
   "outputs": [],
   "source": []
  }
 ],
 "metadata": {
  "kernelspec": {
   "display_name": "Python 3 (ipykernel)",
   "language": "python",
   "name": "python3"
  },
  "language_info": {
   "codemirror_mode": {
    "name": "ipython",
    "version": 3
   },
   "file_extension": ".py",
   "mimetype": "text/x-python",
   "name": "python",
   "nbconvert_exporter": "python",
   "pygments_lexer": "ipython3",
   "version": "3.9.7"
  }
 },
 "nbformat": 4,
 "nbformat_minor": 5
}

{
 "cells": [
  {
   "cell_type": "markdown",
   "id": "7b9b18cb-d5f8-4657-bc2f-463c5fd73599",
   "metadata": {},
   "source": [
    "# Speed Up IGamma"
   ]
  },
  {
   "cell_type": "code",
   "execution_count": 1,
   "id": "847fe58a-ffee-453e-895f-b56fa729c5e5",
   "metadata": {},
   "outputs": [],
   "source": [
    "# imports\n",
    "from importlib import reload\n",
    "\n",
    "import numpy as np\n",
    "from scipy.special import gammainc\n",
    "from scipy import interpolate\n",
    "\n",
    "import mpmath\n",
    "from zdm import energetics"
   ]
  },
  {
   "cell_type": "markdown",
   "id": "cbe2c77c-8927-4e38-b6d3-49c0e308c10f",
   "metadata": {},
   "source": [
    "# Time simple callscipy.special"
   ]
  },
  {
   "cell_type": "code",
   "execution_count": 2,
   "id": "1acf1bcd-2fff-4619-b8fd-3bf1aa0d8286",
   "metadata": {},
   "outputs": [],
   "source": [
    "gamma = -1.1\n",
    "Emin = 1e31\n",
    "Emax = 1e42"
   ]
  },
  {
   "cell_type": "code",
   "execution_count": 3,
   "id": "7dbf330b-81a3-48cf-a837-f07b8de28273",
   "metadata": {},
   "outputs": [
    {
     "name": "stdout",
     "output_type": "stream",
     "text": [
      "324 µs ± 14.2 µs per loop (mean ± std. dev. of 10 runs, 1000 loops each)\n"
     ]
    }
   ],
   "source": [
    "%timeit -r 10 norm = float(mpmath.gammainc(gamma, a=Emin/Emax))"
   ]
  },
  {
   "cell_type": "markdown",
   "id": "72d00a1a-7cfa-4457-bcd1-ec72ef10c3e9",
   "metadata": {},
   "source": [
    "# Time the array loop"
   ]
  },
  {
   "cell_type": "code",
   "execution_count": 4,
   "id": "e4c1ec8b-4ff6-4f2d-8d7d-8541dee6431f",
   "metadata": {},
   "outputs": [],
   "source": [
    "Eth = 10**np.linspace(41., 43., 100)\n",
    "Eth_Emax = Eth/Emax"
   ]
  },
  {
   "cell_type": "code",
   "execution_count": 5,
   "id": "0316bd2a-a134-4e56-9cf2-51b70c4989f6",
   "metadata": {},
   "outputs": [
    {
     "name": "stdout",
     "output_type": "stream",
     "text": [
      "42.8 ms ± 1.41 ms per loop (mean ± std. dev. of 10 runs, 10 loops each)\n"
     ]
    }
   ],
   "source": [
    "# If this is too slow, we can adopt scipy + recurrance\n",
    "%timeit -r 10 numer = np.array([float(mpmath.gammainc(gamma, a=iEE)) for iEE in Eth_Emax])"
   ]
  },
  {
   "cell_type": "markdown",
   "id": "5f6408c3-aa37-49ab-8f18-25fed7356a1c",
   "metadata": {},
   "source": [
    "# Real example"
   ]
  },
  {
   "cell_type": "code",
   "execution_count": 6,
   "id": "182f2ee9-111f-4cf3-ac0a-9e197f19af52",
   "metadata": {},
   "outputs": [],
   "source": [
    "params = (1000000000000000000000000000000, 2.5118864315095718e+41, -1.01)"
   ]
  },
  {
   "cell_type": "code",
   "execution_count": 7,
   "id": "824e815b-649f-4c3c-b20a-1f808f57661b",
   "metadata": {},
   "outputs": [],
   "source": [
    "Emin = params[0]\n",
    "Emax = params[1]\n",
    "gamma = params[2]"
   ]
  },
  {
   "cell_type": "code",
   "execution_count": 8,
   "id": "df65a2ae-3b31-4e29-b500-97099a3b1400",
   "metadata": {},
   "outputs": [],
   "source": [
    "Eth = np.load('Eth.npy')"
   ]
  },
  {
   "cell_type": "code",
   "execution_count": 9,
   "id": "e3c0f0bd-7743-4eaf-a7eb-bd9775ed884e",
   "metadata": {},
   "outputs": [
    {
     "data": {
      "text/plain": [
       "(500, 1400)"
      ]
     },
     "execution_count": 9,
     "metadata": {},
     "output_type": "execute_result"
    }
   ],
   "source": [
    "Eth.shape"
   ]
  },
  {
   "cell_type": "code",
   "execution_count": 10,
   "id": "3024f285-4773-4e2c-aa07-1e1c9ea8eba3",
   "metadata": {},
   "outputs": [
    {
     "name": "stdout",
     "output_type": "stream",
     "text": [
      "2min 20s ± 2.51 s per loop (mean ± std. dev. of 2 runs, 1 loop each)\n"
     ]
    }
   ],
   "source": [
    "reload(energetics)\n",
    "%timeit -r 2  result = energetics.array_cum_gamma(Eth, params[0], params[1], params[2])"
   ]
  },
  {
   "cell_type": "markdown",
   "id": "fc76cd85-acca-488e-a074-6a2ec2c81f61",
   "metadata": {},
   "source": [
    "----"
   ]
  },
  {
   "cell_type": "markdown",
   "id": "e448e0d4-5130-4c98-a038-1f6ec157b736",
   "metadata": {},
   "source": [
    "# Spline"
   ]
  },
  {
   "cell_type": "markdown",
   "id": "c600d4b7-0a82-4b13-af73-6464087a90e1",
   "metadata": {},
   "source": [
    "## Explore"
   ]
  },
  {
   "cell_type": "code",
   "execution_count": 14,
   "id": "65419096-aa1c-4035-a022-4ee40a075882",
   "metadata": {},
   "outputs": [
    {
     "data": {
      "text/plain": [
       "(0.005861653895076074, 2787.3410080677972)"
      ]
     },
     "execution_count": 14,
     "metadata": {},
     "output_type": "execute_result"
    }
   ],
   "source": [
    "Eth.min()/Emax, Eth.max()/Emax"
   ]
  },
  {
   "cell_type": "markdown",
   "id": "84701d35-caa0-4e71-b288-ba54ce6c7ffd",
   "metadata": {},
   "source": [
    "## Init"
   ]
  },
  {
   "cell_type": "code",
   "execution_count": 15,
   "id": "39b5ae45-490a-422a-a725-608b81ff46f1",
   "metadata": {},
   "outputs": [],
   "source": [
    "avals = 10**np.linspace(-6, 6., 1000)"
   ]
  },
  {
   "cell_type": "code",
   "execution_count": 17,
   "id": "a51049e3-96d8-47f3-8984-f1a926c73d4a",
   "metadata": {},
   "outputs": [],
   "source": [
    "numer = np.array([float(mpmath.gammainc(\n",
    "        gamma, a=iEE)) for iEE in avals])"
   ]
  },
  {
   "cell_type": "code",
   "execution_count": 18,
   "id": "a08fe6bb-b666-43b3-833b-25c0c5489bb4",
   "metadata": {},
   "outputs": [],
   "source": [
    "tck = interpolate.splrep(avals, numer)"
   ]
  },
  {
   "cell_type": "markdown",
   "id": "fadbcaf8-36b7-4156-85d7-fae5d9984bc6",
   "metadata": {},
   "source": [
    "## Try it"
   ]
  },
  {
   "cell_type": "code",
   "execution_count": 21,
   "id": "3934360d-2ab7-4a9b-a357-f57edc274ba3",
   "metadata": {},
   "outputs": [],
   "source": [
    "def vector_cum_gamma_spline(tck, Eth, *params):\n",
    "    params=np.array(params)\n",
    "    Emin=params[0]\n",
    "    Emax=params[1]\n",
    "    gamma=params[2]\n",
    "\n",
    "    # Calculate\n",
    "    norm = Emax*float(mpmath.gammainc(gamma, a=Emin/Emax))\n",
    "    Eth_Emax = Eth/Emax\n",
    "    # If this is too slow, we can adopt scipy + recurrance\n",
    "    numer = interpolate.splev(Eth_Emax, tck)\n",
    "    result=numer/norm\n",
    "\n",
    "    # Low end\n",
    "    low= Eth < Emin\n",
    "    result[low]=1.\n",
    "    #high=np.where(Eth > Emax)[0]\n",
    "    #if len(high)>0:\n",
    "    #    result[high]=0.\n",
    "    return result"
   ]
  },
  {
   "cell_type": "code",
   "execution_count": 22,
   "id": "5d418510-11a4-4efb-a64a-ed2d0bd72238",
   "metadata": {},
   "outputs": [],
   "source": [
    "def array_cum_gamma_spline(tck, Eth, *params):\n",
    "    dims=Eth.shape\n",
    "    result=vector_cum_gamma_spline(tck, Eth.flatten(),*params)\n",
    "    result=result.reshape(dims)\n",
    "    return result"
   ]
  },
  {
   "cell_type": "code",
   "execution_count": 25,
   "id": "2a724e2a-cdf2-45e9-a411-71a04b16f25d",
   "metadata": {},
   "outputs": [
    {
     "name": "stdout",
     "output_type": "stream",
     "text": [
      "83 ms ± 5.19 ms per loop (mean ± std. dev. of 10 runs, 10 loops each)\n"
     ]
    }
   ],
   "source": [
    "%timeit -r 10 result2 = array_cum_gamma_spline(tck, Eth, params[0], params[1], params[2])\n",
    "#np.array([float(mpmath.gammainc(gamma, a=iEE)) for iEE in Eth_Emax])"
   ]
  },
  {
   "cell_type": "code",
   "execution_count": 24,
   "id": "33b91a40-0943-4d20-8087-32b17dbead6b",
   "metadata": {},
   "outputs": [
    {
     "data": {
      "text/plain": [
       "1847.0588235294117"
      ]
     },
     "execution_count": 24,
     "metadata": {},
     "output_type": "execute_result"
    }
   ],
   "source": [
    "(2*60+37)*1000 / 85."
   ]
  },
  {
   "cell_type": "markdown",
   "id": "13b51147-9f52-41f9-8e91-b582f0bb72f0",
   "metadata": {},
   "source": [
    "## Check accuracy"
   ]
  },
  {
   "cell_type": "code",
   "execution_count": 32,
   "id": "c13dc455-04fc-42bd-bd22-460208c8a3ce",
   "metadata": {},
   "outputs": [],
   "source": [
    "result2 = array_cum_gamma_spline(tck, Eth, params[0], params[1], params[2])\n",
    "result = energetics.array_cum_gamma(Eth, params[0], params[1], params[2])"
   ]
  },
  {
   "cell_type": "code",
   "execution_count": 33,
   "id": "4202e3a6-f3c6-493a-8f4c-f8caab557aef",
   "metadata": {},
   "outputs": [
    {
     "data": {
      "text/plain": [
       "7.961669330157126e-167"
      ]
     },
     "execution_count": 33,
     "metadata": {},
     "output_type": "execute_result"
    }
   ],
   "source": [
    "np.median(result-result2)"
   ]
  },
  {
   "cell_type": "code",
   "execution_count": 34,
   "id": "ce558e91-c211-46f2-ad06-6c55b94d6eba",
   "metadata": {},
   "outputs": [
    {
     "data": {
      "text/plain": [
       "7.229704916836677e-61"
      ]
     },
     "execution_count": 34,
     "metadata": {},
     "output_type": "execute_result"
    }
   ],
   "source": [
    "np.std(result-result2)"
   ]
  },
  {
   "cell_type": "markdown",
   "id": "fcba4d6f-c03d-42c9-8d50-9e8c5e324380",
   "metadata": {},
   "source": [
    "----"
   ]
  },
  {
   "cell_type": "markdown",
   "id": "a60f23d8-b82c-4a7d-893e-257cc4f533fe",
   "metadata": {},
   "source": [
    "# Vectorize input?"
   ]
  },
  {
   "cell_type": "markdown",
   "id": "2374bed0-c90c-4003-8a5e-327d61c9e81a",
   "metadata": {},
   "source": [
    "----"
   ]
  },
  {
   "cell_type": "markdown",
   "id": "1a52fe9a-9651-47d2-ae17-a69b478cab05",
   "metadata": {},
   "source": [
    "# Check scipy"
   ]
  },
  {
   "cell_type": "markdown",
   "id": "8ca48156-4609-48b2-aba8-e0b33c832cfb",
   "metadata": {},
   "source": [
    "----"
   ]
  },
  {
   "cell_type": "markdown",
   "id": "f60d867f-36a1-406c-951f-df1c81d73d11",
   "metadata": {},
   "source": [
    "# Boost\n",
    "\n",
    "### https://www.boost.org/doc/libs/1_78_0/libs/math/doc/html/math_toolkit/sf_gamma/igamma.html "
   ]
  },
  {
   "cell_type": "markdown",
   "id": "1321ea08-9c30-42e5-b9ba-9076ea0858df",
   "metadata": {},
   "source": [
    "# C examples\n",
    "\n",
    "### https://people.sc.fsu.edu/~jburkardt/c_src/asa239/asa239.html "
   ]
  },
  {
   "cell_type": "markdown",
   "id": "dab1e11d-0254-4a1d-aad7-89f654ded0a3",
   "metadata": {},
   "source": [
    "# More\n",
    "\n",
    "### https://scicomp.stackexchange.com/questions/3341/fast-and-accurate-double-precision-implementation-of-incomplete-gamma-function "
   ]
  },
  {
   "cell_type": "markdown",
   "id": "4e021ed9-3793-4625-a6f2-d79ec9c74cd9",
   "metadata": {},
   "source": [
    "# PyGSL\n",
    "\n",
    "### https://github.com/pygsl/pygsl"
   ]
  },
  {
   "cell_type": "markdown",
   "id": "44eca572-8dc7-401e-b67b-c22e5fbedbef",
   "metadata": {},
   "source": [
    "----"
   ]
  },
  {
   "cell_type": "markdown",
   "id": "5804213c-2f8b-42c7-8fad-c7592c054b1a",
   "metadata": {},
   "source": [
    "# Checking mpmath"
   ]
  },
  {
   "cell_type": "markdown",
   "id": "1558812f-4dd7-415e-8d7d-4581e858cee8",
   "metadata": {},
   "source": [
    "## Python"
   ]
  },
  {
   "cell_type": "code",
   "execution_count": 20,
   "id": "802eb952-b90a-4666-887c-c43e474c9f20",
   "metadata": {},
   "outputs": [
    {
     "data": {
      "text/plain": [
       "mpf('0.1479904845936528')"
      ]
     },
     "execution_count": 20,
     "metadata": {},
     "output_type": "execute_result"
    }
   ],
   "source": [
    "mpmath.gammainc(gamma, a=1)"
   ]
  },
  {
   "cell_type": "code",
   "execution_count": 14,
   "id": "1ea461a4-e6c2-4123-92b9-479ea630bc32",
   "metadata": {},
   "outputs": [
    {
     "data": {
      "text/plain": [
       "-1.01"
      ]
     },
     "execution_count": 14,
     "metadata": {},
     "output_type": "execute_result"
    }
   ],
   "source": [
    "gamma"
   ]
  },
  {
   "cell_type": "markdown",
   "id": "906fa508-5f4c-45d6-a6e3-c13a2771d529",
   "metadata": {},
   "source": [
    "### Regularized"
   ]
  },
  {
   "cell_type": "code",
   "execution_count": 17,
   "id": "1f1b0b03-274b-424f-a216-d3add9a59f27",
   "metadata": {},
   "outputs": [
    {
     "data": {
      "text/plain": [
       "0.0014859782602998275"
      ]
     },
     "execution_count": 17,
     "metadata": {},
     "output_type": "execute_result"
    }
   ],
   "source": [
    "float(mpmath.gammainc(gamma, a=1, regularized=True))"
   ]
  },
  {
   "cell_type": "markdown",
   "id": "5cf798c8-7171-45e6-98d4-d25de0eb46e2",
   "metadata": {},
   "source": [
    "## $\\Gamma(-1.01)$"
   ]
  },
  {
   "cell_type": "code",
   "execution_count": 21,
   "id": "fecfa8b3-af15-4d3b-a49e-ebff7e721f6f",
   "metadata": {},
   "outputs": [
    {
     "data": {
      "text/plain": [
       "mpf('99.591285113277905')"
      ]
     },
     "execution_count": 21,
     "metadata": {},
     "output_type": "execute_result"
    }
   ],
   "source": [
    "mpmath.gamma(gamma)"
   ]
  },
  {
   "cell_type": "markdown",
   "id": "0a19e2d7-6f7b-434e-b4f5-fa64c4738b93",
   "metadata": {},
   "source": [
    "## More"
   ]
  },
  {
   "cell_type": "code",
   "execution_count": 19,
   "id": "883b8bc1-fff9-493a-9670-d782330bd2d3",
   "metadata": {},
   "outputs": [
    {
     "data": {
      "text/plain": [
       "mpc(real='0.0097721266862770516', imag='-0.077063730631298996')"
      ]
     },
     "execution_count": 19,
     "metadata": {},
     "output_type": "execute_result"
    }
   ],
   "source": [
    "mpmath.gammainc(2+3j, 4, 10)"
   ]
  },
  {
   "cell_type": "markdown",
   "id": "57f8769f-9e35-4c63-9efb-be066259a829",
   "metadata": {},
   "source": [
    "## Wolfram\n",
    "\n",
    "\n",
    "### Matches on $\\Gamma(-1.01)$\n",
    "\n",
    "### Matches on the non-regularized evaluation too"
   ]
  },
  {
   "cell_type": "code",
   "execution_count": null,
   "id": "4c0e8b29-190d-4bed-91ca-47291e1d7084",
   "metadata": {},
   "outputs": [],
   "source": []
  }
 ],
 "metadata": {
  "kernelspec": {
   "display_name": "Python 3 (ipykernel)",
   "language": "python",
   "name": "python3"
  },
  "language_info": {
   "codemirror_mode": {
    "name": "ipython",
    "version": 3
   },
   "file_extension": ".py",
   "mimetype": "text/x-python",
   "name": "python",
   "nbconvert_exporter": "python",
   "pygments_lexer": "ipython3",
   "version": "3.9.9"
  }
 },
 "nbformat": 4,
 "nbformat_minor": 5
}

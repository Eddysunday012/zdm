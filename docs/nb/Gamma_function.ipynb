{
 "cells": [
  {
   "cell_type": "markdown",
   "id": "5d8fe960",
   "metadata": {},
   "source": [
    "# Gamma Function for $p(E)$"
   ]
  },
  {
   "cell_type": "code",
   "execution_count": 1,
   "id": "4fa88d14",
   "metadata": {},
   "outputs": [],
   "source": [
    "# imports\n",
    "from importlib import reload\n",
    "import numpy as np\n",
    "from scipy import special\n",
    "import seaborn as sns\n",
    "import mpmath\n",
    "from matplotlib import pyplot as plt\n",
    "\n",
    "from zdm import zdm"
   ]
  },
  {
   "cell_type": "markdown",
   "id": "22e2fd3b",
   "metadata": {},
   "source": [
    "# Simple evaluation"
   ]
  },
  {
   "cell_type": "markdown",
   "id": "ba67c03c",
   "metadata": {},
   "source": [
    "## $p(E>E_{\\rm th})$"
   ]
  },
  {
   "cell_type": "code",
   "execution_count": 13,
   "id": "acacdbc6",
   "metadata": {},
   "outputs": [],
   "source": [
    "lEmin = 30.\n",
    "lEmax = 42.\n",
    "gamma = -1.16 \n",
    "Emin = 10**lEmin"
   ]
  },
  {
   "cell_type": "code",
   "execution_count": 3,
   "id": "741ce4c0",
   "metadata": {},
   "outputs": [],
   "source": [
    "lEvals = np.linspace(lEmin, lEmax+3, 100)"
   ]
  },
  {
   "cell_type": "code",
   "execution_count": 4,
   "id": "bce2d132",
   "metadata": {},
   "outputs": [
    {
     "ename": "NameError",
     "evalue": "name 'Evals' is not defined",
     "output_type": "error",
     "traceback": [
      "\u001b[0;31m---------------------------------------------------------------------------\u001b[0m",
      "\u001b[0;31mNameError\u001b[0m                                 Traceback (most recent call last)",
      "\u001b[0;32m/tmp/ipykernel_4080641/2178529744.py\u001b[0m in \u001b[0;36m<module>\u001b[0;34m\u001b[0m\n\u001b[0;32m----> 1\u001b[0;31m \u001b[0mp_E_Eth\u001b[0m \u001b[0;34m=\u001b[0m \u001b[0mspecial\u001b[0m\u001b[0;34m.\u001b[0m\u001b[0mgammaincc\u001b[0m\u001b[0;34m(\u001b[0m\u001b[0mgamma\u001b[0m\u001b[0;34m,\u001b[0m \u001b[0;36m10\u001b[0m\u001b[0;34m**\u001b[0m\u001b[0;34m(\u001b[0m\u001b[0mEvals\u001b[0m\u001b[0;34m-\u001b[0m\u001b[0mlEmax\u001b[0m\u001b[0;34m)\u001b[0m\u001b[0;34m)\u001b[0m \u001b[0;34m/\u001b[0m \u001b[0mspecial\u001b[0m\u001b[0;34m.\u001b[0m\u001b[0mgammaincc\u001b[0m\u001b[0;34m(\u001b[0m\u001b[0mgamma\u001b[0m\u001b[0;34m,\u001b[0m \u001b[0;36m10\u001b[0m\u001b[0;34m**\u001b[0m\u001b[0;34m(\u001b[0m\u001b[0mlEmin\u001b[0m\u001b[0;34m-\u001b[0m\u001b[0mlEmax\u001b[0m\u001b[0;34m)\u001b[0m\u001b[0;34m)\u001b[0m\u001b[0;34m\u001b[0m\u001b[0;34m\u001b[0m\u001b[0m\n\u001b[0m",
      "\u001b[0;31mNameError\u001b[0m: name 'Evals' is not defined"
     ]
    }
   ],
   "source": [
    "p_E_Eth = special.gammaincc(gamma, 10**(Evals-lEmax)) / special.gammaincc(gamma, 10**(lEmin-lEmax))"
   ]
  },
  {
   "cell_type": "markdown",
   "id": "dfc1e924",
   "metadata": {},
   "source": [
    "## Plot"
   ]
  },
  {
   "cell_type": "code",
   "execution_count": null,
   "id": "89abd605",
   "metadata": {},
   "outputs": [],
   "source": []
  },
  {
   "cell_type": "code",
   "execution_count": 5,
   "id": "dc65c3a5",
   "metadata": {},
   "outputs": [
    {
     "data": {
      "text/plain": [
       "71703773370405.95"
      ]
     },
     "execution_count": 5,
     "metadata": {},
     "output_type": "execute_result"
    }
   ],
   "source": [
    "norm = mpmath.gammainc(gamma, a=10.**(lEmin-lEmax))\n",
    "float(norm)"
   ]
  },
  {
   "cell_type": "code",
   "execution_count": 6,
   "id": "b35904c6",
   "metadata": {},
   "outputs": [],
   "source": [
    "numer = np.array([float(mpmath.gammainc(gamma, a=10.**(lEval-lEmax))) for lEval in lEvals])"
   ]
  },
  {
   "cell_type": "code",
   "execution_count": 7,
   "id": "ea7e6f68",
   "metadata": {},
   "outputs": [],
   "source": [
    "p_E_Eth = numer / float(norm)"
   ]
  },
  {
   "cell_type": "code",
   "execution_count": 8,
   "id": "249c8676",
   "metadata": {},
   "outputs": [],
   "source": [
    "ok = p_E_Eth > 0."
   ]
  },
  {
   "cell_type": "code",
   "execution_count": 9,
   "id": "0634fa57",
   "metadata": {},
   "outputs": [
    {
     "data": {
      "text/plain": [
       "<AxesSubplot:>"
      ]
     },
     "execution_count": 9,
     "metadata": {},
     "output_type": "execute_result"
    },
    {
     "data": {
      "image/png": "[encoded data removed]",
      "text/plain": [
       "<Figure size 432x288 with 1 Axes>"
      ]
     },
     "metadata": {
      "needs_background": "light"
     },
     "output_type": "display_data"
    }
   ],
   "source": [
    "sns.lineplot(x=lEvals[ok], y=np.log10(p_E_Eth[ok]))"
   ]
  },
  {
   "cell_type": "code",
   "execution_count": 47,
   "id": "ae9633b4",
   "metadata": {},
   "outputs": [
    {
     "data": {
      "text/plain": [
       "array([1.00000000e+000, 6.67179086e-001, 4.45127933e-001, 2.96980048e-001,\n",
       "       1.98138877e-001, 1.32194115e-001, 8.81971488e-002, 5.88432931e-002,\n",
       "       3.92590145e-002, 2.61927934e-002, 1.74752840e-002, 1.16591440e-002,\n",
       "       7.77873705e-003, 5.18981067e-003, 3.46253314e-003, 2.31012970e-003,\n",
       "       1.54127022e-003, 1.02830326e-003, 6.86062426e-004, 4.57726502e-004,\n",
       "       3.05385549e-004, 2.03746851e-004, 1.35935637e-004, 9.06934136e-005,\n",
       "       6.05087483e-005, 4.03701709e-005, 2.69341332e-005, 1.79698900e-005,\n",
       "       1.19891343e-005, 7.99889930e-006, 5.33669796e-006, 3.56053292e-006,\n",
       "       2.37551277e-006, 1.58489213e-006, 1.05740659e-006, 7.05479288e-007,\n",
       "       4.70680768e-007, 3.14028122e-007, 2.09512768e-007, 1.39782323e-007,\n",
       "       9.32596416e-008, 6.22206940e-008, 4.15121691e-008, 2.76958854e-008,\n",
       "       1.84779605e-008, 1.23279636e-008, 8.22482379e-009, 5.48730358e-009,\n",
       "       3.66089576e-009, 2.44236261e-009, 1.62939030e-009, 1.08699929e-009,\n",
       "       7.25134077e-010, 4.83711536e-010, 3.22645482e-010, 2.15191268e-010,\n",
       "       1.43505443e-010, 9.56832466e-011, 6.37820879e-011, 4.25028502e-011,\n",
       "       2.83100880e-011, 1.88450392e-011, 1.25339991e-011, 8.32703642e-012,\n",
       "       5.52366934e-012, 3.65656083e-012, 2.41392212e-012, 1.58774197e-012,\n",
       "       1.03924621e-012, 6.75852868e-013, 4.35796949e-013, 2.77872063e-013,\n",
       "       1.74585970e-013, 1.07593730e-013, 6.46504668e-014, 3.75781528e-014,\n",
       "       2.09093242e-014, 1.09832123e-014, 5.34500977e-015, 2.34913687e-015,\n",
       "       9.00289409e-016, 2.86594830e-016, 7.08086270e-017, 1.23417659e-017,\n",
       "       1.32604361e-018, 7.25413731e-020, 1.54012871e-021, 8.62932210e-024,\n",
       "       7.37783143e-027, 4.42192098e-031, 6.16070112e-037, 4.16805586e-045,\n",
       "       1.48631058e-056, 1.19882647e-072, 2.51954459e-095, 2.46452896e-127,\n",
       "       1.42725196e-172, 1.47142936e-236, 0.00000000e+000, 0.00000000e+000])"
      ]
     },
     "execution_count": 47,
     "metadata": {},
     "output_type": "execute_result"
    }
   ],
   "source": [
    "p_E_Eth"
   ]
  },
  {
   "cell_type": "markdown",
   "id": "a056f565",
   "metadata": {},
   "source": [
    "## If this is too slow, we can use the recurrence relations + scipy"
   ]
  },
  {
   "cell_type": "markdown",
   "id": "2628010f",
   "metadata": {},
   "source": [
    "----"
   ]
  },
  {
   "cell_type": "markdown",
   "id": "7c310360",
   "metadata": {},
   "source": [
    "# Testing"
   ]
  },
  {
   "cell_type": "code",
   "execution_count": 69,
   "id": "615ac524",
   "metadata": {},
   "outputs": [],
   "source": [
    "Erand = np.random.uniform(size=20, low=39., high=42.)"
   ]
  },
  {
   "cell_type": "code",
   "execution_count": 70,
   "id": "80e9628e",
   "metadata": {},
   "outputs": [
    {
     "data": {
      "text/plain": [
       "array([39.11789784, 39.29858601, 39.81343426, 41.25465453, 41.80920106,\n",
       "       39.82369355, 41.14204091, 40.73041224, 40.94387669, 40.31473306,\n",
       "       40.0329512 , 40.83123824, 40.01546378, 39.90560488, 39.1270201 ,\n",
       "       40.60141623, 39.88830789, 39.87793268, 40.90425401, 41.05667958])"
      ]
     },
     "execution_count": 70,
     "metadata": {},
     "output_type": "execute_result"
    }
   ],
   "source": [
    "Erand"
   ]
  },
  {
   "cell_type": "code",
   "execution_count": 71,
   "id": "23453922",
   "metadata": {},
   "outputs": [],
   "source": [
    "lEmin = 30."
   ]
  },
  {
   "cell_type": "markdown",
   "id": "3a80abc7",
   "metadata": {},
   "source": [
    "## Emax = 42."
   ]
  },
  {
   "cell_type": "code",
   "execution_count": 72,
   "id": "d571b3c2",
   "metadata": {},
   "outputs": [
    {
     "data": {
      "text/plain": [
       "array([2.34007029e-50, 9.52025319e-51, 7.32172943e-52, 4.74615969e-55,\n",
       "       1.89101512e-56, 6.95642437e-52, 8.65800660e-55, 7.30167350e-54,\n",
       "       2.44072981e-54, 5.96582145e-53, 2.44679800e-52, 4.36051358e-54,\n",
       "       2.67027416e-52, 4.62228719e-52, 2.23621072e-50, 1.40621875e-53,\n",
       "       5.03912181e-52, 5.30694496e-52, 2.99524616e-54, 1.35689484e-54])"
      ]
     },
     "execution_count": 72,
     "metadata": {},
     "output_type": "execute_result"
    }
   ],
   "source": [
    "reload(zdm)\n",
    "p_E_42 = zdm.vector_diff_gamma(10**Erand, 10**lEmin, 10**42., gamma)\n",
    "p_E_42"
   ]
  },
  {
   "cell_type": "markdown",
   "id": "64c4a232",
   "metadata": {},
   "source": [
    "## Emax = 44."
   ]
  },
  {
   "cell_type": "code",
   "execution_count": 73,
   "id": "be442f7d",
   "metadata": {},
   "outputs": [],
   "source": [
    "p_E_44 = zdm.vector_diff_gamma(10**Erand, 10**lEmin, 10**44., gamma)"
   ]
  },
  {
   "cell_type": "code",
   "execution_count": 74,
   "id": "e5d9890a",
   "metadata": {},
   "outputs": [
    {
     "data": {
      "text/plain": [
       "array([2.34311149e-50, 9.53901597e-51, 7.36905359e-52, 5.67052904e-55,\n",
       "       3.57919052e-56, 7.00246572e-52, 9.93224237e-55, 7.70076910e-54,\n",
       "       2.66258012e-54, 6.08898534e-53, 2.47307076e-52, 4.66325249e-54,\n",
       "       2.69780911e-52, 4.65925536e-52, 2.23917867e-50, 1.46293648e-53,\n",
       "       5.07784412e-52, 5.34675903e-52, 3.24280592e-54, 1.51892122e-54])"
      ]
     },
     "execution_count": 74,
     "metadata": {},
     "output_type": "execute_result"
    }
   ],
   "source": [
    "p_E_44"
   ]
  },
  {
   "cell_type": "code",
   "execution_count": 75,
   "id": "6c519b57",
   "metadata": {},
   "outputs": [
    {
     "data": {
      "text/plain": [
       "array([0.99870207, 0.99803305, 0.99357799, 0.83698711, 0.52833598,\n",
       "       0.99342498, 0.87170714, 0.94817458, 0.91667845, 0.97977267,\n",
       "       0.98937646, 0.93507988, 0.98979359, 0.99206565, 0.99867454,\n",
       "       0.96123021, 0.99237426, 0.99255361, 0.92365878, 0.89332799])"
      ]
     },
     "execution_count": 75,
     "metadata": {},
     "output_type": "execute_result"
    }
   ],
   "source": [
    "p_E_42 / p_E_44"
   ]
  },
  {
   "cell_type": "markdown",
   "id": "20e0079e",
   "metadata": {},
   "source": [
    "## Plot em"
   ]
  },
  {
   "cell_type": "code",
   "execution_count": 40,
   "id": "ffcbee87",
   "metadata": {},
   "outputs": [],
   "source": [
    "lEval = np.linspace(35., 47, 100)\n",
    "Eval = 10**lEval"
   ]
  },
  {
   "cell_type": "code",
   "execution_count": 52,
   "id": "6f2f5276",
   "metadata": {},
   "outputs": [],
   "source": [
    "Emin = 10**lEmin"
   ]
  },
  {
   "cell_type": "code",
   "execution_count": 53,
   "id": "c245bac3",
   "metadata": {},
   "outputs": [],
   "source": [
    "Emax = 10**42.\n",
    "norm = Emax*float(mpmath.gammainc(gamma, a=Emin/Emax))\n",
    "p_Ev_42 = (Eval/Emax)**(gamma-1) * np.exp(-Eval/Emax) / norm"
   ]
  },
  {
   "cell_type": "code",
   "execution_count": 54,
   "id": "c3adeea3",
   "metadata": {},
   "outputs": [],
   "source": [
    "Emax = 10**44.\n",
    "norm = Emax*float(mpmath.gammainc(gamma, a=Emin/Emax))\n",
    "p_Ev_44 = (Eval/Emax)**(gamma-1) * np.exp(-Eval/Emax) / norm"
   ]
  },
  {
   "cell_type": "code",
   "execution_count": 55,
   "id": "22c12311",
   "metadata": {},
   "outputs": [
    {
     "data": {
      "text/plain": [
       "<matplotlib.legend.Legend at 0x7f53d26fbc10>"
      ]
     },
     "execution_count": 55,
     "metadata": {},
     "output_type": "execute_result"
    },
    {
     "data": {
      "image/png": "[encoded data removed]",
      "text/plain": [
       "<Figure size 432x288 with 1 Axes>"
      ]
     },
     "metadata": {
      "needs_background": "light"
     },
     "output_type": "display_data"
    }
   ],
   "source": [
    "plt.clf()\n",
    "ax = plt.gca()\n",
    "# 42\n",
    "ok42 = p_Ev_42 > 0.\n",
    "ax.plot(lEval[ok42], np.log10(p_Ev_42[ok42]), label='42')\n",
    "# 44\n",
    "ok44 = p_Ev_44 > 0.\n",
    "ax.plot(lEval[ok44], np.log10(p_Ev_44[ok44]), label='44')\n",
    "#\n",
    "#ax.set_ylim(-70., -40.)\n",
    "#ax.set_xlim(39., 42.)\n",
    "#\n",
    "ax.legend()"
   ]
  },
  {
   "cell_type": "code",
   "execution_count": 56,
   "id": "710daaa4",
   "metadata": {},
   "outputs": [
    {
     "name": "stderr",
     "output_type": "stream",
     "text": [
      "/tmp/ipykernel_4080641/1367843270.py:1: RuntimeWarning: invalid value encountered in true_divide\n",
      "  p_Ev_42 / p_Ev_44\n"
     ]
    },
    {
     "data": {
      "text/plain": [
       "array([9.99999901e-001, 9.99999869e-001, 9.99999827e-001, 9.99999771e-001,\n",
       "       9.99999698e-001, 9.99999600e-001, 9.99999472e-001, 9.99999302e-001,\n",
       "       9.99999077e-001, 9.99998779e-001, 9.99998387e-001, 9.99997867e-001,\n",
       "       9.99997180e-001, 9.99996273e-001, 9.99995073e-001, 9.99993486e-001,\n",
       "       9.99991390e-001, 9.99988617e-001, 9.99984953e-001, 9.99980109e-001,\n",
       "       9.99973705e-001, 9.99965240e-001, 9.99954049e-001, 9.99939256e-001,\n",
       "       9.99919701e-001, 9.99893851e-001, 9.99859680e-001, 9.99814509e-001,\n",
       "       9.99754800e-001, 9.99675872e-001, 9.99571544e-001, 9.99433646e-001,\n",
       "       9.99251382e-001, 9.99010490e-001, 9.98692134e-001, 9.98271443e-001,\n",
       "       9.97715585e-001, 9.96981249e-001, 9.96011329e-001, 9.94730600e-001,\n",
       "       9.93040079e-001, 9.90809718e-001, 9.87868998e-001, 9.83994931e-001,\n",
       "       9.78896949e-001, 9.72198230e-001, 9.63413218e-001, 9.51921664e-001,\n",
       "       9.36940603e-001, 9.17497750e-001, 8.92413274e-001, 8.60302509e-001,\n",
       "       8.19620323e-001, 7.68778267e-001, 7.06375734e-001, 6.31588443e-001,\n",
       "       5.44735556e-001, 4.47974252e-001, 3.45921105e-001, 2.45784677e-001,\n",
       "       1.56440544e-001, 8.60948578e-002, 3.90933200e-002, 1.37670989e-002,\n",
       "       3.46464889e-003, 5.59209185e-004, 5.01746821e-005, 2.07154186e-006,\n",
       "       3.06531269e-008, 1.16832009e-010, 7.41141786e-014, 4.39321284e-018,\n",
       "       1.13443502e-023, 4.65338544e-031, 7.99053304e-041, 9.85291960e-054,\n",
       "       8.48422855e-071, 2.34287624e-093, 3.53394731e-123, 1.33661486e-162,\n",
       "       1.02826923e-214, 0.00000000e+000, 0.00000000e+000, 0.00000000e+000,\n",
       "       0.00000000e+000, 0.00000000e+000, 0.00000000e+000, 0.00000000e+000,\n",
       "       0.00000000e+000, 0.00000000e+000, 0.00000000e+000, 0.00000000e+000,\n",
       "       0.00000000e+000, 0.00000000e+000, 0.00000000e+000, 0.00000000e+000,\n",
       "       0.00000000e+000, 0.00000000e+000,             nan,             nan])"
      ]
     },
     "execution_count": 56,
     "metadata": {},
     "output_type": "execute_result"
    }
   ],
   "source": [
    "p_Ev_42 / p_Ev_44"
   ]
  },
  {
   "cell_type": "markdown",
   "id": "e30c0fa9",
   "metadata": {},
   "source": [
    "### Cumulative"
   ]
  },
  {
   "cell_type": "code",
   "execution_count": 27,
   "id": "d8400e80",
   "metadata": {},
   "outputs": [
    {
     "data": {
      "text/plain": [
       "<module 'zdm.zdm' from '/data/Projects/FRB_Software/zdm/zdm/zdm.py'>"
      ]
     },
     "execution_count": 27,
     "metadata": {},
     "output_type": "execute_result"
    }
   ],
   "source": [
    "reload(zdm)"
   ]
  },
  {
   "cell_type": "code",
   "execution_count": 28,
   "id": "137be16c",
   "metadata": {},
   "outputs": [],
   "source": [
    "cum_Ev_42 = zdm.array_cum_gamma(Eval, Emin, 10**42, gamma)\n",
    "cum_Ev_44 = zdm.array_cum_gamma(Eval, Emin, 10**44, gamma)"
   ]
  },
  {
   "cell_type": "code",
   "execution_count": 29,
   "id": "050a6115",
   "metadata": {},
   "outputs": [
    {
     "data": {
      "text/plain": [
       "<matplotlib.legend.Legend at 0x7f53d295e8e0>"
      ]
     },
     "execution_count": 29,
     "metadata": {},
     "output_type": "execute_result"
    },
    {
     "data": {
      "image/png": "[encoded data removed]",
      "text/plain": [
       "<Figure size 432x288 with 1 Axes>"
      ]
     },
     "metadata": {
      "needs_background": "light"
     },
     "output_type": "display_data"
    }
   ],
   "source": [
    "plt.clf()\n",
    "ax = plt.gca()\n",
    "# 42\n",
    "ax.plot(lEval, cum_Ev_42, label='42')\n",
    "# 44\n",
    "ax.plot(lEval, cum_Ev_44, label='44')\n",
    "#\n",
    "#ax.set_ylim(-70., -40.)\n",
    "#ax.set_xlim(39., 42.)\n",
    "#\n",
    "ax.legend()"
   ]
  },
  {
   "cell_type": "code",
   "execution_count": 32,
   "id": "8555eaa2",
   "metadata": {},
   "outputs": [
    {
     "name": "stderr",
     "output_type": "stream",
     "text": [
      "/tmp/ipykernel_4080641/272146299.py:1: RuntimeWarning: invalid value encountered in true_divide\n",
      "  cum_Ev_42 / cum_Ev_44\n"
     ]
    },
    {
     "data": {
      "text/plain": [
       "array([0.99967045, 0.99959106, 0.99949255, 0.99937031, 0.99921861,\n",
       "       0.99903037, 0.99879679, 0.99850693, 0.99814724, 0.9977009 ,\n",
       "       0.99714704, 0.99645974, 0.99560687, 0.99454853, 0.99323522,\n",
       "       0.99160551, 0.98958316, 0.98707357, 0.98395933, 0.98009473,\n",
       "       0.97529895, 0.96934755, 0.96196197, 0.95279647, 0.94142185,\n",
       "       0.92730534, 0.90978548, 0.88804095, 0.8610518 , 0.82755118,\n",
       "       0.78596521, 0.73433799, 0.67023807, 0.59064147, 0.49178527,\n",
       "       0.36898395, 0.21639824, 0.02674368, 0.        , 0.        ,\n",
       "       0.        , 0.        , 0.        , 0.        , 0.        ,\n",
       "       0.        , 0.        , 0.        , 0.        , 0.        ,\n",
       "       0.        , 0.        , 0.        , 0.        , 0.        ,\n",
       "       0.        , 0.        , 0.        , 0.        , 0.        ,\n",
       "       0.        , 0.        ,        nan,        nan,        nan,\n",
       "              nan,        nan,        nan,        nan,        nan,\n",
       "              nan,        nan,        nan,        nan,        nan,\n",
       "              nan,        nan,        nan,        nan,        nan,\n",
       "              nan,        nan,        nan,        nan,        nan,\n",
       "              nan,        nan,        nan,        nan,        nan,\n",
       "              nan,        nan,        nan,        nan,        nan,\n",
       "              nan,        nan,        nan,        nan,        nan])"
      ]
     },
     "execution_count": 32,
     "metadata": {},
     "output_type": "execute_result"
    }
   ],
   "source": [
    "cum_Ev_42 / cum_Ev_44"
   ]
  },
  {
   "cell_type": "code",
   "execution_count": null,
   "id": "cd4b0d21",
   "metadata": {},
   "outputs": [],
   "source": []
  }
 ],
 "metadata": {
  "kernelspec": {
   "display_name": "Python 3 (ipykernel)",
   "language": "python",
   "name": "python3"
  },
  "language_info": {
   "codemirror_mode": {
    "name": "ipython",
    "version": 3
   },
   "file_extension": ".py",
   "mimetype": "text/x-python",
   "name": "python",
   "nbconvert_exporter": "python",
   "pygments_lexer": "ipython3",
   "version": "3.8.5"
  }
 },
 "nbformat": 4,
 "nbformat_minor": 5
}
